{
 "cells": [
  {
   "cell_type": "markdown",
   "metadata": {},
   "source": [
    "# Writing Files"
   ]
  },
  {
   "cell_type": "markdown",
   "metadata": {},
   "source": [
    "writing content = easiest way to store conent in our database storage and safe the data by storing in to particular file and safe it on hard disk \n",
    "\n",
    "will allow us to access the data in different notebooks later on "
   ]
  },
  {
   "cell_type": "code",
   "execution_count": 16,
   "metadata": {},
   "outputs": [],
   "source": [
    "#model that suports reading and writing \n",
    "f = open (\"log.text\", \"w+\")"
   ]
  },
  {
   "cell_type": "markdown",
   "metadata": {},
   "source": [
    "- R: the default mode. this opens a file for reading. \n",
    "- W: the writing mode: writing, creating new file if the files does not exist, and overwirtes the content if the file already exists. \n",
    "- X: creates a new file. Does only work if no file exists yet \n",
    "- A: open a file in append mode, and creates a new file f the file does not exist \n",
    "- B: this opens a file in binary mode \n"
   ]
  },
  {
   "cell_type": "markdown",
   "metadata": {},
   "source": [
    "\n",
    "## Exc. 60 Creating and Writing Content to files to record the Data and time in a Text file \n"
   ]
  },
  {
   "cell_type": "code",
   "execution_count": 22,
   "metadata": {},
   "outputs": [],
   "source": [
    "#we open the log text, and than the write mode \n",
    "f = open(\"log.txt\", \"w\") \n",
    "\n"
   ]
  },
  {
   "cell_type": "code",
   "execution_count": 23,
   "metadata": {},
   "outputs": [
    {
     "name": "stdout",
     "output_type": "stream",
     "text": [
      "2020-04-01_10:52:48 -  0\n",
      "2020-04-01_10:52:49 -  1\n",
      "2020-04-01_10:52:50 -  2\n",
      "2020-04-01_10:52:51 -  3\n",
      "2020-04-01_10:52:52 -  4\n",
      "2020-04-01_10:52:53 -  5\n",
      "2020-04-01_10:52:54 -  6\n",
      "2020-04-01_10:52:55 -  7\n",
      "2020-04-01_10:52:56 -  8\n",
      "2020-04-01_10:52:57 -  9\n"
     ]
    }
   ],
   "source": [
    "#import the two modules from pythong (datetime and time)\n",
    "from datetime import datetime\n",
    "import time\n",
    "\n",
    "# for loop to print the year, month and day, and hour, sec, min \n",
    "for i in range(0,10):\n",
    "    print(datetime.now().strftime('%Y-%m-%d_%H:%M:%S - '),i)\n",
    "    \n",
    "    #write funtion, to add to previous condtion \n",
    "    f.write(datetime.now().strftime('%Y-%m-%d_%H:%M:%S - ')); \n",
    "    time.sleep(1)\n",
    "    f.write(str(i));\n",
    "    f.write(\"\\n\")\n",
    "#CLOSE METHOD\n",
    "f.close()"
   ]
  },
  {
   "cell_type": "markdown",
   "metadata": {},
   "source": [
    "carful: to open (and run fuction) the file that is being refered to \n"
   ]
  },
  {
   "cell_type": "markdown",
   "metadata": {},
   "source": [
    "we have just created a new text file ! \n",
    "which is now being stored in the main folder"
   ]
  },
  {
   "cell_type": "code",
   "execution_count": null,
   "metadata": {},
   "outputs": [],
   "source": []
  }
 ],
 "metadata": {
  "kernelspec": {
   "display_name": "Python 3",
   "language": "python",
   "name": "python3"
  },
  "language_info": {
   "codemirror_mode": {
    "name": "ipython",
    "version": 3
   },
   "file_extension": ".py",
   "mimetype": "text/x-python",
   "name": "python",
   "nbconvert_exporter": "python",
   "pygments_lexer": "ipython3",
   "version": "3.7.6"
  }
 },
 "nbformat": 4,
 "nbformat_minor": 4
}
