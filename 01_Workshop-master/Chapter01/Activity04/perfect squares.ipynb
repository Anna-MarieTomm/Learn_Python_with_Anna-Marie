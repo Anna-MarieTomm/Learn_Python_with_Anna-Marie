{
 "cells": [
  {
   "cell_type": "code",
   "execution_count": 75,
   "metadata": {},
   "outputs": [
    {
     "name": "stdout",
     "output_type": "stream",
     "text": [
      "please enter a number of your choise\n",
      "9772\n"
     ]
    }
   ],
   "source": [
    "print (\"please enter a number of your choise\")\n",
    "number = input()\n"
   ]
  },
  {
   "cell_type": "code",
   "execution_count": 76,
   "metadata": {},
   "outputs": [],
   "source": [
    "#gives the absolute number of the input variable\n",
    "number = abs(int(number))"
   ]
  },
  {
   "cell_type": "code",
   "execution_count": 77,
   "metadata": {},
   "outputs": [],
   "source": [
    "#sets the inital value \n",
    "i= 1\n",
    "\n",
    "    "
   ]
  },
  {
   "cell_type": "code",
   "execution_count": 78,
   "metadata": {},
   "outputs": [],
   "source": [
    "\n",
    "#starting point, boolean for squard\n",
    "\n",
    "square = False"
   ]
  },
  {
   "cell_type": "code",
   "execution_count": 79,
   "metadata": {},
   "outputs": [
    {
     "name": "stdout",
     "output_type": "stream",
     "text": [
      "the squard root of 9772 is: 99\n"
     ]
    }
   ],
   "source": [
    "#as long as i is samaler or same than the root squard of the number\n",
    "# add one to the i\n",
    "\n",
    "while i <= number**0.5: \n",
    "    i +=1\n",
    "    # test if i*i = number \n",
    "    if i*i == number: \n",
    "        #if yes: True\n",
    "        squard = True\n",
    "        #stop the loop \n",
    "        break\n",
    "        #if true than print the number of the quard root\n",
    "    \n",
    "if squard: \n",
    "    print (\"the squard root of\", number, \"is:\", i)\n",
    "            \n",
    "else: \n",
    "    print (\"\", number, \"is not a perfect square.\")"
   ]
  },
  {
   "cell_type": "code",
   "execution_count": null,
   "metadata": {},
   "outputs": [],
   "source": []
  },
  {
   "cell_type": "code",
   "execution_count": null,
   "metadata": {},
   "outputs": [],
   "source": []
  }
 ],
 "metadata": {
  "kernelspec": {
   "display_name": "Python 3",
   "language": "python",
   "name": "python3"
  },
  "language_info": {
   "codemirror_mode": {
    "name": "ipython",
    "version": 3
   },
   "file_extension": ".py",
   "mimetype": "text/x-python",
   "name": "python",
   "nbconvert_exporter": "python",
   "pygments_lexer": "ipython3",
   "version": "3.7.6"
  }
 },
 "nbformat": 4,
 "nbformat_minor": 4
}
