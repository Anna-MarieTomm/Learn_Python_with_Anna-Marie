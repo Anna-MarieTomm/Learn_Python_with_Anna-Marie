{
 "cells": [
  {
   "cell_type": "code",
   "execution_count": 34,
   "metadata": {},
   "outputs": [
    {
     "name": "stdout",
     "output_type": "stream",
     "text": [
      "A one bedroom in London is listed at GBP 100,000\n",
      "please insert your FIRST offer\n",
      "90000\n"
     ]
    }
   ],
   "source": [
    "#Real estate offer (ask to bid)\n",
    "print(\"A one bedroom in London is listed at GBP 100,000\")\n",
    "\n",
    "print(\"please insert your FIRST offer\")\n",
    "\n",
    "\n",
    "offer = abs(int(input ()))\n"
   ]
  },
  {
   "cell_type": "code",
   "execution_count": 35,
   "metadata": {},
   "outputs": [
    {
     "name": "stdout",
     "output_type": "stream",
     "text": [
      "enter your BEST offer\n",
      "100000\n"
     ]
    }
   ],
   "source": [
    "print (\"enter your BEST offer\")\n",
    "best = abs(int(input()))\n"
   ]
  },
  {
   "cell_type": "code",
   "execution_count": 36,
   "metadata": {},
   "outputs": [
    {
     "name": "stdout",
     "output_type": "stream",
     "text": [
      "how much more are you offering after each round?\n",
      "3000\n"
     ]
    }
   ],
   "source": [
    "print(\"how much more are you offering after each round?\")\n",
    "increment =abs(int(input()))"
   ]
  },
  {
   "cell_type": "code",
   "execution_count": 37,
   "metadata": {},
   "outputs": [],
   "source": [
    "offer_accepted = False "
   ]
  },
  {
   "cell_type": "code",
   "execution_count": 39,
   "metadata": {},
   "outputs": [
    {
     "name": "stdout",
     "output_type": "stream",
     "text": [
      "yor offer of:  90000  pounds has been accepted!, congrats to your house\n"
     ]
    }
   ],
   "source": [
    "while offer <= best: \n",
    "    if offer >= 65000: \n",
    "        offer_accepted = True\n",
    "        print (\"yor offer of: \", offer, \" pounds has been accepted!, congrats to your house\")\n",
    "    break \n",
    "    offer+= increment\n",
    "    print(\"we are sorry your offer is to low, you only offered\", offer)\n"
   ]
  },
  {
   "cell_type": "code",
   "execution_count": null,
   "metadata": {},
   "outputs": [],
   "source": []
  },
  {
   "cell_type": "code",
   "execution_count": 29,
   "metadata": {},
   "outputs": [],
   "source": []
  },
  {
   "cell_type": "code",
   "execution_count": null,
   "metadata": {},
   "outputs": [],
   "source": []
  },
  {
   "cell_type": "code",
   "execution_count": null,
   "metadata": {},
   "outputs": [],
   "source": []
  }
 ],
 "metadata": {
  "kernelspec": {
   "display_name": "Python 3",
   "language": "python",
   "name": "python3"
  },
  "language_info": {
   "codemirror_mode": {
    "name": "ipython",
    "version": 3
   },
   "file_extension": ".py",
   "mimetype": "text/x-python",
   "name": "python",
   "nbconvert_exporter": "python",
   "pygments_lexer": "ipython3",
   "version": "3.7.6"
  }
 },
 "nbformat": 4,
 "nbformat_minor": 4
}
