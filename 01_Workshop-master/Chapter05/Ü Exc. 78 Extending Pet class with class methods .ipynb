{
 "cells": [
  {
   "cell_type": "code",
   "execution_count": 158,
   "metadata": {},
   "outputs": [],
   "source": [
    "class Pet(): \n",
    "    #must be defined in the super class! \n",
    "    #class attributes \n",
    "    \n",
    "    #Initalize\n",
    "    def __init__ (self, name, age=None, height=randi_pandi): \n",
    "    \n",
    "        self.name = name \n",
    "        self.age = age \n",
    "        self.height =height\n",
    "        \n",
    "    onwed = \"Anna-Marie Tomm\" \n",
    "    is_human =False \n",
    "    \n",
    "    #adding of classmethods (you use NOT the self argument but rather the class)\n",
    "    @classmethod   \n",
    "    def onwed_by_Tomm_family(cls): \n",
    "        return \"Tomm\" in cls.onwed\n",
    "    \n",
    "    #import the random model \n",
    "    import random \n",
    "    @classmethod \n",
    "    def randi_pandi (cls): \n",
    "        height = random.randrange(0,100)\n",
    "        return cls(height)\n",
    "    \n",
    "        \n",
    "    \n",
    "\n",
    "#classmethod, as for all the pets (not only for one)\n",
    "   "
   ]
  },
  {
   "cell_type": "markdown",
   "metadata": {},
   "source": [
    "pets with random heights \n",
    "->> import random module\n"
   ]
  },
  {
   "cell_type": "code",
   "execution_count": 159,
   "metadata": {},
   "outputs": [
    {
     "name": "stdout",
     "output_type": "stream",
     "text": [
      "<classmethod object at 0x10ec82110>\n",
      "<classmethod object at 0x10ec82110>\n",
      "<classmethod object at 0x10ec82110>\n",
      "<classmethod object at 0x10ec82110>\n",
      "<classmethod object at 0x10ec82110>\n"
     ]
    }
   ],
   "source": [
    "for i in range(5):\n",
    "    pet = Pet.randi_pandi()\n",
    "    print(pet.height)"
   ]
  },
  {
   "cell_type": "code",
   "execution_count": null,
   "metadata": {},
   "outputs": [],
   "source": []
  },
  {
   "cell_type": "code",
   "execution_count": null,
   "metadata": {},
   "outputs": [],
   "source": []
  },
  {
   "cell_type": "code",
   "execution_count": null,
   "metadata": {},
   "outputs": [],
   "source": []
  },
  {
   "cell_type": "code",
   "execution_count": null,
   "metadata": {},
   "outputs": [],
   "source": []
  },
  {
   "cell_type": "code",
   "execution_count": null,
   "metadata": {},
   "outputs": [],
   "source": []
  }
 ],
 "metadata": {
  "kernelspec": {
   "display_name": "Python 3",
   "language": "python",
   "name": "python3"
  },
  "language_info": {
   "codemirror_mode": {
    "name": "ipython",
    "version": 3
   },
   "file_extension": ".py",
   "mimetype": "text/x-python",
   "name": "python",
   "nbconvert_exporter": "python",
   "pygments_lexer": "ipython3",
   "version": "3.7.6"
  }
 },
 "nbformat": 4,
 "nbformat_minor": 4
}
