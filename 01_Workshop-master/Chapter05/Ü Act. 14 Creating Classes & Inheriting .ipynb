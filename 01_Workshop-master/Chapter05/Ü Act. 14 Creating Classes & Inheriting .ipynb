{
 "cells": [
  {
   "cell_type": "markdown",
   "metadata": {},
   "source": [
    "Suppose you are writing a computer game where the graphics are made up of various types of shapes. Each shape has certain properties, such as the number of edges, area, color, and so on. The shapes also behave in different ways. You want to be able to customize the way each shape behaves independently, while also not duplicating any code between the definition of each shape."
   ]
  },
  {
   "cell_type": "markdown",
   "metadata": {},
   "source": [
    "parent class:\n",
    "- Polygon\n",
    "\n",
    "child classes:\n",
    "- rectange\n",
    "- square "
   ]
  },
  {
   "cell_type": "code",
   "execution_count": 59,
   "metadata": {},
   "outputs": [],
   "source": [
    "class Polygon():\n",
    "    \n",
    "    \"\"\"\n",
    "    The Polygon is the parent class for the other shapes\n",
    "    \"\"\"\n",
    "    \n",
    "    def __init__ (self, side_lenghts):\n",
    "    \n",
    "        self.side_lenghts = side_lenghts\n",
    "       \n",
    "\n",
    "    def __str__(self):\n",
    "        return \"Polygon with %s\"% self.num_sides\n",
    "    \n",
    "    @property\n",
    "    def num_sides (self):\n",
    "        return len(self.side_lenghts)\n",
    "    \n",
    "    @property \n",
    "    def perimeter (self): \n",
    "        return sum(self.side_lenghts)\n",
    "\n",
    "\n",
    "        \n"
   ]
  },
  {
   "cell_type": "code",
   "execution_count": 65,
   "metadata": {},
   "outputs": [],
   "source": [
    "class Rectangle(Polygon):\n",
    "    def __init__(self, height, width): \n",
    "        super().__init__ ([height, width, height, width])\n",
    "        \n",
    "    @property\n",
    "    def area(self): \n",
    "        return self.side_lenghts[0] * self.side_lenghts[1]\n",
    "        "
   ]
  },
  {
   "cell_type": "code",
   "execution_count": 67,
   "metadata": {},
   "outputs": [
    {
     "data": {
      "text/plain": [
       "4"
      ]
     },
     "execution_count": 67,
     "metadata": {},
     "output_type": "execute_result"
    }
   ],
   "source": [
    "r = Rectangle(1,5)\n",
    "r.area\n",
    "r.num_sides"
   ]
  },
  {
   "cell_type": "code",
   "execution_count": 68,
   "metadata": {},
   "outputs": [],
   "source": [
    "class Square(Rectangle ): \n",
    "    def __init__(self, height): \n",
    "        super(). __init__ (height, height)"
   ]
  },
  {
   "cell_type": "code",
   "execution_count": 73,
   "metadata": {},
   "outputs": [
    {
     "data": {
      "text/plain": [
       "25"
      ]
     },
     "execution_count": 73,
     "metadata": {},
     "output_type": "execute_result"
    }
   ],
   "source": [
    "s = Square(5)\n",
    "s.area"
   ]
  },
  {
   "cell_type": "code",
   "execution_count": null,
   "metadata": {},
   "outputs": [],
   "source": []
  },
  {
   "cell_type": "code",
   "execution_count": null,
   "metadata": {},
   "outputs": [],
   "source": []
  }
 ],
 "metadata": {
  "kernelspec": {
   "display_name": "Python 3",
   "language": "python",
   "name": "python3"
  },
  "language_info": {
   "codemirror_mode": {
    "name": "ipython",
    "version": 3
   },
   "file_extension": ".py",
   "mimetype": "text/x-python",
   "name": "python",
   "nbconvert_exporter": "python",
   "pygments_lexer": "ipython3",
   "version": "3.7.6"
  }
 },
 "nbformat": 4,
 "nbformat_minor": 4
}
