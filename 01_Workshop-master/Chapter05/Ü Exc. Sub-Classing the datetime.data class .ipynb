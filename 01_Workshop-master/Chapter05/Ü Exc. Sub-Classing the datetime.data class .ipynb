{
 "cells": [
  {
   "cell_type": "markdown",
   "metadata": {},
   "source": [
    "Subclassing from Python Packages\n",
    "\n",
    "- if you don´t want to write the parent class yourself but just extend it with addtional functions\n",
    "\n"
   ]
  },
  {
   "cell_type": "code",
   "execution_count": 5,
   "metadata": {},
   "outputs": [
    {
     "data": {
      "text/plain": [
       "False"
      ]
     },
     "execution_count": 5,
     "metadata": {},
     "output_type": "execute_result"
    }
   ],
   "source": [
    "#python class int \n",
    "class MyInt(int):\n",
    "    #cutomer instance \n",
    "    def is_divisible_by(self, x):\n",
    "        return self % x == 0\n",
    "a = MyInt(8)\n",
    "a.is_divisible_by(3)"
   ]
  },
  {
   "cell_type": "markdown",
   "metadata": {},
   "source": [
    "_______________________________________________\n",
    "\n",
    "Exc. 82 Sub-Clasing the datetime.date class "
   ]
  },
  {
   "cell_type": "code",
   "execution_count": 23,
   "metadata": {},
   "outputs": [
    {
     "name": "stdout",
     "output_type": "stream",
     "text": [
      "1996-07-11\n"
     ]
    }
   ],
   "source": [
    "import datetime as dt \n",
    "\n",
    "class MyDate (dt.date): \n",
    "    def add_days(self, add): \n",
    "        return self + dt.timedelta(add)\n",
    "    \n",
    "anna = MyDate (1996,5,3)\n",
    "print(anna.add_days (69))\n"
   ]
  },
  {
   "cell_type": "code",
   "execution_count": 26,
   "metadata": {},
   "outputs": [
    {
     "name": "stdout",
     "output_type": "stream",
     "text": [
      "2020-04-05\n"
     ]
    }
   ],
   "source": [
    "today= datetime.date.today()\n",
    "print(today)"
   ]
  },
  {
   "cell_type": "code",
   "execution_count": null,
   "metadata": {},
   "outputs": [],
   "source": []
  }
 ],
 "metadata": {
  "kernelspec": {
   "display_name": "Python 3",
   "language": "python",
   "name": "python3"
  },
  "language_info": {
   "codemirror_mode": {
    "name": "ipython",
    "version": 3
   },
   "file_extension": ".py",
   "mimetype": "text/x-python",
   "name": "python",
   "nbconvert_exporter": "python",
   "pygments_lexer": "ipython3",
   "version": "3.7.6"
  }
 },
 "nbformat": 4,
 "nbformat_minor": 4
}
