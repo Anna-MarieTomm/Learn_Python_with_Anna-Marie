{
 "cells": [
  {
   "cell_type": "code",
   "execution_count": 18,
   "metadata": {},
   "outputs": [],
   "source": [
    "class Pet():\n",
    "    def __init__(self, height, name):\n",
    "        self.height = height\n",
    "        self.name = name\n",
    "    is_human = False\n",
    "    owner = 'Michael Smith'\n",
    "    def __str__(self):\n",
    "        return '%s (height: %s cm)' % (self.name, self.height)"
   ]
  },
  {
   "cell_type": "code",
   "execution_count": 19,
   "metadata": {},
   "outputs": [
    {
     "name": "stdout",
     "output_type": "stream",
     "text": [
      "Mariana (height: 20 cm)\n"
     ]
    }
   ],
   "source": [
    "first_cat = Pet(20,\"Mariana\")\n",
    "print(first_cat)"
   ]
  },
  {
   "cell_type": "code",
   "execution_count": 20,
   "metadata": {},
   "outputs": [
    {
     "name": "stdout",
     "output_type": "stream",
     "text": [
      "Stephan (height: 30 cm)\n"
     ]
    }
   ],
   "source": [
    "second_cat = Pet(30,\"Stephan\")\n",
    "print(second_cat)"
   ]
  },
  {
   "cell_type": "code",
   "execution_count": 40,
   "metadata": {},
   "outputs": [],
   "source": [
    "class House():\n",
    "    def __init__ (self, size, city): \n",
    "        self.size= size\n",
    "        self.city= city \n",
    "    is_farm= False\n",
    "    buyer = \"Anna-Marie\"\n",
    "    def __str__ (self): \n",
    "        return '%s (size: %s qm)' % (self.city,self.size)"
   ]
  },
  {
   "cell_type": "code",
   "execution_count": 41,
   "metadata": {},
   "outputs": [
    {
     "name": "stdout",
     "output_type": "stream",
     "text": [
      "London (size: 60 qm)\n"
     ]
    }
   ],
   "source": [
    "first_purchase = House(60,\"London\")\n",
    "print(first_purchase)\n"
   ]
  },
  {
   "cell_type": "code",
   "execution_count": null,
   "metadata": {},
   "outputs": [],
   "source": []
  },
  {
   "cell_type": "code",
   "execution_count": null,
   "metadata": {},
   "outputs": [],
   "source": []
  }
 ],
 "metadata": {
  "kernelspec": {
   "display_name": "Python 3",
   "language": "python",
   "name": "python3"
  },
  "language_info": {
   "codemirror_mode": {
    "name": "ipython",
    "version": 3
   },
   "file_extension": ".py",
   "mimetype": "text/x-python",
   "name": "python",
   "nbconvert_exporter": "python",
   "pygments_lexer": "ipython3",
   "version": "3.7.6"
  }
 },
 "nbformat": 4,
 "nbformat_minor": 4
}
