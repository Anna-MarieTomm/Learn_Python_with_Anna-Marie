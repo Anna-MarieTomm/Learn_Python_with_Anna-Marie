{
 "cells": [
  {
   "cell_type": "code",
   "execution_count": 13,
   "metadata": {},
   "outputs": [],
   "source": [
    "class Quarantine(): \n",
    "    def __init__ (self, ill_scale=None, who=None, flat_size = None): \n",
    "        self.ill_scale = ill_scale\n",
    "        self.who = who\n",
    "        self.flat_size = flat_size\n",
    "        \n",
    "    #displays all information at all times \n",
    "    def __str__ (self): \n",
    "        return '%s (ill: %s on a 0-10 scale, in a flat of: %s qm)'% (self.who,self.ill_scale, self.flat_size)"
   ]
  },
  {
   "cell_type": "code",
   "execution_count": 50,
   "metadata": {},
   "outputs": [
    {
     "name": "stdout",
     "output_type": "stream",
     "text": [
      "Poppy (ill: 3 on a 0-10 scale, in a flat of: 100 qm)\n"
     ]
    }
   ],
   "source": [
    "Poppy = Quarantine(ill_scale= 3, who=\"Poppy\", flat_size =100)\n",
    "print(Poppy)"
   ]
  },
  {
   "cell_type": "markdown",
   "metadata": {},
   "source": [
    "the str method should only display the informatio if they are avaialbe "
   ]
  },
  {
   "cell_type": "code",
   "execution_count": 51,
   "metadata": {},
   "outputs": [],
   "source": [
    "class Subject(): \n",
    "    def __init__ (self, difficulty_level=None, name=None, teacher = None): \n",
    "        self.difficulty_level = difficulty_level\n",
    "        self.name = name\n",
    "        self.teacher = teacher\n",
    "        \n",
    "    #displays all information at all times \n",
    "    def __str__ (self): \n",
    "        label = self.name \n",
    "        if self.difficulty_level: \n",
    "            label= \"%s: is %s (of 10) hard\" %(label, self.difficulty_level)\n",
    "        if self.teacher: \n",
    "            label= \"%s: is thought by %s\" %(label, self.teacher)\n",
    "        return label"
   ]
  },
  {
   "cell_type": "code",
   "execution_count": 52,
   "metadata": {},
   "outputs": [
    {
     "name": "stdout",
     "output_type": "stream",
     "text": [
      "Math: is 5 (of 10) hard: is thought by Mulini\n"
     ]
    }
   ],
   "source": [
    "Math = Subject(name =\"Math\", difficulty_level=5, teacher=\"Mulini\")\n",
    "\n",
    "print(Math)"
   ]
  },
  {
   "cell_type": "code",
   "execution_count": null,
   "metadata": {},
   "outputs": [],
   "source": []
  },
  {
   "cell_type": "code",
   "execution_count": null,
   "metadata": {},
   "outputs": [],
   "source": []
  }
 ],
 "metadata": {
  "kernelspec": {
   "display_name": "Python 3",
   "language": "python",
   "name": "python3"
  },
  "language_info": {
   "codemirror_mode": {
    "name": "ipython",
    "version": 3
   },
   "file_extension": ".py",
   "mimetype": "text/x-python",
   "name": "python",
   "nbconvert_exporter": "python",
   "pygments_lexer": "ipython3",
   "version": "3.7.6"
  }
 },
 "nbformat": 4,
 "nbformat_minor": 4
}
