{
 "cells": [
  {
   "cell_type": "code",
   "execution_count": 18,
   "metadata": {},
   "outputs": [],
   "source": [
    "import datetime\n",
    "class Diary (): \n",
    "    def __init__(self,name, birth, wedding): \n",
    "        self.name = name \n",
    "        self.birth = birth\n",
    "        self.wedding = wedding\n",
    "        \n",
    "        #two instance methods that print out the dates in dd-mm-yy method \n",
    "    def show_birth (self): \n",
    "        return self.birth.strftime('%d-%b%y')\n",
    "    def show_birth (self): \n",
    "        return self.birth.strftime('%d-%b%y')\n",
    "    \n",
    "    #that everything is going to presented nicely \n",
    "    def __str__(self):\n",
    "        return \"%s (born on the %s, married on the %s\" % (self.name,self.birth, self.wedding)"
   ]
  },
  {
   "cell_type": "code",
   "execution_count": 19,
   "metadata": {},
   "outputs": [
    {
     "name": "stdout",
     "output_type": "stream",
     "text": [
      "Anna (born on the 1996-05-03, married on the 2025-06-21\n"
     ]
    }
   ],
   "source": [
    "Anna = Diary(\"Anna\", datetime.date(1996, 5, 3), datetime.date(2025, 6, 21))\n",
    "\n",
    "print(Anna)"
   ]
  },
  {
   "cell_type": "markdown",
   "metadata": {},
   "source": [
    "___________________________________________________________\n",
    "method format_data, to not transform the data all the time\n",
    "\n",
    "benefit: you can update the date format in one sinlge line! \n"
   ]
  },
  {
   "cell_type": "code",
   "execution_count": 24,
   "metadata": {},
   "outputs": [],
   "source": [
    "import datetime\n",
    "class Diary (): \n",
    "    def __init__(self,name, birth, wedding): \n",
    "        self.name = name \n",
    "        self.birth = birth\n",
    "        self.wedding = wedding\n",
    "        \n",
    "    @staticmethod\n",
    "    def fromat_data(data): \n",
    "            return data.strftime('%d-%b-%y')\n",
    "  \n",
    "    def show_birth (self): \n",
    "        return self.format_data(self.birth)\n",
    "    def show_wedding(self): \n",
    "        return self.format_date(self.weddig)\n",
    "    \n",
    "    #that everything is going to presented nicely \n",
    "    def __str__(self):\n",
    "        return \"%s (born on the %s, married on the %s\" % (self.name,self.birth, self.wedding)"
   ]
  },
  {
   "cell_type": "code",
   "execution_count": null,
   "metadata": {},
   "outputs": [],
   "source": []
  },
  {
   "cell_type": "code",
   "execution_count": null,
   "metadata": {},
   "outputs": [],
   "source": []
  },
  {
   "cell_type": "code",
   "execution_count": null,
   "metadata": {},
   "outputs": [],
   "source": []
  },
  {
   "cell_type": "code",
   "execution_count": null,
   "metadata": {},
   "outputs": [],
   "source": []
  }
 ],
 "metadata": {
  "kernelspec": {
   "display_name": "Python 3",
   "language": "python",
   "name": "python3"
  },
  "language_info": {
   "codemirror_mode": {
    "name": "ipython",
    "version": 3
   },
   "file_extension": ".py",
   "mimetype": "text/x-python",
   "name": "python",
   "nbconvert_exporter": "python",
   "pygments_lexer": "ipython3",
   "version": "3.7.6"
  }
 },
 "nbformat": 4,
 "nbformat_minor": 4
}
