{
 "cells": [
  {
   "cell_type": "markdown",
   "metadata": {},
   "source": [
    "\"__init__\" (method \n",
    "\n",
    "initailze an object form one of our class templates \n",
    "\n",
    "e.g. expand the Pet clss with the hight\n"
   ]
  },
  {
   "cell_type": "code",
   "execution_count": 25,
   "metadata": {},
   "outputs": [],
   "source": [
    "class Pet():\n",
    "    \"\"\"\n",
    "    A class to capture useful information regarding my pets, just incase\n",
    "    I lose track of them.\n",
    "    \"\"\"\n",
    "    \n",
    "    is_human = False\n",
    "    owner = 'Michael Smith'\n",
    "    \n",
    "    def __init__(self, height):\n",
    "        self.height = height\n",
    " \n",
    "     "
   ]
  },
  {
   "cell_type": "code",
   "execution_count": 26,
   "metadata": {},
   "outputs": [],
   "source": [
    "mouse = Pet(height=3)"
   ]
  },
  {
   "cell_type": "code",
   "execution_count": 27,
   "metadata": {},
   "outputs": [],
   "source": [
    "#definition of class \n",
    "class Pet(): \n",
    "    \"\"\"\n",
    "    A class to capture useful information regarding my pets,\n",
    "    just incase I lose track of them. \n",
    "    \n",
    "    \"\"\"\n",
    "    \n",
    "    is_human = False\n",
    "    owner = \"Anna-Marie Tomm \"\n",
    "\n",
    "\n",
    "    def __init__ (self, height): \n",
    "        self.height = height\n",
    "       \n",
    "        \n",
    "    "
   ]
  },
  {
   "cell_type": "code",
   "execution_count": 28,
   "metadata": {},
   "outputs": [],
   "source": [
    "rabit = Pet(height= 1)"
   ]
  },
  {
   "cell_type": "code",
   "execution_count": null,
   "metadata": {},
   "outputs": [],
   "source": []
  },
  {
   "cell_type": "code",
   "execution_count": null,
   "metadata": {},
   "outputs": [],
   "source": []
  }
 ],
 "metadata": {
  "kernelspec": {
   "display_name": "Python 3",
   "language": "python",
   "name": "python3"
  },
  "language_info": {
   "codemirror_mode": {
    "name": "ipython",
    "version": 3
   },
   "file_extension": ".py",
   "mimetype": "text/x-python",
   "name": "python",
   "nbconvert_exporter": "python",
   "pygments_lexer": "ipython3",
   "version": "3.7.6"
  }
 },
 "nbformat": 4,
 "nbformat_minor": 4
}
