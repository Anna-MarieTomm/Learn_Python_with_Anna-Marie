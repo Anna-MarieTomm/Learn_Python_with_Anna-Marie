{
 "cells": [
  {
   "cell_type": "markdown",
   "metadata": {},
   "source": [
    "# Overriding Methods \n",
    "\n"
   ]
  },
  {
   "cell_type": "markdown",
   "metadata": {},
   "source": [
    "- if you want to CHANGE not only extend behaviour "
   ]
  },
  {
   "cell_type": "code",
   "execution_count": 49,
   "metadata": {},
   "outputs": [],
   "source": [
    "class Person():\n",
    "    def __init__(self, first_name, last_name):\n",
    "        self.first_name = first_name\n",
    "        self.last_name = last_name\n",
    "    @property\n",
    "    def full_name(self):\n",
    "        return '%s %s' % (self.first_name, self.last_name)\n",
    "    @full_name.setter\n",
    "    def full_name(self, name):\n",
    "        first, last = name.split(' ')\n",
    "        self.first_name = first\n",
    "        self.last_name = last\n",
    "        \n",
    "# everything is working fine, as long as people just have two nams \n",
    "\n",
    "\n",
    "#extend the class to make it possibe to have a middle name \n",
    "\n",
    "class BetterPerson(Person): \n",
    "    @property \n",
    "    def full_name(self): \n",
    "        return \"%s %s\" % (self.first_name, self.last_name)\n",
    "    @full_name.setter\n",
    "    def full_name(self, name): \n",
    "        name = name.split(\" \")\n",
    "        self.first_name = name[0]\n",
    "        if len(name)>2: \n",
    "            self.last_name = \" \".join(name[2:])\n",
    "            self.first_name =\" \".join(name[:2])\n",
    "        elif len(name)==2: \n",
    "            self.name_last = name[1]"
   ]
  },
  {
   "cell_type": "code",
   "execution_count": 50,
   "metadata": {},
   "outputs": [
    {
     "name": "stdout",
     "output_type": "stream",
     "text": [
      "first names:  Anna Marie\n",
      "Tomm\n"
     ]
    }
   ],
   "source": [
    "anna = BetterPerson(first_name=\"Anna-\", last_name=\"Tomm\")\n",
    "anna.full_name = \"Anna Marie Tomm\"\n",
    "print(\"first names: \", anna.first_name)\n",
    "print(anna.last_name)"
   ]
  },
  {
   "cell_type": "markdown",
   "metadata": {},
   "source": [
    "______________________________________________________________"
   ]
  },
  {
   "cell_type": "markdown",
   "metadata": {},
   "source": [
    "# Calling the Parent Method with super()"
   ]
  },
  {
   "cell_type": "markdown",
   "metadata": {},
   "source": [
    "super() important to be in line with the DRY principle \n",
    "makes changes in the code simpler \n",
    "- allows you to access the partens class "
   ]
  },
  {
   "cell_type": "code",
   "execution_count": 51,
   "metadata": {},
   "outputs": [
    {
     "name": "stdout",
     "output_type": "stream",
     "text": [
      "Hello, my name is John\n",
      "it is a pelase to speak to you!\n"
     ]
    }
   ],
   "source": [
    "class Person():\n",
    "    def __init__(self, first_name, last_name):\n",
    "        self.first_name = first_name\n",
    "        self.last_name = last_name\n",
    "    def speak(self):\n",
    "        print('Hello, my name is %s' % self.first_name)\n",
    "class TalkativePerson(Person): \n",
    "    def speak (self): \n",
    "        #this inherents everything from the Person class\n",
    "        super().speak()\n",
    "        print (\"it is a pelase to speak to you!\")\n",
    "        \n",
    "john = TalkativePerson(\"John\", \"Miller\")\n",
    "john.speak()"
   ]
  },
  {
   "cell_type": "markdown",
   "metadata": {},
   "source": [
    "# Exc. 83 \n",
    "Overriding Methos using super ()"
   ]
  },
  {
   "cell_type": "code",
   "execution_count": 111,
   "metadata": {},
   "outputs": [],
   "source": [
    "import datetime\n",
    "class Diary(): \n",
    "    def __init__ (self, birth, today): \n",
    "        self.birth = birth\n",
    "        self.today = today\n",
    "        \n",
    "    @staticmethod\n",
    "    def format_date(date): \n",
    "        return date.strftime(\"%A, the %d of %B in %Y\")\n",
    "    def show_birth(self): \n",
    "        return self.format_date(self.birth)\n",
    "    def show_today(self): \n",
    "        return self.format_date(self.today)\n",
    "    \n",
    "#chane of the format in format_date, change it with subclass \n",
    "#subclass\n",
    "class MyDiary (Diary): \n",
    "    #customized format of data \n",
    "    def __init__(self,birth, today, date_format): \n",
    "        self.date_format= date_format\n",
    "        super().__init__(birth, today)\n",
    "        \n",
    "        #override the format_date class with date_format (from super) \n",
    "        def format_date (self, date): \n",
    "            return date.strftime(self.date_format)\n",
    "            "
   ]
  },
  {
   "cell_type": "code",
   "execution_count": 112,
   "metadata": {},
   "outputs": [
    {
     "name": "stdout",
     "output_type": "stream",
     "text": [
      "Friday, the 03 of May in 1996\n"
     ]
    }
   ],
   "source": [
    "personalDiary = MyDiary(datetime.date(1996,5,3), datetime.date(2020,4,5), \"%A\")\n",
    "print(personalDiary.show_birth())"
   ]
  },
  {
   "cell_type": "code",
   "execution_count": 113,
   "metadata": {},
   "outputs": [
    {
     "name": "stdout",
     "output_type": "stream",
     "text": [
      "Saturday, the 03 of March in 2018\n"
     ]
    }
   ],
   "source": [
    "first_diary = MyDiary(datetime.date(2018,1,1), datetime.date(2018,3,3),\n",
    "                      '%D')\n",
    "print(first_diary.show_today())"
   ]
  },
  {
   "cell_type": "code",
   "execution_count": null,
   "metadata": {},
   "outputs": [],
   "source": []
  },
  {
   "cell_type": "code",
   "execution_count": null,
   "metadata": {},
   "outputs": [],
   "source": []
  },
  {
   "cell_type": "code",
   "execution_count": null,
   "metadata": {},
   "outputs": [],
   "source": []
  }
 ],
 "metadata": {
  "kernelspec": {
   "display_name": "Python 3",
   "language": "python",
   "name": "python3"
  },
  "language_info": {
   "codemirror_mode": {
    "name": "ipython",
    "version": 3
   },
   "file_extension": ".py",
   "mimetype": "text/x-python",
   "name": "python",
   "nbconvert_exporter": "python",
   "pygments_lexer": "ipython3",
   "version": "3.7.6"
  }
 },
 "nbformat": 4,
 "nbformat_minor": 4
}
