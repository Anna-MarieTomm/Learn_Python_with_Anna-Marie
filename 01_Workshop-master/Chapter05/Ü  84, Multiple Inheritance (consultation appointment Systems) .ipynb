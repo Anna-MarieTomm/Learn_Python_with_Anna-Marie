{
 "cells": [
  {
   "cell_type": "markdown",
   "metadata": {},
   "source": [
    "# Multiple Inheritance"
   ]
  },
  {
   "cell_type": "markdown",
   "metadata": {},
   "source": [
    "- possible to inherent from mulitple parent classes \n",
    "\n",
    "- parent classes: Adult, Baby, Calender \n",
    "- children clases: OrganizedBaby (inherents from: Baby+ Calender) , OrganizedAdult (inherents from: Adult+Calender) \n"
   ]
  },
  {
   "cell_type": "code",
   "execution_count": 39,
   "metadata": {},
   "outputs": [
    {
     "ename": "SyntaxError",
     "evalue": "invalid syntax (<ipython-input-39-479fffbd6dbb>, line 25)",
     "output_type": "error",
     "traceback": [
      "\u001b[0;36m  File \u001b[0;32m\"<ipython-input-39-479fffbd6dbb>\"\u001b[0;36m, line \u001b[0;32m25\u001b[0m\n\u001b[0;31m    print(\"Booking appointment for the %s\", % date,\u001b[0m\n\u001b[0m                                            ^\u001b[0m\n\u001b[0;31mSyntaxError\u001b[0m\u001b[0;31m:\u001b[0m invalid syntax\n"
     ]
    }
   ],
   "source": [
    "import datetime\n",
    "\n",
    "#parentclasses \n",
    "class Person (): \n",
    "    def __init__ (self, first_name,last_name): \n",
    "        self.first_name = first_name\n",
    "        self.last_name = last_name\n",
    "        \n",
    "class Calendar (): \n",
    "    def book_appointment(self, date): \n",
    "        print(\"Booking appointment for the %s\"% date)\n",
    "        \n",
    "#subclasses: \n",
    "class Baby (Person): \n",
    "    def speaks (self): \n",
    "        print (\"Blalalala\")\n",
    "        \n",
    "class Adult (Person): \n",
    "    def speaks (self): \n",
    "        print (\"My name is: %s %s\" % (self.first_name, self.last_name))  \n",
    "        \n",
    "#sub-sub classes \n",
    "class OrganizedBaby (Calendar, Baby): \n",
    "    def book_appointment(self,date): \n",
    "        print(\"Booking appointment for the %s\", % date,\n",
    "              \"note that the pacient is a baby!\")\n",
    "\n",
    "\n",
    "#pass because we are not changing something \n",
    "class OrganizedAdult (Calendar, Adult): \n",
    "    pass\n",
    "\n"
   ]
  },
  {
   "cell_type": "markdown",
   "metadata": {},
   "source": [
    "pass: if you don´t was to modify but just inherent "
   ]
  },
  {
   "cell_type": "code",
   "execution_count": 40,
   "metadata": {},
   "outputs": [
    {
     "name": "stdout",
     "output_type": "stream",
     "text": [
      "My name is: Lino Mayer\n",
      "Booking appointment for the 2020-06-01\n"
     ]
    }
   ],
   "source": [
    "lino = OrganizedAdult(\"Lino\", \"Mayer\")\n",
    "lino.speaks()\n",
    "lino.book_appointment(datetime.date(2020,6,1))"
   ]
  },
  {
   "cell_type": "code",
   "execution_count": 41,
   "metadata": {},
   "outputs": [
    {
     "name": "stdout",
     "output_type": "stream",
     "text": [
      "Blalalala\n",
      "Booking appointment for the 2020-08-01, note that the pacient is a baby!\n"
     ]
    }
   ],
   "source": [
    "undi = OrganizedBaby(\"Undi\", \"Mudi\")\n",
    "undi.speaks()\n",
    "undi.book_appointment(datetime.date(2020,8,1))"
   ]
  },
  {
   "cell_type": "code",
   "execution_count": null,
   "metadata": {},
   "outputs": [],
   "source": []
  },
  {
   "cell_type": "code",
   "execution_count": null,
   "metadata": {},
   "outputs": [],
   "source": []
  }
 ],
 "metadata": {
  "kernelspec": {
   "display_name": "Python 3",
   "language": "python",
   "name": "python3"
  },
  "language_info": {
   "codemirror_mode": {
    "name": "ipython",
    "version": 3
   },
   "file_extension": ".py",
   "mimetype": "text/x-python",
   "name": "python",
   "nbconvert_exporter": "python",
   "pygments_lexer": "ipython3",
   "version": "3.7.6"
  }
 },
 "nbformat": 4,
 "nbformat_minor": 4
}
