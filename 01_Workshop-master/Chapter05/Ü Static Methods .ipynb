{
 "cells": [
  {
   "cell_type": "markdown",
   "metadata": {},
   "source": [
    "# Static methods "
   ]
  },
  {
   "cell_type": "markdown",
   "metadata": {},
   "source": [
    "- similar to instance methods\n",
    "- BUT: no self argument \n",
    "- allow to alter behavior and function of classes \n",
    "- used to store utilites related to a class\n"
   ]
  },
  {
   "cell_type": "code",
   "execution_count": 8,
   "metadata": {},
   "outputs": [
    {
     "data": {
      "text/plain": [
       "True"
      ]
     },
     "execution_count": 8,
     "metadata": {},
     "output_type": "execute_result"
    }
   ],
   "source": [
    "class Pet():\n",
    "    def __init__(self, height):\n",
    "        self.height = height\n",
    "    is_human = False\n",
    "    owner = 'Michael Smith'\n",
    "    \n",
    "    #with the @ symbol one can add the staticmethod to the class \n",
    "    @staticmethod\n",
    "    def owned_by_smith_family():\n",
    "        return 'Smith' in Pet.owner\n",
    "    \n",
    "    \n",
    "nibbles = Pet(100)\n",
    "nibbles.owned_by_smith_family()"
   ]
  },
  {
   "cell_type": "code",
   "execution_count": null,
   "metadata": {},
   "outputs": [],
   "source": []
  },
  {
   "cell_type": "code",
   "execution_count": null,
   "metadata": {},
   "outputs": [],
   "source": []
  }
 ],
 "metadata": {
  "kernelspec": {
   "display_name": "Python 3",
   "language": "python",
   "name": "python3"
  },
  "language_info": {
   "codemirror_mode": {
    "name": "ipython",
    "version": 3
   },
   "file_extension": ".py",
   "mimetype": "text/x-python",
   "name": "python",
   "nbconvert_exporter": "python",
   "pygments_lexer": "ipython3",
   "version": "3.7.6"
  }
 },
 "nbformat": 4,
 "nbformat_minor": 4
}
