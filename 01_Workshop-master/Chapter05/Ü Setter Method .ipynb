{
 "cells": [
  {
   "cell_type": "markdown",
   "metadata": {},
   "source": [
    "- setter method will be called when user assigns a valueto a property \n",
    "- makes it easier to change the attribute values \n",
    "\n",
    "covention: \n",
    "- decorator shuld be the method name, follwed by .setter\n",
    "- it should take the value being assigned after the self argument \n",
    "- the name of the setter should be the same as the name ofthe property\n"
   ]
  },
  {
   "cell_type": "code",
   "execution_count": 29,
   "metadata": {},
   "outputs": [],
   "source": [
    "class Person (): \n",
    "    is_human= True \n",
    "    def __init__(self, first_name, last_name): \n",
    "        self.first_name = first_name\n",
    "        self.last_name = last_name\n",
    "        \n",
    "    @property\n",
    "    def full_name(self): \n",
    "        return  \"Full name: %s %s\" %(self.first_name, self.last_name) \n",
    "    @full_name.setter\n",
    "    def full_name(self, name): \n",
    "        first, last = name.split (\" \")\n",
    "        self.first_name= first\n",
    "        self.last_name = last"
   ]
  },
  {
   "cell_type": "code",
   "execution_count": 30,
   "metadata": {},
   "outputs": [
    {
     "name": "stdout",
     "output_type": "stream",
     "text": [
      "Full name: Laura Mayer\n"
     ]
    }
   ],
   "source": [
    "laura = Person(\"Laura\", \"Mayer\")\n",
    "print (laura.full_name)"
   ]
  },
  {
   "cell_type": "code",
   "execution_count": 33,
   "metadata": {},
   "outputs": [
    {
     "name": "stdout",
     "output_type": "stream",
     "text": [
      "Full name: Lauri Hasenbär\n"
     ]
    }
   ],
   "source": [
    "laura.full_name =\"Lauri Hasenbär\"\n",
    "print(laura.full_name)"
   ]
  },
  {
   "cell_type": "code",
   "execution_count": null,
   "metadata": {},
   "outputs": [],
   "source": []
  },
  {
   "cell_type": "code",
   "execution_count": null,
   "metadata": {},
   "outputs": [],
   "source": []
  },
  {
   "cell_type": "code",
   "execution_count": null,
   "metadata": {},
   "outputs": [],
   "source": []
  }
 ],
 "metadata": {
  "kernelspec": {
   "display_name": "Python 3",
   "language": "python",
   "name": "python3"
  },
  "language_info": {
   "codemirror_mode": {
    "name": "ipython",
    "version": 3
   },
   "file_extension": ".py",
   "mimetype": "text/x-python",
   "name": "python",
   "nbconvert_exporter": "python",
   "pygments_lexer": "ipython3",
   "version": "3.7.6"
  }
 },
 "nbformat": 4,
 "nbformat_minor": 4
}
