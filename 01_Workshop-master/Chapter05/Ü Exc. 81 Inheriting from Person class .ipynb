{
 "cells": [
  {
   "cell_type": "markdown",
   "metadata": {},
   "source": [
    "INHERITANCE"
   ]
  },
  {
   "cell_type": "code",
   "execution_count": 5,
   "metadata": {},
   "outputs": [],
   "source": [
    "#this violated the DRY principle ! because the common information are repeted \n",
    "\n",
    "class Cat(): \n",
    "    def __init__(self, name, weight): \n",
    "        self.name = name\n",
    "        self.weight = weight\n",
    "        \n",
    "        \n",
    "class Dog(): \n",
    "    #addtional attribute (feline = catlike)\n",
    "    is_feline = False \n",
    "    def __init__(self, name, weight): \n",
    "        self.name = name\n",
    "        self.weight = weight\n",
    "        \n",
    "        "
   ]
  },
  {
   "cell_type": "markdown",
   "metadata": {},
   "source": [
    "_______________________________________________________________\n",
    "\n",
    "Single Inheritance\n",
    "- also known as sub-classing \n",
    "- child class (Child, and parents) inherents everything from sinngle parent class (here: Tomm Family) \n"
   ]
  },
  {
   "cell_type": "code",
   "execution_count": 31,
   "metadata": {},
   "outputs": [],
   "source": [
    "#parent class \n",
    "class Tomm_Family():\n",
    "    def __init__(self, name, age): \n",
    "        self.name = name\n",
    "        self.age = age\n",
    "\n",
    "\n",
    "class Child(Tomm_Family): \n",
    "    in_education= True\n",
    "\n",
    "class Parents(Tomm_Family): \n",
    "    in_education= False\n",
    "    \n",
    "\n",
    "#sub-sub-class \n",
    "class vater (Parents): \n",
    "    is_male = True \n",
    "    \n",
    "class mother (Parents):\n",
    "    is_male = False "
   ]
  },
  {
   "cell_type": "code",
   "execution_count": 32,
   "metadata": {},
   "outputs": [
    {
     "name": "stdout",
     "output_type": "stream",
     "text": [
      "Lucia 21\n"
     ]
    },
    {
     "data": {
      "text/plain": [
       "True"
      ]
     },
     "execution_count": 32,
     "metadata": {},
     "output_type": "execute_result"
    }
   ],
   "source": [
    "lucia = Child(\"Lucia\", 21 )\n",
    "print(lucia.name, lucia.age)\n",
    "lucia.in_education\n",
    "\n"
   ]
  },
  {
   "cell_type": "code",
   "execution_count": 33,
   "metadata": {},
   "outputs": [
    {
     "name": "stdout",
     "output_type": "stream",
     "text": [
      "Johannes 50\n",
      "False\n",
      "True\n"
     ]
    }
   ],
   "source": [
    "johannes = vater(\"Johannes\", 50)\n",
    "print(johannes.name, johannes.age)\n",
    "print(johannes.in_education)\n",
    "print(johannes.is_male)"
   ]
  },
  {
   "cell_type": "markdown",
   "metadata": {},
   "source": [
    "# Exc. 81 Inheriting from Person class "
   ]
  },
  {
   "cell_type": "markdown",
   "metadata": {},
   "source": [
    "parent class: person \n",
    "children classes: Baby and Adult "
   ]
  },
  {
   "cell_type": "code",
   "execution_count": 78,
   "metadata": {},
   "outputs": [],
   "source": [
    "class Person(): \n",
    "    def __init__(self, first_name, last_name): \n",
    "        self.first_name = first_name\n",
    "        self.last_name = last_name\n",
    "        \n",
    "class Baby (Person): \n",
    "    needs_help = True\n",
    "    def speaks(self): \n",
    "        print(\"Blah blah blah\")\n",
    "    \n",
    "class Adult (Person): \n",
    "    needs_help = True\n",
    "    def speaks(self): \n",
    "        print (\"My name is: %s  %s\"\n",
    "               %(self.first_name, self.last_name))"
   ]
  },
  {
   "cell_type": "code",
   "execution_count": 79,
   "metadata": {},
   "outputs": [
    {
     "name": "stdout",
     "output_type": "stream",
     "text": [
      "Blah blah blah\n"
     ]
    }
   ],
   "source": [
    "anaya = Baby (\"Anaya\", \"Weihel\")\n",
    "suzane = Adult (\"Suzane\", \"Weihel\")\n",
    "\n",
    "anaya.speaks()"
   ]
  },
  {
   "cell_type": "code",
   "execution_count": null,
   "metadata": {},
   "outputs": [],
   "source": []
  },
  {
   "cell_type": "code",
   "execution_count": null,
   "metadata": {},
   "outputs": [],
   "source": []
  },
  {
   "cell_type": "code",
   "execution_count": null,
   "metadata": {},
   "outputs": [],
   "source": []
  }
 ],
 "metadata": {
  "kernelspec": {
   "display_name": "Python 3",
   "language": "python",
   "name": "python3"
  },
  "language_info": {
   "codemirror_mode": {
    "name": "ipython",
    "version": 3
   },
   "file_extension": ".py",
   "mimetype": "text/x-python",
   "name": "python",
   "nbconvert_exporter": "python",
   "pygments_lexer": "ipython3",
   "version": "3.7.6"
  }
 },
 "nbformat": 4,
 "nbformat_minor": 4
}
