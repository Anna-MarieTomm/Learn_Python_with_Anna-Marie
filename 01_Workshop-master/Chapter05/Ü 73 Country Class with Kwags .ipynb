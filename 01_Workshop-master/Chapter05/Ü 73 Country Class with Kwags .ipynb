{
 "cells": [
  {
   "cell_type": "markdown",
   "metadata": {},
   "source": [
    "remember: kwags = keyword arguments \n",
    "\n",
    "benefit: the order does not matter as we use kw\n",
    "\n",
    "    "
   ]
  },
  {
   "cell_type": "code",
   "execution_count": 24,
   "metadata": {},
   "outputs": [],
   "source": [
    "class Country(): \n",
    "    is_city = False\n",
    "    \n",
    "    def __init__(self, name =\"Unspecified name\", population =None,size= None):\n",
    "        self.name = name\n",
    "        self.population = population \n",
    "        self.size = size"
   ]
  },
  {
   "cell_type": "code",
   "execution_count": 25,
   "metadata": {},
   "outputs": [
    {
     "name": "stdout",
     "output_type": "stream",
     "text": [
      "Unspecified name\n",
      "800000.0\n",
      "600000.0\n"
     ]
    },
    {
     "data": {
      "text/plain": [
       "{'name': 'Unspecified name', 'population': 800000.0, 'size': 600000.0}"
      ]
     },
     "execution_count": 25,
     "metadata": {},
     "output_type": "execute_result"
    }
   ],
   "source": [
    "Germany = Country (population=80e4, size =60e4)\n",
    "\n",
    "print(Germany.name)\n",
    "print(Germany.population)\n",
    "print(Germany.size)\n",
    "Germany.__dict__\n"
   ]
  },
  {
   "cell_type": "code",
   "execution_count": null,
   "metadata": {},
   "outputs": [],
   "source": []
  },
  {
   "cell_type": "code",
   "execution_count": null,
   "metadata": {},
   "outputs": [],
   "source": []
  }
 ],
 "metadata": {
  "kernelspec": {
   "display_name": "Python 3",
   "language": "python",
   "name": "python3"
  },
  "language_info": {
   "codemirror_mode": {
    "name": "ipython",
    "version": 3
   },
   "file_extension": ".py",
   "mimetype": "text/x-python",
   "name": "python",
   "nbconvert_exporter": "python",
   "pygments_lexer": "ipython3",
   "version": "3.7.6"
  }
 },
 "nbformat": 4,
 "nbformat_minor": 4
}
