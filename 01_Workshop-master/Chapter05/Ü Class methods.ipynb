{
 "cells": [
  {
   "cell_type": "markdown",
   "metadata": {},
   "source": [
    "# Class methods "
   ]
  },
  {
   "cell_type": "markdown",
   "metadata": {},
   "source": [
    "- third tipe of methods \n",
    "- similar to instance methods\n",
    "- BUT: class itself is passed as the first postion in self argument ( in instance: object is passed over) "
   ]
  },
  {
   "cell_type": "code",
   "execution_count": 33,
   "metadata": {},
   "outputs": [],
   "source": [
    "class Australian():\n",
    "    is_human = True\n",
    "    enjoys_sport = True\n",
    "    \n",
    "    #class passed on \n",
    "    @classmethod\n",
    "    def is_sporty_human(cls):\n",
    "        return cls.is_human and cls.enjoys_sport"
   ]
  },
  {
   "cell_type": "code",
   "execution_count": 34,
   "metadata": {},
   "outputs": [
    {
     "data": {
      "text/plain": [
       "True"
      ]
     },
     "execution_count": 34,
     "metadata": {},
     "output_type": "execute_result"
    }
   ],
   "source": [
    "# first potential argument: cls (NOT self)\n",
    "Australian.is_sporty_human()"
   ]
  },
  {
   "cell_type": "code",
   "execution_count": 35,
   "metadata": {},
   "outputs": [
    {
     "data": {
      "text/plain": [
       "True"
      ]
     },
     "execution_count": 35,
     "metadata": {},
     "output_type": "execute_result"
    }
   ],
   "source": [
    "#calling the instance of the class \n",
    "aussie = Australian()\n",
    "aussie.is_sporty_human()"
   ]
  },
  {
   "cell_type": "markdown",
   "metadata": {},
   "source": [
    "inserting class method: as new instances "
   ]
  },
  {
   "cell_type": "code",
   "execution_count": 36,
   "metadata": {},
   "outputs": [],
   "source": [
    "class Country():\n",
    "    def __init__(self, name='Unspecified', population=None, size_kmsq=None):\n",
    "        self.name = name\n",
    "        self.population = population\n",
    "        self.size_kmsq = size_kmsq\n",
    "\n",
    "        \n",
    "# you want to create class with msq rather than kmsq         \n",
    "    @classmethod\n",
    "    def create_with_msq(cls, name, population, size_msq):\n",
    "        size_kmsq = round((size_msq / 0.621371 ** 2),2)\n",
    "        return cls(name, population, size_kmsq)\n",
    "    \n",
    "    def __str__(self):\n",
    "        return \"%s: has %s citizens and is %s kmsq large\" % (self.name, self.population, self.size_kmsq)"
   ]
  },
  {
   "cell_type": "code",
   "execution_count": 38,
   "metadata": {},
   "outputs": [
    {
     "name": "stdout",
     "output_type": "stream",
     "text": [
      "Mexico: has 14 citizens and is 1968.39 kmsq large\n"
     ]
    }
   ],
   "source": [
    "mexico=Country.create_with_msq( \n",
    "    name=\"Mexico\", population = 14,size_msq=760)\n",
    "\n",
    "mexico.size_kmsq\n",
    "\n",
    "print(mexico)"
   ]
  },
  {
   "cell_type": "code",
   "execution_count": null,
   "metadata": {},
   "outputs": [],
   "source": []
  },
  {
   "cell_type": "code",
   "execution_count": null,
   "metadata": {},
   "outputs": [],
   "source": []
  }
 ],
 "metadata": {
  "kernelspec": {
   "display_name": "Python 3",
   "language": "python",
   "name": "python3"
  },
  "language_info": {
   "codemirror_mode": {
    "name": "ipython",
    "version": 3
   },
   "file_extension": ".py",
   "mimetype": "text/x-python",
   "name": "python",
   "nbconvert_exporter": "python",
   "pygments_lexer": "ipython3",
   "version": "3.7.6"
  }
 },
 "nbformat": 4,
 "nbformat_minor": 4
}
