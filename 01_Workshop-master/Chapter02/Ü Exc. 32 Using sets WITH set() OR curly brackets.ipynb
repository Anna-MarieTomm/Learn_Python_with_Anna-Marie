{
 "cells": [
  {
   "cell_type": "code",
   "execution_count": 1,
   "metadata": {},
   "outputs": [
    {
     "name": "stdout",
     "output_type": "stream",
     "text": [
      "{1, 2, 3, 4, 5, 6}\n",
      "{1, 2, 3, 4, 5, 6}\n",
      "{1, 2, 3, 4, 5, 6}\n"
     ]
    }
   ],
   "source": [
    "'''\n",
    "SETS: antoher Python data structure \n",
    "next to: list, tuple, dictionary \n",
    "\n",
    "characteristics: unordered collections of unique and immutable objects\n",
    "- based on mathematical set theory \n",
    "- don´t allow muliple ocurances of the same element => used to avoid duplicate values\n",
    "set = collections of objects (called members or elements\n",
    "\n",
    "each set contains an unique, distinct value \n",
    "'''\n",
    "#initalize a set, pass in a list \n",
    "#dublicated values are not preserved and the order is not preseved eather\n",
    "\n",
    "s1 = set([1,2,3,4,5,6])\n",
    "print(s1)\n",
    "s2 = set([1,2,2,3,4,4,5,6,6])\n",
    "print(s2)\n",
    "s3 = set([3,4,5,6,6,6,1,1,2])\n",
    "print(s3)\n"
   ]
  },
  {
   "cell_type": "code",
   "execution_count": 7,
   "metadata": {},
   "outputs": [
    {
     "name": "stdout",
     "output_type": "stream",
     "text": [
      "{'orange', 'banana', 'apple'}\n"
     ]
    }
   ],
   "source": [
    "#can also initialized by curly brackets \n",
    "s4 = {\"apple\", \"orange\", \"banana\"}\n",
    "print(s4)\n",
    "\n"
   ]
  },
  {
   "cell_type": "code",
   "execution_count": 11,
   "metadata": {},
   "outputs": [
    {
     "name": "stdout",
     "output_type": "stream",
     "text": [
      "{'orange', 'banana', 'apple', 'pineapple'}\n"
     ]
    }
   ],
   "source": [
    "#sets are mutable \n",
    "#with the add() method\n",
    "#add an intem to s4\n",
    "\n",
    "s4.add(\"pineapple\")\n",
    "print (s4)"
   ]
  },
  {
   "cell_type": "code",
   "execution_count": null,
   "metadata": {},
   "outputs": [],
   "source": []
  }
 ],
 "metadata": {
  "kernelspec": {
   "display_name": "Python 3",
   "language": "python",
   "name": "python3"
  },
  "language_info": {
   "codemirror_mode": {
    "name": "ipython",
    "version": 3
   },
   "file_extension": ".py",
   "mimetype": "text/x-python",
   "name": "python",
   "nbconvert_exporter": "python",
   "pygments_lexer": "ipython3",
   "version": "3.7.6"
  }
 },
 "nbformat": 4,
 "nbformat_minor": 4
}
