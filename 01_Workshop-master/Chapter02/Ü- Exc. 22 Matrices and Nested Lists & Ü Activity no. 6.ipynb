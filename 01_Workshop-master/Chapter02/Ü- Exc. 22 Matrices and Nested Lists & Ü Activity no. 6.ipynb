{
 "cells": [
  {
   "cell_type": "code",
   "execution_count": 7,
   "metadata": {},
   "outputs": [
    {
     "name": "stdout",
     "output_type": "stream",
     "text": [
      "1\n",
      "2\n",
      "3\n",
      "4\n",
      "5\n",
      "6\n"
     ]
    }
   ],
   "source": [
    "#nested list (matrix)\n",
    "m = [[1,2,3], [4,5,6]]\n",
    "for row in m:\n",
    "    for col in row:\n",
    "        print(col)"
   ]
  },
  {
   "cell_type": "code",
   "execution_count": 41,
   "metadata": {},
   "outputs": [
    {
     "name": "stdout",
     "output_type": "stream",
     "text": [
      "['Mare', 11, 'sales']\n",
      "['Ecem', 29, 'marketing']\n",
      "['Arnaud', 33, 'reseach']\n",
      "['Virginia', 33, 'reseach']\n"
     ]
    }
   ],
   "source": [
    "#activity 6\n",
    "nude_team = [[\"Mare\",11,\"sales\"], [\"Ecem\", 29,\"marketing\"],[\"Arnaud\",33,\"reseach\"],[\"Virginia\",33,\"reseach\"]]\n",
    "for employee in nude_team: \n",
    "    print (employee)"
   ]
  },
  {
   "cell_type": "code",
   "execution_count": 32,
   "metadata": {},
   "outputs": [
    {
     "name": "stdout",
     "output_type": "stream",
     "text": [
      "Name: A\n",
      "Since: 11 years in company\n",
      "Department: sales\n",
      "------------------------------------------------------------\n",
      "Name: B\n",
      "Since: 29 years in company\n",
      "Department: marketing\n",
      "------------------------------------------------------------\n",
      "Name: C\n",
      "Since: 33 years in company\n",
      "Department: reseach\n",
      "------------------------------------------------------------\n"
     ]
    }
   ],
   "source": [
    "for employee in employees: \n",
    "    print (\"Name:\", employee[0])\n",
    "    print (\"Since:\", employee[1], \"years in company\")\n",
    "    print (\"Department:\", employee[2])\n",
    "    print (\"---\"*20)"
   ]
  },
  {
   "cell_type": "code",
   "execution_count": 35,
   "metadata": {},
   "outputs": [
    {
     "name": "stdout",
     "output_type": "stream",
     "text": [
      "['B', 29, 'marketing']\n",
      "------------------------------------------------------------\n",
      "Name: B\n",
      "Since: 29 years in company\n",
      "Department: marketing\n",
      "------------------------------------------------------------\n"
     ]
    }
   ],
   "source": [
    "employee = employees[1] \n",
    "print (employee)\n",
    "print (\"---\"*20)\n",
    "\n",
    "print (\"Name:\", employee[0])\n",
    "print (\"Since:\", employee[1], \"years in company\")\n",
    "print (\"Department:\", employee[2])\n",
    "print (\"---\"*20)"
   ]
  },
  {
   "cell_type": "code",
   "execution_count": null,
   "metadata": {},
   "outputs": [],
   "source": []
  }
 ],
 "metadata": {
  "kernelspec": {
   "display_name": "Python 3",
   "language": "python",
   "name": "python3"
  },
  "language_info": {
   "codemirror_mode": {
    "name": "ipython",
    "version": 3
   },
   "file_extension": ".py",
   "mimetype": "text/x-python",
   "name": "python",
   "nbconvert_exporter": "python",
   "pygments_lexer": "ipython3",
   "version": "3.7.6"
  }
 },
 "nbformat": 4,
 "nbformat_minor": 4
}
