{
 "cells": [
  {
   "cell_type": "code",
   "execution_count": 22,
   "metadata": {},
   "outputs": [],
   "source": [
    "#two bots that are able to communicate with one another \n",
    "\n"
   ]
  },
  {
   "cell_type": "code",
   "execution_count": 7,
   "metadata": {},
   "outputs": [
    {
     "name": "stdout",
     "output_type": "stream",
     "text": [
      "Please tell us your name?\n",
      "Anna-Marie\n",
      "-> Thanks for inserting this info,  Anna-Marie !\n"
     ]
    }
   ],
   "source": [
    "#First Bot\n",
    "#1st user questions \n",
    "print(\"Please tell us your name?\")\n",
    "answer_one= input()\n",
    "print(\"-> Thanks for inserting this info, \", answer_one,\"!\")\n"
   ]
  },
  {
   "cell_type": "code",
   "execution_count": 8,
   "metadata": {},
   "outputs": [
    {
     "name": "stdout",
     "output_type": "stream",
     "text": [
      "Where do you live?\n",
      "London \n",
      "-> What a lovely town London  is!\n"
     ]
    }
   ],
   "source": [
    "\n",
    "#2nd user questions \n",
    "print(\"Where do you live?\")\n",
    "answer_two= input()\n",
    "print(\"-> What a lovely town\", answer_two, \"is!\")"
   ]
  },
  {
   "cell_type": "code",
   "execution_count": 10,
   "metadata": {},
   "outputs": [
    {
     "name": "stdout",
     "output_type": "stream",
     "text": [
      "Please your happiness level from a scale of 0-10 (10=best)?\n",
      "9\n",
      "you seem to be a happy person - go on with that!\n"
     ]
    }
   ],
   "source": [
    "#second Bot\n",
    "print(\"Please your happiness level from a scale of 0-10 (10=best)?\")\n",
    "answer_three= input()\n",
    "answer_three =abs( int(answer_three))\n",
    "\n",
    "if answer_three <=2:\n",
    "    print (\"we have to speak with a professional - your condition is critical\")\n",
    "elif (2 > answer_three <=4):\n",
    "    print (\"please come along, we should speak!\")\n",
    "elif (4 > answer_three <=8):\n",
    "    print (\"please come along, we should speak!\")\n",
    "else: \n",
    "    print (\"you seem to be a happy person - go on with that!\")\n",
    "    \n"
   ]
  },
  {
   "cell_type": "code",
   "execution_count": 18,
   "metadata": {},
   "outputs": [
    {
     "name": "stdout",
     "output_type": "stream",
     "text": [
      "What do you earn in GBP per month (net)?\n",
      "5000\n",
      "please consider to donate some of your high net income\n"
     ]
    }
   ],
   "source": [
    "print(\"What do you earn in GBP per month (net)?\")\n",
    "answer_four = input()\n",
    "answer_four =abs( int(answer_four))\n",
    "\n",
    "if answer_four <=1000:\n",
    "    print (\"you are eligible for help \")\n",
    "elif (1000 < answer_four <=2000):\n",
    "    print (\"how much is your parnter earning\")\n",
    "    answer_four_two = input ()\n",
    "    answer_four_two = abs(int(answer_four_two))\n",
    "    if answer_four_two <=1000:\n",
    "        print (\"you are eligible for help\")\n",
    "    else: \n",
    "        print (\"with your partner you earn enought - you don´t get help\")\n",
    "elif (2000 < answer_four <=4000):\n",
    "    print (\"no suport for you - you are fine\")\n",
    "else:\n",
    "    print (\"please consider to donate some of your high net income\")\n",
    "    "
   ]
  },
  {
   "cell_type": "code",
   "execution_count": null,
   "metadata": {},
   "outputs": [],
   "source": []
  },
  {
   "cell_type": "code",
   "execution_count": null,
   "metadata": {},
   "outputs": [],
   "source": []
  }
 ],
 "metadata": {
  "kernelspec": {
   "display_name": "Python 3",
   "language": "python",
   "name": "python3"
  },
  "language_info": {
   "codemirror_mode": {
    "name": "ipython",
    "version": 3
   },
   "file_extension": ".py",
   "mimetype": "text/x-python",
   "name": "python",
   "nbconvert_exporter": "python",
   "pygments_lexer": "ipython3",
   "version": "3.7.6"
  }
 },
 "nbformat": 4,
 "nbformat_minor": 4
}
