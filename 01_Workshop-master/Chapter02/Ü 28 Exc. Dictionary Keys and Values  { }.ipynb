{
 "cells": [
  {
   "cell_type": "code",
   "execution_count": 2,
   "metadata": {},
   "outputs": [],
   "source": [
    "'''\n",
    "Dictionary Keys and Values \n",
    "dictionary = unordered collection writen with curly brackets \n",
    "mapping of keys to axxociated values\n",
    "=> difference to LIST: access of data\n",
    "- in List: with postion [0,1,2,3,]\n",
    "- in Dictionary: via key \n",
    "\n",
    "Dictionary rules: \n",
    "- no repititon of keys\n",
    "- keys must immutable \n",
    "'''\n",
    "i=1\n",
    "\n"
   ]
  },
  {
   "cell_type": "code",
   "execution_count": 3,
   "metadata": {},
   "outputs": [
    {
     "name": "stdout",
     "output_type": "stream",
     "text": [
      "2020\n"
     ]
    }
   ],
   "source": [
    "#keys: e.g. title\n",
    "series = {\n",
    "    \"title\": \"Call the midwife\",\n",
    "    \"director\": \"BBC\",\n",
    "    \"year\": 2020,\n",
    "    \"rating\": 7.1\n",
    "}\n",
    "print(series[\"year\"])"
   ]
  },
  {
   "cell_type": "code",
   "execution_count": 4,
   "metadata": {},
   "outputs": [
    {
     "name": "stdout",
     "output_type": "stream",
     "text": [
      "8.1\n"
     ]
    }
   ],
   "source": [
    "series[\"rating\"] = 8.1\n",
    "print(series[\"rating\"])"
   ]
  },
  {
   "cell_type": "code",
   "execution_count": 5,
   "metadata": {},
   "outputs": [],
   "source": [
    "movie ={}\n",
    "\n"
   ]
  },
  {
   "cell_type": "code",
   "execution_count": 6,
   "metadata": {},
   "outputs": [
    {
     "name": "stdout",
     "output_type": "stream",
     "text": [
      "flatmade\n"
     ]
    }
   ],
   "source": [
    "series [\"recommended\"] =\"flatmade\"\n",
    "print(series[\"recommended\"])"
   ]
  },
  {
   "cell_type": "code",
   "execution_count": 11,
   "metadata": {},
   "outputs": [],
   "source": [
    "movie[\"recomended by\"]= \"Poppy\"\n"
   ]
  },
  {
   "cell_type": "code",
   "execution_count": null,
   "metadata": {},
   "outputs": [],
   "source": []
  }
 ],
 "metadata": {
  "kernelspec": {
   "display_name": "Python 3",
   "language": "python",
   "name": "python3"
  },
  "language_info": {
   "codemirror_mode": {
    "name": "ipython",
    "version": 3
   },
   "file_extension": ".py",
   "mimetype": "text/x-python",
   "name": "python",
   "nbconvert_exporter": "python",
   "pygments_lexer": "ipython3",
   "version": "3.7.6"
  }
 },
 "nbformat": 4,
 "nbformat_minor": 4
}
