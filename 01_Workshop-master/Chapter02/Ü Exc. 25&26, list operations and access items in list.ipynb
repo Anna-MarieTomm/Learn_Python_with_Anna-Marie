{
 "cells": [
  {
   "cell_type": "code",
   "execution_count": 16,
   "metadata": {},
   "outputs": [
    {
     "name": "stdout",
     "output_type": "stream",
     "text": [
      "['eggs', 'porrige', 'nuts', 'rice', 'chicken', 'popcern']\n",
      "----------------------------------------\n",
      "['eggs', 'porrige', 'nuts', 'eggs', 'porrige', 'nuts']\n"
     ]
    }
   ],
   "source": [
    "#Excersise 25\n",
    "\n",
    "shopping_anna = [\"eggs\", \"porrige\", \"nuts\"]\n",
    "shopping_tobe = [\"rice\", \"chicken\", \"popcern\"]\n",
    "shopping_couple = shopping_anna + shopping_tobe\n",
    "print(shopping_couple)\n",
    "print (\"--\"*20)\n",
    "shopping_poppy = shopping_anna *2\n",
    "print (shopping_poppy)\n",
    "\n"
   ]
  },
  {
   "cell_type": "code",
   "execution_count": 17,
   "metadata": {},
   "outputs": [
    {
     "name": "stdout",
     "output_type": "stream",
     "text": [
      "porrige\n"
     ]
    }
   ],
   "source": [
    "#Excersise 25 - Accessig an List Item \n",
    "print (shopping_anna[1])"
   ]
  },
  {
   "cell_type": "code",
   "execution_count": 18,
   "metadata": {},
   "outputs": [
    {
     "name": "stdout",
     "output_type": "stream",
     "text": [
      "banana\n",
      "['eggs', 'banana', 'nuts']\n"
     ]
    }
   ],
   "source": [
    "shopping_anna[1] = \"banana\"\n",
    "print (shopping_anna[1])\n",
    "print(shopping_anna)\n"
   ]
  },
  {
   "cell_type": "code",
   "execution_count": 19,
   "metadata": {},
   "outputs": [
    {
     "name": "stdout",
     "output_type": "stream",
     "text": [
      "nuts\n"
     ]
    }
   ],
   "source": [
    "print (shopping_anna[-1])"
   ]
  },
  {
   "cell_type": "code",
   "execution_count": 25,
   "metadata": {},
   "outputs": [
    {
     "data": {
      "text/plain": [
       "['banana', 'nuts']"
      ]
     },
     "execution_count": 25,
     "metadata": {},
     "output_type": "execute_result"
    }
   ],
   "source": [
    "#slicing (first element incl., last excl.)\n",
    "shopping_anna[1:]"
   ]
  },
  {
   "cell_type": "code",
   "execution_count": null,
   "metadata": {},
   "outputs": [],
   "source": []
  }
 ],
 "metadata": {
  "kernelspec": {
   "display_name": "Python 3",
   "language": "python",
   "name": "python3"
  },
  "language_info": {
   "codemirror_mode": {
    "name": "ipython",
    "version": 3
   },
   "file_extension": ".py",
   "mimetype": "text/x-python",
   "name": "python",
   "nbconvert_exporter": "python",
   "pygments_lexer": "ipython3",
   "version": "3.7.6"
  }
 },
 "nbformat": 4,
 "nbformat_minor": 4
}
