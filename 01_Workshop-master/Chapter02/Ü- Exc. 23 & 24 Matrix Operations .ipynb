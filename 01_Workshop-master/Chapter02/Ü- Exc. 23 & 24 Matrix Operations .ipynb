{
 "cells": [
  {
   "cell_type": "code",
   "execution_count": 11,
   "metadata": {},
   "outputs": [
    {
     "name": "stdout",
     "output_type": "stream",
     "text": [
      "[[-9, -9, -9], [-9, -9, -9], [-9, -9, -9]]\n"
     ]
    }
   ],
   "source": [
    "'''\n",
    "Matrix addtion and subtration \n",
    "both must hold the same dimension => solution same dimension\n",
    "\n",
    "'''\n",
    "x = [[1,2,3],[4,5,6],[7,8,9]]\n",
    "y = [[10,11,12],[13,14,15],[16,17,18]]\n",
    "result = [[0,0,0],[0,0,0],[0,0,0]]\n",
    "\n",
    "#iterate though rows\n",
    "for i in range(len(x)):\n",
    "    #iterate though columns\n",
    "    for j in range(len(x[0])):\n",
    "        result [i][j] = x[i][j] - y[i][j] \n",
    "        \n",
    "print (result)"
   ]
  },
  {
   "cell_type": "code",
   "execution_count": 22,
   "metadata": {},
   "outputs": [
    {
     "name": "stdout",
     "output_type": "stream",
     "text": [
      "[-9, -9, -9]\n",
      "[-9, -9, -9]\n",
      "[-9, -9, -9]\n"
     ]
    }
   ],
   "source": [
    "'''\n",
    "Matrix multiplication \n",
    "number of columns first matrix = n of rows in second matrix \n",
    "'''\n",
    "A = [[1,2],[4,5],[3,6]]\n",
    "B = [[11,12,13,14],[15,16,17,18]]\n",
    "#zero matrix for the result\n",
    "multi = [[0,0,0,0],[0,0,0,0],[0,0,0,0]]\n",
    "\n",
    "#iterate by row of A\n",
    "for a in range (len(A)):\n",
    "    \n",
    "    #iterating by column by B\n",
    "    for b in range (len(B[0])):\n",
    "        \n",
    "        #iterating by rows of B\n",
    "        for c in range (len(B)):\n",
    "            multi [a][b] += A[a][c] * B[c][b] \n",
    "for r in result: \n",
    "    print (r)"
   ]
  },
  {
   "cell_type": "code",
   "execution_count": null,
   "metadata": {},
   "outputs": [],
   "source": [
    "#EXERCISE NO. 25 Basic List operations\n",
    "#one of the best data structures to use "
   ]
  },
  {
   "cell_type": "code",
   "execution_count": null,
   "metadata": {},
   "outputs": [],
   "source": []
  }
 ],
 "metadata": {
  "kernelspec": {
   "display_name": "Python 3",
   "language": "python",
   "name": "python3"
  },
  "language_info": {
   "codemirror_mode": {
    "name": "ipython",
    "version": 3
   },
   "file_extension": ".py",
   "mimetype": "text/x-python",
   "name": "python",
   "nbconvert_exporter": "python",
   "pygments_lexer": "ipython3",
   "version": "3.7.6"
  }
 },
 "nbformat": 4,
 "nbformat_minor": 4
}
