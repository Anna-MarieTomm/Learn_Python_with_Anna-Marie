{
 "cells": [
  {
   "cell_type": "code",
   "execution_count": 5,
   "metadata": {},
   "outputs": [],
   "source": [
    "#Zipping and Unzipping Dictrionaries Using zip()\n",
    "#remember: list with indexes and []\n",
    "# dictionary: with cues and {}\n"
   ]
  },
  {
   "cell_type": "code",
   "execution_count": 19,
   "metadata": {},
   "outputs": [
    {
     "name": "stdout",
     "output_type": "stream",
     "text": [
      "w/o converting\n",
      "<zip object at 0x107dacc30>\n",
      "------------------------------\n",
      "converted list: [('apple', 4), ('orange', 3), ('banana', 2)]\n",
      "------------------------------\n",
      "converted tuple: (('apple', 4), ('orange', 3), ('banana', 2))\n",
      "------------------------------\n",
      "converted dictionary: {'apple': 4, 'orange': 3, 'banana': 2}\n"
     ]
    }
   ],
   "source": [
    "#two list with values \n",
    "items = ['apple', 'orange', 'banana']\n",
    "quantity = [4,3,2]\n",
    "\n",
    "#\"zipping\" the two list, also mapping \n",
    "\n",
    "orders = zip(items, quantity)\n",
    "\n",
    "print(\"w/o converting\")\n",
    "print (orders)\n",
    "print (\"---\"*10)\n",
    "\n",
    "#converting zip code into a list!\n",
    "\n",
    "print(\"converted list:\",\n",
    "      list(orders))\n",
    "\n",
    "print (\"---\"*10)\n",
    "\n",
    "orders = zip(items, quantity)\n",
    "\n",
    "print(\"converted tuple:\",\n",
    "      tuple(orders))\n",
    "\n",
    "print (\"---\"*10)\n",
    "\n",
    "orders = zip(items, quantity)\n",
    "\n",
    "print(\"converted dictionary:\",\n",
    "      dict(orders))"
   ]
  },
  {
   "cell_type": "code",
   "execution_count": 20,
   "metadata": {},
   "outputs": [
    {
     "data": {
      "text/plain": [
       "'\\nzip() has to be called every time! \\nthis is as: it can only generate something once \\n\\n'"
      ]
     },
     "execution_count": 20,
     "metadata": {},
     "output_type": "execute_result"
    }
   ],
   "source": [
    "'''\n",
    "zip() has to be called every time! \n",
    "this is as: it can only generate something once \n",
    "\n",
    "'''"
   ]
  },
  {
   "cell_type": "code",
   "execution_count": null,
   "metadata": {},
   "outputs": [],
   "source": []
  }
 ],
 "metadata": {
  "kernelspec": {
   "display_name": "Python 3",
   "language": "python",
   "name": "python3"
  },
  "language_info": {
   "codemirror_mode": {
    "name": "ipython",
    "version": 3
   },
   "file_extension": ".py",
   "mimetype": "text/x-python",
   "name": "python",
   "nbconvert_exporter": "python",
   "pygments_lexer": "ipython3",
   "version": "3.7.6"
  }
 },
 "nbformat": 4,
 "nbformat_minor": 4
}
