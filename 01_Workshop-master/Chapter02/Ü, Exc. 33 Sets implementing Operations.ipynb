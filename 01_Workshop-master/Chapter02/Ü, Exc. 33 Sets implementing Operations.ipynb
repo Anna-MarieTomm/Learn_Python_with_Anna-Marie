{
 "cells": [
  {
   "cell_type": "code",
   "execution_count": 4,
   "metadata": {},
   "outputs": [
    {
     "name": "stdout",
     "output_type": "stream",
     "text": [
      "lets start the exercise \n"
     ]
    }
   ],
   "source": [
    "\"\"\"\n",
    "A = Set \n",
    "B = Set\n",
    "union: all elements in A or B and in A and B (must be in one)\n",
    "intersect: all elements both in A and B (must be in bot\n",
    "\n",
    "Note: Sets are unordered! that is the difference to dictionaries,\n",
    "    lists, and tuples\n",
    "\n",
    "\"\"\"\n",
    "print(\"lets start the exercise \")"
   ]
  },
  {
   "cell_type": "code",
   "execution_count": 20,
   "metadata": {},
   "outputs": [
    {
     "name": "stdout",
     "output_type": "stream",
     "text": [
      "print both list\n",
      "{1, 2, 3, 4} {3, 4, 5, 6}\n",
      "------------------------------------------------------------\n"
     ]
    }
   ],
   "source": [
    "a = set([1,2,3,4])\n",
    "b = {3,4,5,6}\n",
    "print (\"print both list\")\n",
    "print(a, b)\n",
    "print(\"---\"*20)\n",
    "\n",
    "\n"
   ]
  },
  {
   "cell_type": "code",
   "execution_count": 21,
   "metadata": {},
   "outputs": [
    {
     "name": "stdout",
     "output_type": "stream",
     "text": [
      "print the union between the sets \n",
      "{1, 2, 3, 4, 5, 6}\n",
      "{1, 2, 3, 4, 5, 6}\n",
      "------------------------------------------------------------\n"
     ]
    }
   ],
   "source": [
    "#union, so what is in one of the both or in both \n",
    "#two different types of method\n",
    "print (\"print the union between the sets \")\n",
    "print (a|b)\n",
    "print(a.union(b))\n",
    "print(\"---\"*20)\n",
    "\n"
   ]
  },
  {
   "cell_type": "code",
   "execution_count": 23,
   "metadata": {},
   "outputs": [
    {
     "name": "stdout",
     "output_type": "stream",
     "text": [
      "print the intersect between the sets \n",
      "{3, 4}\n",
      "{3, 4}\n",
      "------------------------------------------------------------\n"
     ]
    }
   ],
   "source": [
    "#intersect (elements in a and b)\n",
    "print (\"print the intersect between the sets \")\n",
    "print (a & b) \n",
    "print(a.intersection(b))\n",
    "print(\"---\"*20)\n",
    "\n"
   ]
  },
  {
   "cell_type": "code",
   "execution_count": 28,
   "metadata": {},
   "outputs": [
    {
     "name": "stdout",
     "output_type": "stream",
     "text": [
      "print the DIFFERNECE between the sets \n",
      "{1, 2}\n",
      "{1, 2}\n",
      "------------------------------------------------------------\n"
     ]
    }
   ],
   "source": [
    "#Difference of a & b: all elements in A that are not in elements of B\n",
    "#the first set inidcates the elements searched for \n",
    "print (\"print the DIFFERNECE between the sets \")\n",
    "print (a-b) \n",
    "print(a.difference(b))\n",
    "print(\"---\"*20)\n",
    "\n"
   ]
  },
  {
   "cell_type": "code",
   "execution_count": 41,
   "metadata": {},
   "outputs": [
    {
     "name": "stdout",
     "output_type": "stream",
     "text": [
      "print if one set is a GENERAL subset of the other between the sets \n",
      "False\n",
      "False\n",
      "------------------------------------------------------------\n",
      "True\n",
      "------------------------------------------------------------\n",
      "print PROPPER Subset, cannot be the same\n",
      "False\n",
      "True\n"
     ]
    }
   ],
   "source": [
    "\n",
    "#the first set inidcates the elements searched for \n",
    "print (\"print if one set is a GENERAL subset of the other between the sets \")\n",
    "print (a <= b) \n",
    "print(a.issubset(b))\n",
    "print(\"---\"*20)\n",
    "\n",
    "#create new set where one set is a superset of the other \n",
    "c = {1,2,3}\n",
    "d = {1,2,3,4,5,6,7,8}\n",
    "print(c<=d)\n",
    "print(\"---\"*20)\n",
    "\n",
    "#subsets are not allowed to be identical\n",
    "print(\"print PROPPER Subset, cannot be the same\")\n",
    "e = {1,2,3}\n",
    "print(c<e)\n",
    "print(c.issubset(e))"
   ]
  },
  {
   "cell_type": "code",
   "execution_count": 45,
   "metadata": {},
   "outputs": [
    {
     "name": "stdout",
     "output_type": "stream",
     "text": [
      "False\n",
      "False\n",
      "False\n"
     ]
    }
   ],
   "source": [
    "#>= issuperset method\n",
    "print(a.issuperset(b))\n",
    "print(a>=b)\n",
    "print(a>b)\n"
   ]
  },
  {
   "cell_type": "code",
   "execution_count": null,
   "metadata": {},
   "outputs": [],
   "source": []
  }
 ],
 "metadata": {
  "kernelspec": {
   "display_name": "Python 3",
   "language": "python",
   "name": "python3"
  },
  "language_info": {
   "codemirror_mode": {
    "name": "ipython",
    "version": 3
   },
   "file_extension": ".py",
   "mimetype": "text/x-python",
   "name": "python",
   "nbconvert_exporter": "python",
   "pygments_lexer": "ipython3",
   "version": "3.7.6"
  }
 },
 "nbformat": 4,
 "nbformat_minor": 4
}
