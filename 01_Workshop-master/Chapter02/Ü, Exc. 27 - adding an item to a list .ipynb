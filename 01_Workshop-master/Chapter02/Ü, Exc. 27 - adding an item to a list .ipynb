{
 "cells": [
  {
   "cell_type": "code",
   "execution_count": 22,
   "metadata": {},
   "outputs": [
    {
     "name": "stdout",
     "output_type": "stream",
     "text": [
      "['eggs', 'porrige', 'nuts', 'rice', 'chicken', 'popcern']\n",
      "------------------------------------------------------------\n"
     ]
    }
   ],
   "source": [
    "#adding to list = appending (method: append)\n",
    "\n",
    "shopping_anna = [\"eggs\", \"porrige\", \"nuts\"]\n",
    "shopping_tobe = [\"rice\", \"chicken\", \"popcern\"]\n",
    "shopping_couple = shopping_anna + shopping_tobe\n",
    "print(shopping_couple)\n",
    "print (\"--\"*30)\n",
    "\n"
   ]
  },
  {
   "cell_type": "code",
   "execution_count": 23,
   "metadata": {},
   "outputs": [
    {
     "name": "stdout",
     "output_type": "stream",
     "text": [
      "['eggs', 'porrige', 'nuts', 'apples']\n"
     ]
    }
   ],
   "source": [
    "#when the code is being ran several times the append is added every time\n",
    "shopping_anna.append(\"apples\")\n",
    "print(shopping_anna)"
   ]
  },
  {
   "cell_type": "code",
   "execution_count": 24,
   "metadata": {},
   "outputs": [
    {
     "name": "stdout",
     "output_type": "stream",
     "text": [
      "['eggs', 'porrige', 'nuts', 'apples', 'flowers']\n"
     ]
    }
   ],
   "source": [
    "shopping_anna.append(\"flowers\")\n",
    "print(shopping_anna)"
   ]
  },
  {
   "cell_type": "code",
   "execution_count": 25,
   "metadata": {},
   "outputs": [
    {
     "name": "stdout",
     "output_type": "stream",
     "text": [
      "['eggs', 'porrige', 'nuts', 'apples', 'flowers', 'make up']\n"
     ]
    }
   ],
   "source": [
    "shopping_anna.append(\"make up\")\n",
    "print(shopping_anna)"
   ]
  },
  {
   "cell_type": "code",
   "execution_count": 30,
   "metadata": {},
   "outputs": [
    {
     "name": "stdout",
     "output_type": "stream",
     "text": [
      "['bag', 'bag', 'eggs', 'bag', 'porrige', 'nuts', 'apples', 'flowers', 'make up']\n"
     ]
    }
   ],
   "source": [
    "shopping_anna.insert(3,\"bag\")\n",
    "print(shopping_anna)"
   ]
  },
  {
   "cell_type": "code",
   "execution_count": null,
   "metadata": {},
   "outputs": [],
   "source": []
  },
  {
   "cell_type": "code",
   "execution_count": null,
   "metadata": {},
   "outputs": [],
   "source": []
  },
  {
   "cell_type": "code",
   "execution_count": null,
   "metadata": {},
   "outputs": [],
   "source": []
  }
 ],
 "metadata": {
  "kernelspec": {
   "display_name": "Python 3",
   "language": "python",
   "name": "python3"
  },
  "language_info": {
   "codemirror_mode": {
    "name": "ipython",
    "version": 3
   },
   "file_extension": ".py",
   "mimetype": "text/x-python",
   "name": "python",
   "nbconvert_exporter": "python",
   "pygments_lexer": "ipython3",
   "version": "3.7.6"
  }
 },
 "nbformat": 4,
 "nbformat_minor": 4
}
