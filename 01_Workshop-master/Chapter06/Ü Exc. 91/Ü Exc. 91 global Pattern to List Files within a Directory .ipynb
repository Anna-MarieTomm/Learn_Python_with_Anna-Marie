{
 "cells": [
  {
   "cell_type": "code",
   "execution_count": 7,
   "metadata": {},
   "outputs": [],
   "source": [
    "from IPython.display import Image \n"
   ]
  },
  {
   "cell_type": "code",
   "execution_count": 13,
   "metadata": {},
   "outputs": [
    {
     "name": "stdout",
     "output_type": "stream",
     "text": [
      "*.txt: [PosixPath('path-exercise/file_a.txt')]\n"
     ]
    }
   ],
   "source": [
    "import pathlib \n",
    "\n",
    "#object is called p \n",
    "p = pathlib.Path(\"path-exercise/\")\n",
    "\n",
    "#find all files with the txt extension \n",
    "#* means only the first text file is printed out \n",
    "#search for all text files \n",
    "txt_files = p.glob(\"*.txt\")\n",
    "# transformation into list: \n",
    "print(\"*.txt:\", list(txt_files))\n"
   ]
  },
  {
   "cell_type": "code",
   "execution_count": 14,
   "metadata": {},
   "outputs": [
    {
     "name": "stdout",
     "output_type": "stream",
     "text": [
      "**/*.txt: [PosixPath('path-exercise/file_a.txt'), PosixPath('path-exercise/folder_2/folder_3/file_d.txt'), PosixPath('path-exercise/folder_1/file_b.txt')]\n"
     ]
    }
   ],
   "source": [
    "# list with all files with double asterix \n",
    "# glob gives the ending! therefore, only text files represented \n",
    "print( \"**/*.txt:\", list(p.glob(\"**/*txt\")))"
   ]
  },
  {
   "cell_type": "code",
   "execution_count": 15,
   "metadata": {},
   "outputs": [
    {
     "name": "stdout",
     "output_type": "stream",
     "text": [
      "**/*.txt: [PosixPath('path-exercise/folder_1/file_c.py')]\n"
     ]
    }
   ],
   "source": [
    "#print the py files \n",
    "print( \"**/*.txt:\", list(p.glob(\"**/*py\")))"
   ]
  },
  {
   "cell_type": "code",
   "execution_count": 16,
   "metadata": {},
   "outputs": [
    {
     "name": "stdout",
     "output_type": "stream",
     "text": [
      "*/*: [PosixPath('path-exercise/folder_2/folder_3'), PosixPath('path-exercise/folder_1/file_b.txt'), PosixPath('path-exercise/folder_1/file_c.py')]\n"
     ]
    }
   ],
   "source": [
    "# list of things in subdictornary \n",
    "print( \"*/*:\", list(p.glob(\"*/*\")))"
   ]
  },
  {
   "cell_type": "code",
   "execution_count": 17,
   "metadata": {},
   "outputs": [
    {
     "name": "stdout",
     "output_type": "stream",
     "text": [
      "Files in */*: [PosixPath('path-exercise/folder_1/file_b.txt'), PosixPath('path-exercise/folder_1/file_c.py')]\n"
     ]
    }
   ],
   "source": [
    "#only files tha are in paths by checking is_file method \n",
    "print(\"Files in */*:\", [f for f in p.glob(\"*/*\") if f.is_file()])"
   ]
  },
  {
   "cell_type": "code",
   "execution_count": null,
   "metadata": {},
   "outputs": [],
   "source": []
  },
  {
   "cell_type": "code",
   "execution_count": null,
   "metadata": {},
   "outputs": [],
   "source": []
  }
 ],
 "metadata": {
  "kernelspec": {
   "display_name": "Python 3",
   "language": "python",
   "name": "python3"
  },
  "language_info": {
   "codemirror_mode": {
    "name": "ipython",
    "version": 3
   },
   "file_extension": ".py",
   "mimetype": "text/x-python",
   "name": "python",
   "nbconvert_exporter": "python",
   "pygments_lexer": "ipython3",
   "version": "3.7.6"
  }
 },
 "nbformat": 4,
 "nbformat_minor": 4
}
