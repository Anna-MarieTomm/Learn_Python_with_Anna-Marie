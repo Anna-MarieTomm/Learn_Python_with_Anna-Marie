{
 "cells": [
  {
   "cell_type": "markdown",
   "metadata": {},
   "source": [
    "subprocess module to create an interact with other programs installed on the OS \n",
    "subprocess. run futinion and its different arguments make it easy to interact with different kinds of programs, check their output, and validate their results "
   ]
  },
  {
   "cell_type": "code",
   "execution_count": 9,
   "metadata": {},
   "outputs": [
    {
     "data": {
      "text/plain": [
       "CompletedProcess(args=['ls'], returncode=0)"
      ]
     },
     "execution_count": 9,
     "metadata": {},
     "output_type": "execute_result"
    }
   ],
   "source": [
    "import subprocess \n",
    "subprocess.run([\"ls\"])"
   ]
  },
  {
   "cell_type": "code",
   "execution_count": 8,
   "metadata": {},
   "outputs": [
    {
     "name": "stdout",
     "output_type": "stream",
     "text": [
      "stdout: \n",
      " Activity15\n",
      "Activity16\n",
      "Activity17\n",
      "Exercise85\n",
      "Exercise86\n",
      "Exercise87\n",
      "Exercise88\n",
      "Exercise89\n",
      "Exercise90\n",
      "Exercise91\n",
      "Exercise92\n",
      "Exercise93\n",
      "Exercise94\n",
      "Exercise95\n",
      "Exercise96\n",
      "Exercise97\n",
      "Exercise98\n",
      "Ü Exc. 91\n",
      "__pycache__\n",
      "echo.py\n",
      "Ü 85 Using dataclass module.ipynb\n",
      "Ü 87 comparing datetimes across time zones .ipynb\n",
      "Ü 88 Calculating the Time Delta between two datetime Objects .ipynb\n",
      "Ü 89 Calculating the Unix Epoch Time .ipynb\n",
      "Ü 91 pathlib (glob Pattern to List files within a Directory).ipynb\n",
      "Ü Act. 15 Calculating the time elapsed to run a loop .ipynb\n",
      "Ü Exc. 86 extending the echo.py example .ipynb\n",
      "Ü Exc. 90 inspecting the current process information .ipynb\n",
      "Ü Exc. 91 global Pattern to List Files within a Directory .ipynb\n",
      "Ü using the subprocess module .ipynb\n",
      "\n",
      "stderr:  \n",
      "rc: 0\n"
     ]
    }
   ],
   "source": [
    "#if we want to see the capture \n",
    "import subprocess \n",
    "# text to dispay in a nicer way (with text= True), otherwise in byte\n",
    "result = subprocess.run([\"ls\"], capture_output= True, text = True)\n",
    "print(\"stdout: \\n\", result.stdout)\n",
    "\n",
    "print(\"stderr: \", result.stderr)\n",
    "\n",
    "\n",
    "# check the return code \n",
    "print(\"rc:\", result.returncode)"
   ]
  },
  {
   "cell_type": "code",
   "execution_count": 7,
   "metadata": {},
   "outputs": [
    {
     "name": "stdout",
     "output_type": "stream",
     "text": [
      "stdout: \n",
      " total 104\n",
      "drwxr-xr-x@ 4 anna-marietomm  staff   128 Apr  6 12:12 Activity15\n",
      "drwxr-xr-x@ 3 anna-marietomm  staff    96 Nov 27 06:27 Activity16\n",
      "drwxr-xr-x@ 3 anna-marietomm  staff    96 Nov 27 06:27 Activity17\n",
      "drwxr-xr-x@ 3 anna-marietomm  staff    96 Nov 27 06:27 Exercise85\n",
      "drwxr-xr-x@ 3 anna-marietomm  staff    96 Nov 27 06:27 Exercise86\n",
      "drwxr-xr-x@ 3 anna-marietomm  staff    96 Nov 27 06:27 Exercise87\n",
      "drwxr-xr-x@ 3 anna-marietomm  staff    96 Nov 27 06:27 Exercise88\n",
      "drwxr-xr-x@ 3 anna-marietomm  staff    96 Nov 27 06:27 Exercise89\n",
      "drwxr-xr-x@ 4 anna-marietomm  staff   128 Apr  6 12:54 Exercise90\n",
      "drwxr-xr-x@ 6 anna-marietomm  staff   192 Apr  7 09:50 Exercise91\n",
      "drwxr-xr-x@ 3 anna-marietomm  staff    96 Nov 27 06:27 Exercise92\n",
      "drwxr-xr-x@ 3 anna-marietomm  staff    96 Nov 27 06:27 Exercise93\n",
      "drwxr-xr-x@ 4 anna-marietomm  staff   128 Nov 27 06:27 Exercise94\n",
      "drwxr-xr-x@ 3 anna-marietomm  staff    96 Nov 27 06:27 Exercise95\n",
      "drwxr-xr-x@ 3 anna-marietomm  staff    96 Nov 27 06:27 Exercise96\n",
      "drwxr-xr-x@ 3 anna-marietomm  staff    96 Nov 27 06:27 Exercise97\n",
      "drwxr-xr-x@ 3 anna-marietomm  staff    96 Nov 27 06:27 Exercise98\n",
      "drwxr-xr-x  9 anna-marietomm  staff   288 Apr  7 10:19 Ü Exc. 91\n",
      "drwxr-xr-x  3 anna-marietomm  staff    96 Apr  6 09:55 __pycache__\n",
      "-rw-r--r--  1 anna-marietomm  staff   560 Apr  6 10:02 echo.py\n",
      "-rw-r--r--  1 anna-marietomm  staff  2613 Apr  6 09:39 Ü 85 Using dataclass module.ipynb\n",
      "-rw-r--r--  1 anna-marietomm  staff  4094 Apr  6 11:01 Ü 87 comparing datetimes across time zones .ipynb\n",
      "-rw-r--r--  1 anna-marietomm  staff  2615 Apr  6 11:21 Ü 88 Calculating the Time Delta between two datetime Objects .ipynb\n",
      "-rw-r--r--  1 anna-marietomm  staff  4142 Apr  6 12:01 Ü 89 Calculating the Unix Epoch Time .ipynb\n",
      "-rw-r--r--  1 anna-marietomm  staff  1666 Apr  6 13:09 Ü 91 pathlib (glob Pattern to List files within a Directory).ipynb\n",
      "-rw-r--r--  1 anna-marietomm  staff  1985 Apr  6 12:13 Ü Act. 15 Calculating the time elapsed to run a loop .ipynb\n",
      "-rw-r--r--  1 anna-marietomm  staff  2003 Apr  6 10:05 Ü Exc. 86 extending the echo.py example .ipynb\n",
      "-rw-r--r--  1 anna-marietomm  staff  7072 Apr  6 12:55 Ü Exc. 90 inspecting the current process information .ipynb\n",
      "-rw-r--r--  1 anna-marietomm  staff  2855 Apr  7 09:46 Ü Exc. 91 global Pattern to List Files within a Directory .ipynb\n",
      "-rw-r--r--  1 anna-marietomm  staff  2596 Apr  7 10:26 Ü using the subprocess module .ipynb\n",
      "\n",
      "stderr:  \n"
     ]
    }
   ],
   "source": [
    " \n",
    "import subprocess \n",
    "#with more details: , \"-l\"\n",
    "result = subprocess.run([\"ls\", \"-l\"], capture_output= True, text = True)\n",
    "print(\"stdout: \\n\", result.stdout)\n",
    "\n",
    "print(\"stderr: \", result.stderr)"
   ]
  },
  {
   "cell_type": "code",
   "execution_count": null,
   "metadata": {},
   "outputs": [],
   "source": []
  }
 ],
 "metadata": {
  "kernelspec": {
   "display_name": "Python 3",
   "language": "python",
   "name": "python3"
  },
  "language_info": {
   "codemirror_mode": {
    "name": "ipython",
    "version": 3
   },
   "file_extension": ".py",
   "mimetype": "text/x-python",
   "name": "python",
   "nbconvert_exporter": "python",
   "pygments_lexer": "ipython3",
   "version": "3.7.6"
  }
 },
 "nbformat": 4,
 "nbformat_minor": 4
}
