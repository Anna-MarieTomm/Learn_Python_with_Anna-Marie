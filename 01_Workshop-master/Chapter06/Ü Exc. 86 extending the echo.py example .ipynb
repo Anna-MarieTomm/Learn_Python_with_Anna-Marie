{
 "cells": [
  {
   "cell_type": "code",
   "execution_count": 7,
   "metadata": {},
   "outputs": [
    {
     "name": "stdout",
     "output_type": "stream",
     "text": [
      "usage: echo.py [-h] [-c] [--repeat REPEAT] message [message ...]\n",
      "\n",
      "Prints out the words passed in, capitalizes them if required and repeat them\n",
      "in as many lines as requested.\n",
      "\n",
      "positional arguments:\n",
      "  message           Messages to be echoed\n",
      "\n",
      "optional arguments:\n",
      "  -h, --help        show this help message and exit\n",
      "  -c, --capitalize\n",
      "  --repeat REPEAT\n"
     ]
    }
   ],
   "source": [
    "%run echo -h"
   ]
  },
  {
   "cell_type": "code",
   "execution_count": 15,
   "metadata": {},
   "outputs": [
    {
     "name": "stdout",
     "output_type": "stream",
     "text": [
      "hello packt reader\n",
      "hello packt reader\n",
      "hello packt reader\n",
      "hello packt reader\n",
      "hello packt reader\n"
     ]
    }
   ],
   "source": [
    "%run echo hello packt reader --repeat=5 \n"
   ]
  },
  {
   "cell_type": "code",
   "execution_count": 18,
   "metadata": {},
   "outputs": [
    {
     "name": "stdout",
     "output_type": "stream",
     "text": [
      "Anna-marie Is Going To Very Good In Programming Py\n"
     ]
    }
   ],
   "source": [
    "%run echo Anna-Marie is going to very good in programming py -c"
   ]
  },
  {
   "cell_type": "code",
   "execution_count": null,
   "metadata": {},
   "outputs": [],
   "source": []
  }
 ],
 "metadata": {
  "kernelspec": {
   "display_name": "Python 3",
   "language": "python",
   "name": "python3"
  },
  "language_info": {
   "codemirror_mode": {
    "name": "ipython",
    "version": 3
   },
   "file_extension": ".py",
   "mimetype": "text/x-python",
   "name": "python",
   "nbconvert_exporter": "python",
   "pygments_lexer": "ipython3",
   "version": "3.7.6"
  }
 },
 "nbformat": 4,
 "nbformat_minor": 4
}
