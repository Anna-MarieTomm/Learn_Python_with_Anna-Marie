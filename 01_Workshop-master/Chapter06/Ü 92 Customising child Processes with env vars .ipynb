{
 "cells": [
  {
   "cell_type": "code",
   "execution_count": 6,
   "metadata": {},
   "outputs": [
    {
     "name": "stdout",
     "output_type": "stream",
     "text": [
      "TERM_PROGRAM=Apple_Terminal\n",
      "TERM=xterm-color\n",
      "SHELL=/bin/bash\n",
      "TMPDIR=/var/folders/54/9srsqzp11cjg87jrrtznzyxc0000gn/T/\n",
      "CONDA_SHLVL=1\n",
      "TERM_PROGRAM_VERSION=433\n",
      "CONDA_PROMPT_MODIFIER=(base) \n",
      "TERM_SESSION_ID=3BEF7600-C038-44C5-A118-D66464809DC1\n",
      "LC_ALL=en_US.UTF-8\n",
      "USER=anna-marietomm\n",
      "CONDA_EXE=/Users/anna-marietomm/opt/anaconda3/bin/conda\n",
      "SSH_AUTH_SOCK=/private/tmp/com.apple.launchd.dXB6PyvaLE/Listeners\n",
      "_CE_CONDA=\n",
      "CONDA_ROOT=/Users/anna-marietomm/opt/anaconda3\n",
      "PATH=/Users/anna-marietomm/opt/anaconda3/bin:/Library/Frameworks/Python.framework/Versions/3.7/bin:/Library/Frameworks/Python.framework/Versions/3.7/bin:/Library/Frameworks/Python.framework/Versions/3.7/bin:/usr/local/bin:/usr/bin:/bin:/usr/sbin:/sbin:/Library/Frameworks/Mono.framework/Versions/Current/Commands\n",
      "CONDA_PREFIX=/Users/anna-marietomm/opt/anaconda3\n",
      "PWD=/Users/anna-marietomm\n",
      "LANG=en_US.UTF-8\n",
      "XPC_FLAGS=0x0\n",
      "_CE_M=\n",
      "XPC_SERVICE_NAME=0\n",
      "SHLVL=4\n",
      "HOME=/Users/anna-marietomm\n",
      "CONDA_PYTHON_EXE=/Users/anna-marietomm/opt/anaconda3/bin/python\n",
      "LOGNAME=anna-marietomm\n",
      "LC_CTYPE=UTF-8\n",
      "CONDA_DEFAULT_ENV=base\n",
      "_=/Users/anna-marietomm/opt/anaconda3/bin/jupyter-notebook\n",
      "KERNEL_LAUNCH_TIMEOUT=40\n",
      "JPY_PARENT_PID=37697\n",
      "__CF_USER_TEXT_ENCODING=0x1F5:0x0:0x0\n",
      "CLICOLOR=1\n",
      "PAGER=cat\n",
      "GIT_PAGER=cat\n",
      "MPLBACKEND=module://ipykernel.pylab.backend_inline\n",
      "\n"
     ]
    }
   ],
   "source": [
    "#change env variables (e.g. for privacy issues)\n",
    "import subprocess\n",
    "result = subprocess.run(\n",
    "    [\"env\"], \n",
    "    capture_output = True, \n",
    "    text = True\n",
    ")\n",
    "print(result.stdout)"
   ]
  },
  {
   "cell_type": "markdown",
   "metadata": {},
   "source": [
    "use a differen set of environment variables \n",
    "- customize the environment varialbe that our subprocess has, we could use the env keyword of the subprocess. run method: \n",
    "\n"
   ]
  },
  {
   "cell_type": "code",
   "execution_count": 10,
   "metadata": {},
   "outputs": [
    {
     "name": "stdout",
     "output_type": "stream",
     "text": [
      "SERVER=OTHER_SERVER\n",
      "\n"
     ]
    }
   ],
   "source": [
    "#completely replace a specific variable\n",
    "result = subprocess.run(\n",
    "    [\"env\"],\n",
    "    capture_output=True,\n",
    "    text=True,\n",
    "    env={\"SERVER\": \"OTHER_SERVER\"}\n",
    ")\n",
    "print(result.stdout)\n"
   ]
  },
  {
   "cell_type": "markdown",
   "metadata": {},
   "source": [
    "modification of the default set of variables "
   ]
  },
  {
   "cell_type": "code",
   "execution_count": 11,
   "metadata": {},
   "outputs": [
    {
     "name": "stdout",
     "output_type": "stream",
     "text": [
      "TERM_PROGRAM=Apple_Terminal\n",
      "TERM=xterm-color\n",
      "SHELL=/bin/bash\n",
      "TMPDIR=/var/folders/54/9srsqzp11cjg87jrrtznzyxc0000gn/T/\n",
      "CONDA_SHLVL=1\n",
      "TERM_PROGRAM_VERSION=433\n",
      "CONDA_PROMPT_MODIFIER=(base) \n",
      "TERM_SESSION_ID=3BEF7600-C038-44C5-A118-D66464809DC1\n",
      "LC_ALL=en_US.UTF-8\n",
      "USER=anna-marietomm\n",
      "CONDA_EXE=/Users/anna-marietomm/opt/anaconda3/bin/conda\n",
      "SSH_AUTH_SOCK=/private/tmp/com.apple.launchd.dXB6PyvaLE/Listeners\n",
      "_CE_CONDA=\n",
      "CONDA_ROOT=/Users/anna-marietomm/opt/anaconda3\n",
      "PATH=/Users/anna-marietomm/opt/anaconda3/bin:/Library/Frameworks/Python.framework/Versions/3.7/bin:/Library/Frameworks/Python.framework/Versions/3.7/bin:/Library/Frameworks/Python.framework/Versions/3.7/bin:/usr/local/bin:/usr/bin:/bin:/usr/sbin:/sbin:/Library/Frameworks/Mono.framework/Versions/Current/Commands\n",
      "CONDA_PREFIX=/Users/anna-marietomm/opt/anaconda3\n",
      "PWD=/Users/anna-marietomm\n",
      "LANG=en_US.UTF-8\n",
      "XPC_FLAGS=0x0\n",
      "_CE_M=\n",
      "XPC_SERVICE_NAME=0\n",
      "SHLVL=4\n",
      "HOME=/Users/anna-marietomm\n",
      "CONDA_PYTHON_EXE=/Users/anna-marietomm/opt/anaconda3/bin/python\n",
      "LOGNAME=anna-marietomm\n",
      "LC_CTYPE=UTF-8\n",
      "CONDA_DEFAULT_ENV=base\n",
      "_=/Users/anna-marietomm/opt/anaconda3/bin/jupyter-notebook\n",
      "KERNEL_LAUNCH_TIMEOUT=40\n",
      "JPY_PARENT_PID=37697\n",
      "CLICOLOR=1\n",
      "PAGER=cat\n",
      "GIT_PAGER=cat\n",
      "MPLBACKEND=module://ipykernel.pylab.backend_inline\n",
      "SERVER=OTHER_SERVER\n",
      "\n"
     ]
    }
   ],
   "source": [
    "import os\n",
    "result = subprocess.run(\n",
    "    [\"env\"],\n",
    "    capture_output=True,\n",
    "    text=True,\n",
    "    env={**os.environ, \"SERVER\": \"OTHER_SERVER\"}\n",
    ")\n",
    "print(result.stdout)"
   ]
  },
  {
   "cell_type": "code",
   "execution_count": null,
   "metadata": {},
   "outputs": [],
   "source": []
  }
 ],
 "metadata": {
  "kernelspec": {
   "display_name": "Python 3",
   "language": "python",
   "name": "python3"
  },
  "language_info": {
   "codemirror_mode": {
    "name": "ipython",
    "version": 3
   },
   "file_extension": ".py",
   "mimetype": "text/x-python",
   "name": "python",
   "nbconvert_exporter": "python",
   "pygments_lexer": "ipython3",
   "version": "3.7.6"
  }
 },
 "nbformat": 4,
 "nbformat_minor": 4
}
