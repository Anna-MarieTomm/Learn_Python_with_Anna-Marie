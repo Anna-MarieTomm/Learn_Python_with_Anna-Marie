{
 "cells": [
  {
   "cell_type": "code",
   "execution_count": 29,
   "metadata": {},
   "outputs": [],
   "source": [
    "from IPython.display import Image "
   ]
  },
  {
   "cell_type": "code",
   "execution_count": 30,
   "metadata": {},
   "outputs": [
    {
     "name": "stdout",
     "output_type": "stream",
     "text": [
      "*.txt: []\n"
     ]
    }
   ],
   "source": [
    "import pathlib \n",
    "\n",
    "#object is called p \n",
    "p = pathlib.Path(\"path_exercise/\")\n",
    "\n",
    "#find all files with the txt extension \n",
    "#* means only the first text file is printed out \n",
    "#search for all text files \n",
    "txt_files = p.glob(\"*.txt\")\n",
    "# transformation into list: \n",
    "print(\"*.txt:\", list(txt_files))\n"
   ]
  },
  {
   "cell_type": "code",
   "execution_count": 31,
   "metadata": {},
   "outputs": [
    {
     "name": "stdout",
     "output_type": "stream",
     "text": [
      "**/*.txt: []\n"
     ]
    }
   ],
   "source": [
    "# list with all files with double asterix \n",
    "# glob gives the ending! therefore, only text files represented \n",
    "print( \"**/*.txt:\", list(p.glob(\"**/*txt\")))"
   ]
  },
  {
   "cell_type": "code",
   "execution_count": 32,
   "metadata": {},
   "outputs": [
    {
     "name": "stdout",
     "output_type": "stream",
     "text": [
      "**/*.txt: []\n"
     ]
    }
   ],
   "source": [
    "#print the py files \n",
    "print( \"**/*.txt:\", list(p.glob(\"**/*py\")))"
   ]
  },
  {
   "cell_type": "code",
   "execution_count": 33,
   "metadata": {},
   "outputs": [
    {
     "name": "stdout",
     "output_type": "stream",
     "text": [
      "*/*: []\n"
     ]
    }
   ],
   "source": [
    "# list of things in subdictornary \n",
    "print( \"*/*:\", list(p.glob(\"*/*\")))"
   ]
  },
  {
   "cell_type": "code",
   "execution_count": 34,
   "metadata": {},
   "outputs": [
    {
     "name": "stdout",
     "output_type": "stream",
     "text": [
      "Files in */*: []\n"
     ]
    }
   ],
   "source": [
    "#only files tha are in paths by checking is_file method \n",
    "print(\"Files in */*:\", [f for f in p.glob(\"*/*\") if f.is_file()])"
   ]
  },
  {
   "cell_type": "code",
   "execution_count": null,
   "metadata": {},
   "outputs": [],
   "source": []
  },
  {
   "cell_type": "code",
   "execution_count": null,
   "metadata": {},
   "outputs": [],
   "source": []
  }
 ],
 "metadata": {
  "kernelspec": {
   "display_name": "Python 3",
   "language": "python",
   "name": "python3"
  },
  "language_info": {
   "codemirror_mode": {
    "name": "ipython",
    "version": 3
   },
   "file_extension": ".py",
   "mimetype": "text/x-python",
   "name": "python",
   "nbconvert_exporter": "python",
   "pygments_lexer": "ipython3",
   "version": "3.7.6"
  }
 },
 "nbformat": 4,
 "nbformat_minor": 4
}
