{
 "cells": [
  {
   "cell_type": "markdown",
   "metadata": {},
   "source": [
    "- logger is a child of my ==>> my.logger \n",
    "- __name__ used for logging hierarchy \n",
    "- loggin to document what has happend\n"
   ]
  },
  {
   "cell_type": "code",
   "execution_count": 1,
   "metadata": {},
   "outputs": [],
   "source": [
    "#import of logging module \n",
    "import logging \n",
    "\n",
    "#create object form the category logger with getLogger\n",
    "logger = logging.getLogger(\"logger_name\")"
   ]
  },
  {
   "cell_type": "code",
   "execution_count": 7,
   "metadata": {},
   "outputs": [
    {
     "name": "stderr",
     "output_type": "stream",
     "text": [
      "Logging at warning\n",
      "Logging at error\n",
      "Logging at fatal\n"
     ]
    }
   ],
   "source": [
    "#log with different categories, \n",
    "logger.debug(\"Logging at debug \")\n",
    "logger.info(\"Logging at info\")\n",
    "logger.warning(\"Logging at warning\")\n",
    "logger.error(\"Logging at error\")\n",
    "logger.fatal(\"Logging at fatal\")\n",
    "\n",
    "#default is state warning and above level"
   ]
  },
  {
   "cell_type": "code",
   "execution_count": 2,
   "metadata": {},
   "outputs": [
    {
     "name": "stderr",
     "output_type": "stream",
     "text": [
      "WARNING:root:0 errors reported in moon\n",
      "WARNING:root:1 errors reported in moon\n",
      "WARNING:root:2 errors reported in moon\n"
     ]
    }
   ],
   "source": [
    "#include information when logging (some variables)\n",
    "# %d for numbers, %s for strings \n",
    "system = \"moon\"\n",
    "for number in range(3): \n",
    "    logging.warning(\"%d errors reported in %s\", number, system)"
   ]
  },
  {
   "cell_type": "code",
   "execution_count": null,
   "metadata": {},
   "outputs": [],
   "source": []
  }
 ],
 "metadata": {
  "kernelspec": {
   "display_name": "Python 3",
   "language": "python",
   "name": "python3"
  },
  "language_info": {
   "codemirror_mode": {
    "name": "ipython",
    "version": 3
   },
   "file_extension": ".py",
   "mimetype": "text/x-python",
   "name": "python",
   "nbconvert_exporter": "python",
   "pygments_lexer": "ipython3",
   "version": "3.7.6"
  }
 },
 "nbformat": 4,
 "nbformat_minor": 4
}
