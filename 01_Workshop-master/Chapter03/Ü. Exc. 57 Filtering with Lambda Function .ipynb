{
 "cells": [
  {
   "cell_type": "markdown",
   "metadata": {},
   "source": [
    "filter returns the elements for which the function returns True\n"
   ]
  },
  {
   "cell_type": "code",
   "execution_count": 48,
   "metadata": {},
   "outputs": [
    {
     "name": "stdout",
     "output_type": "stream",
     "text": [
      "all names: ['Ani', 'Susan', 'Mara', 'Lea', 'Petery', 'Ben', 'Luc']\n",
      "['Petery']\n",
      "['Ani', 'Lea', 'Ben', 'Luc', 'Mara', 'Susan', 'Petery']\n"
     ]
    }
   ],
   "source": [
    "#look for all names with 3 letters\n",
    "names = [\"Ani\", \"Susan\", \"Lea\", \"Petery\", \"Ben\"]\n",
    "names.append(\"Luc\")\n",
    "names.insert(2,\"Mara\")\n",
    "print(\"all names:\", names)\n",
    "print(list(filter(lambda name: len(name) == 6, names)))\n",
    "\n",
    "\n",
    "#also usefull to sort numbers \n",
    "print(sorted(names, key=lambda x: len(x)))"
   ]
  },
  {
   "cell_type": "markdown",
   "metadata": {},
   "source": [
    "----------------------------------------------------------\n",
    "TASK: calculation of sum of all muliples of 3 and 7 below 1,000\n",
    "\n",
    "example: muliples of 3 and 7 below 10: 3,6,7,9== 25\n",
    "\n",
    "________________________\n"
   ]
  },
  {
   "cell_type": "code",
   "execution_count": 49,
   "metadata": {},
   "outputs": [],
   "source": [
    "#list of numbers between 0-999\n",
    "#note: upper value not included \n",
    "numbers = list(range(1000))\n",
    "\n"
   ]
  },
  {
   "cell_type": "code",
   "execution_count": 50,
   "metadata": {},
   "outputs": [],
   "source": [
    "#lambda to filter whats dividable by 3 or 7\n",
    "#with the % (modulo) operator \n",
    "add_number= filter(lambda number: number%3 == 0 or number%7 ==0, numbers)"
   ]
  },
  {
   "cell_type": "code",
   "execution_count": 43,
   "metadata": {},
   "outputs": [
    {
     "data": {
      "text/plain": [
       "214216"
      ]
     },
     "execution_count": 43,
     "metadata": {},
     "output_type": "execute_result"
    }
   ],
   "source": [
    "\n",
    "\n",
    "sum(add_number)"
   ]
  },
  {
   "cell_type": "markdown",
   "metadata": {},
   "source": [
    "Sorting with Lambda Functions"
   ]
  },
  {
   "cell_type": "code",
   "execution_count": null,
   "metadata": {},
   "outputs": [],
   "source": []
  }
 ],
 "metadata": {
  "kernelspec": {
   "display_name": "Python 3",
   "language": "python",
   "name": "python3"
  },
  "language_info": {
   "codemirror_mode": {
    "name": "ipython",
    "version": 3
   },
   "file_extension": ".py",
   "mimetype": "text/x-python",
   "name": "python",
   "nbconvert_exporter": "python",
   "pygments_lexer": "ipython3",
   "version": "3.7.6"
  }
 },
 "nbformat": 4,
 "nbformat_minor": 4
}
