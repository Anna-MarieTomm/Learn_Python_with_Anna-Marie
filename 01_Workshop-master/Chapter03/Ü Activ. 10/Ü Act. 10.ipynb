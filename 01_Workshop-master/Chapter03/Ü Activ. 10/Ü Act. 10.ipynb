{
 "cells": [
  {
   "cell_type": "code",
   "execution_count": 37,
   "metadata": {},
   "outputs": [
    {
     "name": "stdout",
     "output_type": "stream",
     "text": [
      "2\n"
     ]
    }
   ],
   "source": [
    "#working code \n",
    "\n",
    "def factorial_iterative (n): \n",
    "    previous = 0 \n",
    "    current = 1\n",
    "    for n in range (n-1): \n",
    "        current_old = current \n",
    "        current = previous + current\n",
    "        previous = current_old \n",
    "        \n",
    "    return current\n",
    "    \n",
    "print(factorial_iterative(3))\n"
   ]
  },
  {
   "cell_type": "code",
   "execution_count": 46,
   "metadata": {},
   "outputs": [
    {
     "data": {
      "text/plain": [
       "2"
      ]
     },
     "execution_count": 46,
     "metadata": {},
     "output_type": "execute_result"
    }
   ],
   "source": [
    "#recursive function\n",
    "def fibonacci_recursive(n):\n",
    "    if n == 0 or n == 1:\n",
    "        return n\n",
    "    else:\n",
    "        #calling the function, till the if statement is reached \n",
    "        return fibonacci_recursive(n - 2) + fibonacci_recursive(n - 1)\n",
    "    \n",
    "fibonacci_recursive(3)\n",
    "\n",
    "\n",
    "\n"
   ]
  },
  {
   "cell_type": "code",
   "execution_count": null,
   "metadata": {},
   "outputs": [],
   "source": []
  }
 ],
 "metadata": {
  "kernelspec": {
   "display_name": "Python 3",
   "language": "python",
   "name": "python3"
  },
  "language_info": {
   "codemirror_mode": {
    "name": "ipython",
    "version": 3
   },
   "file_extension": ".py",
   "mimetype": "text/x-python",
   "name": "python",
   "nbconvert_exporter": "python",
   "pygments_lexer": "ipython3",
   "version": "3.7.6"
  }
 },
 "nbformat": 4,
 "nbformat_minor": 4
}
