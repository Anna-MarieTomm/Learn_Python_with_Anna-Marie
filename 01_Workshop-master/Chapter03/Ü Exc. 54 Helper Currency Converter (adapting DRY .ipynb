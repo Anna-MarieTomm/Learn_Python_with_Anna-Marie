{
 "cells": [
  {
   "cell_type": "code",
   "execution_count": 7,
   "metadata": {},
   "outputs": [
    {
     "data": {
      "text/plain": [
       "12.9"
      ]
     },
     "execution_count": 7,
     "metadata": {},
     "output_type": "execute_result"
    }
   ],
   "source": [
    "#definition of the function with setting the input variables \n",
    "def compute_usd_total(amount_in_aud=0, amount_in_gdp=0):\n",
    "    #setting the default option of the outcome variables\n",
    "    total = 0 \n",
    "    total += amount_in_aud*0.78\n",
    "    total += amount_in_gdp*1.29\n",
    "    return total \n",
    "compute_usd_total(amount_in_gdp=10)"
   ]
  },
  {
   "cell_type": "code",
   "execution_count": 10,
   "metadata": {},
   "outputs": [
    {
     "data": {
      "text/plain": [
       "12.9"
      ]
     },
     "execution_count": 10,
     "metadata": {},
     "output_type": "execute_result"
    }
   ],
   "source": [
    "#currency converter with an optional margin \n",
    "def convert_currency (amount, rate, margin=0): \n",
    "    return amount*rate*(1+margin)\n",
    "   \n",
    "convert_currency(10,1.29,0.00 )"
   ]
  },
  {
   "cell_type": "code",
   "execution_count": 9,
   "metadata": {},
   "outputs": [
    {
     "data": {
      "text/plain": [
       "12.9"
      ]
     },
     "execution_count": 9,
     "metadata": {},
     "output_type": "execute_result"
    }
   ],
   "source": [
    "#modify to use the helper function \n",
    "def compute_usd_total_2(amount_in_aud=0, amount_in_gdp=0):\n",
    "    total= 0\n",
    "    #use the function from above to nest it into that function \n",
    "    total += convert_currency(amount_in_aud, 0.78)\n",
    "    total += convert_currency(amount_in_gdp, 1.29)\n",
    "    return total\n",
    "compute_usd_total_2(amount_in_gdp=10)"
   ]
  },
  {
   "cell_type": "code",
   "execution_count": 11,
   "metadata": {},
   "outputs": [
    {
     "data": {
      "text/plain": [
       "13.029"
      ]
     },
     "execution_count": 11,
     "metadata": {},
     "output_type": "execute_result"
    }
   ],
   "source": [
    "#modify to use the helper function and margins \n",
    "def compute_usd_total_2(amount_in_aud=0, amount_in_gdp=0):\n",
    "    total= 0\n",
    "    #use the function from above to nest it into that function \n",
    "    total += convert_currency(amount_in_aud, 0.78)\n",
    "    total += convert_currency(amount_in_gdp, 1.29, 0.01)\n",
    "    return total\n",
    "compute_usd_total_2(amount_in_gdp=10)"
   ]
  },
  {
   "cell_type": "code",
   "execution_count": null,
   "metadata": {},
   "outputs": [],
   "source": []
  }
 ],
 "metadata": {
  "kernelspec": {
   "display_name": "Python 3",
   "language": "python",
   "name": "python3"
  },
  "language_info": {
   "codemirror_mode": {
    "name": "ipython",
    "version": 3
   },
   "file_extension": ".py",
   "mimetype": "text/x-python",
   "name": "python",
   "nbconvert_exporter": "python",
   "pygments_lexer": "ipython3",
   "version": "3.7.6"
  }
 },
 "nbformat": 4,
 "nbformat_minor": 4
}
