{
 "cells": [
  {
   "cell_type": "markdown",
   "metadata": {},
   "source": [
    "# Mapping with Lambda Functions\n"
   ]
  },
  {
   "cell_type": "markdown",
   "metadata": {},
   "source": [
    "map function that applies a specific funtion to all items in a list.\n",
    "TASK: average nuber of characters of the names \n"
   ]
  },
  {
   "cell_type": "code",
   "execution_count": 12,
   "metadata": {},
   "outputs": [
    {
     "name": "stdout",
     "output_type": "stream",
     "text": [
      "[5, 4, 4]\n"
     ]
    }
   ],
   "source": [
    "\n",
    "names = ['Magda', 'Jose', 'Anne']\n",
    "# len function to get the name of each name \n",
    "\n",
    "#tradtional way of doing it \n",
    "lenghts =  []\n",
    "for name in names: \n",
    "    lenghts.append(len(name))\n",
    "print(lenghts)\n",
    "    \n"
   ]
  },
  {
   "cell_type": "code",
   "execution_count": 13,
   "metadata": {},
   "outputs": [
    {
     "name": "stdout",
     "output_type": "stream",
     "text": [
      "[5, 4, 4]\n"
     ]
    }
   ],
   "source": [
    "# with map way of doing it \n",
    "# first agument== function to be applied, second argument == an iterable list name \n",
    "# must be generated back to a list again \n",
    "lenghts = list(map(len,names))\n",
    "print(lenghts)"
   ]
  },
  {
   "cell_type": "code",
   "execution_count": 41,
   "metadata": {},
   "outputs": [
    {
     "data": {
      "text/plain": [
       "4.333333333333333"
      ]
     },
     "execution_count": 41,
     "metadata": {},
     "output_type": "execute_result"
    }
   ],
   "source": [
    "#caculating the average of the list \n",
    "def average (sumi, leng): \n",
    "    sumi = sum(lenghts)\n",
    "    leng= len(lenghts)\n",
    "    return sumi/leng\n",
    " \n",
    "average (sumi, leng)"
   ]
  },
  {
   "cell_type": "code",
   "execution_count": 43,
   "metadata": {},
   "outputs": [
    {
     "data": {
      "text/plain": [
       "4.333333333333333"
      ]
     },
     "execution_count": 43,
     "metadata": {},
     "output_type": "execute_result"
    }
   ],
   "source": [
    "#othe way of doing it (probaly the more elegant way...)\n",
    "sum(lenghts)/ len(lenghts)"
   ]
  },
  {
   "cell_type": "markdown",
   "metadata": {},
   "source": [
    "# Mapping with Logistic Transformation\n"
   ]
  },
  {
   "cell_type": "code",
   "execution_count": 50,
   "metadata": {},
   "outputs": [
    {
     "data": {
      "text/plain": [
       "[0.2689414213699951,\n",
       " 0.9820137900379085,\n",
       " 0.0024726231566347743,\n",
       " 0.8807970779778823,\n",
       " 0.9990889488055994,\n",
       " 0.8807970779778823]"
      ]
     },
     "execution_count": 50,
     "metadata": {},
     "output_type": "execute_result"
    }
   ],
   "source": [
    "#import of math function (needed for logistic function)\n",
    "import math \n",
    "values = [-1,4,-6,2,7,2]\n",
    "\n",
    "\n",
    "#using the map function to map the values \n",
    "#convert to list\n",
    "#map \n",
    "#lambda (function, list of values that should iteratively be put though function)\n",
    "\n",
    "list(map(lambda x: 1/(1+math.exp(-x)), values))"
   ]
  },
  {
   "cell_type": "code",
   "execution_count": null,
   "metadata": {},
   "outputs": [],
   "source": [
    "\n"
   ]
  }
 ],
 "metadata": {
  "kernelspec": {
   "display_name": "Python 3",
   "language": "python",
   "name": "python3"
  },
  "language_info": {
   "codemirror_mode": {
    "name": "ipython",
    "version": 3
   },
   "file_extension": ".py",
   "mimetype": "text/x-python",
   "name": "python",
   "nbconvert_exporter": "python",
   "pygments_lexer": "ipython3",
   "version": "3.7.6"
  }
 },
 "nbformat": 4,
 "nbformat_minor": 4
}
