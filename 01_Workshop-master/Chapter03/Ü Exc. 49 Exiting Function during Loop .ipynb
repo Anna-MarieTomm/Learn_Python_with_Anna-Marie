{
 "cells": [
  {
   "cell_type": "code",
   "execution_count": 28,
   "metadata": {},
   "outputs": [
    {
     "name": "stdout",
     "output_type": "stream",
     "text": [
      "give me a number and I can check if it is a prime\n"
     ]
    }
   ],
   "source": [
    "\"\"\"\n",
    "Existing early: you might want to do that if a certain condition is met\n",
    "\n",
    "\"\"\"\n",
    "\n",
    "print(\"give me a number and I can check if it is a prime\")\n"
   ]
  },
  {
   "cell_type": "code",
   "execution_count": 29,
   "metadata": {},
   "outputs": [
    {
     "data": {
      "text/plain": [
       "True"
      ]
     },
     "execution_count": 29,
     "metadata": {},
     "output_type": "execute_result"
    }
   ],
   "source": [
    "\n",
    "\n",
    "def prime(x):\n",
    "    for i in range(2,x):\n",
    "        if (x%i) ==0:\n",
    "            # will excit the loop as soon as it finds it to be false\n",
    "            \n",
    "            return False\n",
    "    return True\n",
    "\n",
    "\n",
    "prime (113)"
   ]
  },
  {
   "cell_type": "code",
   "execution_count": null,
   "metadata": {},
   "outputs": [],
   "source": []
  },
  {
   "cell_type": "code",
   "execution_count": null,
   "metadata": {},
   "outputs": [],
   "source": []
  }
 ],
 "metadata": {
  "kernelspec": {
   "display_name": "Python 3",
   "language": "python",
   "name": "python3"
  },
  "language_info": {
   "codemirror_mode": {
    "name": "ipython",
    "version": 3
   },
   "file_extension": ".py",
   "mimetype": "text/x-python",
   "name": "python",
   "nbconvert_exporter": "python",
   "pygments_lexer": "ipython3",
   "version": "3.7.6"
  }
 },
 "nbformat": 4,
 "nbformat_minor": 4
}
