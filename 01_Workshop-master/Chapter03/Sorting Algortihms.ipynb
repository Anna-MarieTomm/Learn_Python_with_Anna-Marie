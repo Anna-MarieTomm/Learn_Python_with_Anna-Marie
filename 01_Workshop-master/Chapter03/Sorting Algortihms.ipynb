{
 "cells": [
  {
   "cell_type": "code",
   "execution_count": null,
   "metadata": {},
   "outputs": [],
   "source": [
    "\"\"\"\n",
    "output must: \n",
    "- non-decreasing order (each element => previous element)\n",
    "- input elements are not being altert: only rearranged\n",
    "\"\"\"\n",
    "\n",
    "\n",
    "\"\"\"\n",
    "bubble sort:\n",
    "- two first elements, if first element> second element than they switch\n",
    "- next two elements: \n",
    "- till the end \n",
    "and start all over \n",
    "\"\"\"\n",
    "\n"
   ]
  }
 ],
 "metadata": {
  "kernelspec": {
   "display_name": "Python 3",
   "language": "python",
   "name": "python3"
  },
  "language_info": {
   "codemirror_mode": {
    "name": "ipython",
    "version": 3
   },
   "file_extension": ".py",
   "mimetype": "text/x-python",
   "name": "python",
   "nbconvert_exporter": "python",
   "pygments_lexer": "ipython3",
   "version": "3.7.6"
  }
 },
 "nbformat": 4,
 "nbformat_minor": 4
}
