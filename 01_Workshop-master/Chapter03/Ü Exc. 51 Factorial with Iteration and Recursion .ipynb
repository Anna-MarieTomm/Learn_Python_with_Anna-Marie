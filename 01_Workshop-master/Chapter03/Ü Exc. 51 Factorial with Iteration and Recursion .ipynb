{
 "cells": [
  {
   "cell_type": "code",
   "execution_count": 7,
   "metadata": {},
   "outputs": [
    {
     "name": "stdout",
     "output_type": "stream",
     "text": [
      "120\n"
     ]
    }
   ],
   "source": [
    "\"\"\"\n",
    "Function makes an integer and returns the factorial using \n",
    "both an iterative and a recursive approach \n",
    "recall: 5! = 5*4*3*2*1 = 120 \n",
    "\"\"\"\n",
    "# first option, iterative approach \n",
    "def factorial_iterative(n): \n",
    "    #set first value \n",
    "    result = 1\n",
    "    #for all values in range \n",
    "    for i in range(n):\n",
    "        #for all values starting from i iterative multiplied with all other values\n",
    "        result *= i+1\n",
    "    return result \n",
    "\n",
    "print (factorial_iterative(5))\n",
    "    "
   ]
  },
  {
   "cell_type": "code",
   "execution_count": 18,
   "metadata": {},
   "outputs": [
    {
     "name": "stdout",
     "output_type": "stream",
     "text": [
      "120\n"
     ]
    }
   ],
   "source": [
    "# second option: recursion approach \n",
    "# n! = n*(n-1) = 5! = 5*4!\n",
    "def factorial_recursion (n):\n",
    "    if n == 1: \n",
    "        return 1 \n",
    "    else:\n",
    "        return n*factorial_recursion(n-1)\n",
    "    \n",
    "    return result\n",
    "print (factorial_recursion (5))"
   ]
  },
  {
   "cell_type": "code",
   "execution_count": null,
   "metadata": {},
   "outputs": [],
   "source": []
  }
 ],
 "metadata": {
  "kernelspec": {
   "display_name": "Python 3",
   "language": "python",
   "name": "python3"
  },
  "language_info": {
   "codemirror_mode": {
    "name": "ipython",
    "version": 3
   },
   "file_extension": ".py",
   "mimetype": "text/x-python",
   "name": "python",
   "nbconvert_exporter": "python",
   "pygments_lexer": "ipython3",
   "version": "3.7.6"
  }
 },
 "nbformat": 4,
 "nbformat_minor": 4
}
