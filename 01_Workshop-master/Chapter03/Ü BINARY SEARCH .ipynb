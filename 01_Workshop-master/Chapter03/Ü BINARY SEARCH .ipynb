{
 "cells": [
  {
   "cell_type": "code",
   "execution_count": 7,
   "metadata": {},
   "outputs": [
    {
     "name": "stdout",
     "output_type": "stream",
     "text": [
      "True\n",
      "6\n"
     ]
    }
   ],
   "source": [
    "#Binary Search\n",
    "#finds position in a sorted array\n",
    "\"\"\"\n",
    "goes in the middle of the list and determines in which side of the \n",
    "thing the search in needed\n",
    "\n",
    "- determine the half of the list is proceedered the same \n",
    "\"\"\"\n",
    "l= [1,2,3,6,9,12,15,33,44,77,86]\n",
    "search_for = 15\n",
    "\n",
    "#two variables \n",
    "slice_start = 0 \n",
    "slice_end = len(l)-1\n",
    "\n",
    "#variable if search was successful \n",
    "found = False\n",
    "\n",
    "\n",
    "#finding the midpoint of the list \n",
    "# and check if the value is greater or less than the search term \n",
    "\n",
    "while slice_start <= slice_end and not found:\n",
    "    #find the midpoint of the list \n",
    "    location = (slice_start + slice_end) // 2\n",
    "    #test the value of the midterm here: 12 with with the search_for\n",
    "    if l[location] == search_for:\n",
    "        #if search value than terminate the search \n",
    "        found = True\n",
    "    #else determine if looking searching the right or left of list \n",
    "    else:\n",
    "        if search_for < l[location]:\n",
    "            slice_end = location - 1\n",
    "        #in our case looking for the right in the list \n",
    "        else:\n",
    "            slice_start = location + 1\n",
    "            \n",
    "print(found)\n",
    "print (location)"
   ]
  },
  {
   "cell_type": "code",
   "execution_count": null,
   "metadata": {},
   "outputs": [],
   "source": []
  }
 ],
 "metadata": {
  "kernelspec": {
   "display_name": "Python 3",
   "language": "python",
   "name": "python3"
  },
  "language_info": {
   "codemirror_mode": {
    "name": "ipython",
    "version": 3
   },
   "file_extension": ".py",
   "mimetype": "text/x-python",
   "name": "python",
   "nbconvert_exporter": "python",
   "pygments_lexer": "ipython3",
   "version": "3.7.6"
  }
 },
 "nbformat": 4,
 "nbformat_minor": 4
}
