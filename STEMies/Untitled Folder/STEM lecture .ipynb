{
 "cells": [
  {
   "cell_type": "markdown",
   "metadata": {},
   "source": [
    "- turtle \n",
    "onscreen pen that you use the dreawing is called the turtle and this is what gives the library its name \n"
   ]
  },
  {
   "cell_type": "code",
   "execution_count": 8,
   "metadata": {},
   "outputs": [],
   "source": [
    "import turtle\n",
    "\n",
    "\n",
    "turtle.shape(\"turtle\")\n",
    "turtle.color('#ff0000')\n",
    "\n",
    "turtle.forward(50)\n",
    "turtle.right(105)\n",
    "turtle.forward(100)\n",
    "turtle.right(145)\n",
    "turtle.forward(100)\n",
    "turtle.right(105)\n",
    "turtle.forward(50)\n",
    "\n",
    "turtle.begin_fill()\n",
    "turtle.color('#ff6666')\n",
    "turtle.right(110)\n",
    "turtle.forward(70)\n",
    "turtle.right(145)\n",
    "turtle.forward(70)\n",
    "turtle.right(110)\n",
    "turtle.forward(25)\n",
    "turtle.end_fill()\n",
    "\n",
    "turtle.color('#cc6600')\n",
    "turtle.circle(60)\n",
    "turtle.color('#ff9966')\n",
    "turtle.circle(40)\n",
    "turtle.color('#ffff99')\n",
    "turtle.circle(30)\n",
    "\n",
    "turtle.color('#ffcc66')\n",
    "turtle.circle(20)\n",
    "\n",
    "turtle.color('#cccccc')\n",
    "turtle.circle(10)"
   ]
  },
  {
   "cell_type": "code",
   "execution_count": null,
   "metadata": {},
   "outputs": [],
   "source": []
  },
  {
   "cell_type": "code",
   "execution_count": null,
   "metadata": {},
   "outputs": [],
   "source": []
  }
 ],
 "metadata": {
  "kernelspec": {
   "display_name": "Python 3",
   "language": "python",
   "name": "python3"
  },
  "language_info": {
   "codemirror_mode": {
    "name": "ipython",
    "version": 3
   },
   "file_extension": ".py",
   "mimetype": "text/x-python",
   "name": "python",
   "nbconvert_exporter": "python",
   "pygments_lexer": "ipython3",
   "version": "3.7.6"
  }
 },
 "nbformat": 4,
 "nbformat_minor": 4
}
