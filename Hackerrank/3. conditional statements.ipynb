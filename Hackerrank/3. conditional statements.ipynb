{
 "cells": [
  {
   "cell_type": "code",
   "execution_count": 62,
   "metadata": {},
   "outputs": [
    {
     "name": "stdout",
     "output_type": "stream",
     "text": [
      "Weird\n"
     ]
    }
   ],
   "source": [
    "def conditions(n): \n",
    "    for n in range(1,101): \n",
    "        if (n % 2 != 0 and n<21):\n",
    "            print(\"Weird\")\n",
    "            \n",
    "        elif (n %2 == 0 and 2<= n<=5):  \n",
    "            print (\"Not Weird\")\n",
    "\n",
    "        elif (n % 2 == 0 and 6<= n<=20):\n",
    "            print(\"Weird\")\n",
    "\n",
    "        elif (n % 2==0 and 2<n):\n",
    "            print (\"Not Weird\")\n",
    "\n",
    "        else: \n",
    "            print(\"Not Weird\")\n",
    "        return \n",
    "\n",
    "    \n",
    "conditions(30)\n",
    "\n"
   ]
  },
  {
   "cell_type": "code",
   "execution_count": null,
   "metadata": {},
   "outputs": [],
   "source": []
  }
 ],
 "metadata": {
  "kernelspec": {
   "display_name": "Python 3",
   "language": "python",
   "name": "python3"
  },
  "language_info": {
   "codemirror_mode": {
    "name": "ipython",
    "version": 3
   },
   "file_extension": ".py",
   "mimetype": "text/x-python",
   "name": "python",
   "nbconvert_exporter": "python",
   "pygments_lexer": "ipython3",
   "version": "3.7.6"
  }
 },
 "nbformat": 4,
 "nbformat_minor": 4
}
