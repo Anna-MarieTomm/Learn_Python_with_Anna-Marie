{
 "cells": [
  {
   "cell_type": "code",
   "execution_count": 2,
   "metadata": {},
   "outputs": [
    {
     "name": "stdout",
     "output_type": "stream",
     "text": [
      "tell me your first name: lucia\n",
      "your first is  5 characters long\n",
      "tell me your last name: tomm\n",
      "your last name is  4 characters long\n",
      "Name:  lucia tomm\n",
      "your whole name is  10 characters long (incl. the space)\n"
     ]
    }
   ],
   "source": [
    "#challange 80 \n",
    "\n",
    "first_name = input(\"tell me your first name: \")\n",
    "print(\"your first is \", len(first_name), \"characters long\")\n",
    "\n",
    "last_name = input(\"tell me your last name: \")\n",
    "print(\"your last name is \", len(last_name), \"characters long\")\n",
    "\n",
    "name = first_name + \" \" +  last_name\n",
    "\n",
    "print (\"Name: \", name)\n",
    "print(\"your whole name is \", len(name), \"characters long (incl. the space)\")"
   ]
  },
  {
   "cell_type": "code",
   "execution_count": 4,
   "metadata": {},
   "outputs": [
    {
     "name": "stdout",
     "output_type": "stream",
     "text": [
      "whats your fav subject? math\n",
      "m-a-t-h-"
     ]
    }
   ],
   "source": [
    "#challange 81 \n",
    "fav = input(\"whats your fav subject? \")\n",
    "\n",
    "for letter in fav: \n",
    "    print(letter, end = \"-\")\n"
   ]
  },
  {
   "cell_type": "code",
   "execution_count": 6,
   "metadata": {},
   "outputs": [
    {
     "name": "stdout",
     "output_type": "stream",
     "text": [
      "start: 2\n",
      "end: 5\n",
      "s D\n"
     ]
    }
   ],
   "source": [
    "#challange 82 \n",
    "\n",
    "spruch = \"was Du heute kannst besorgen verschiebe nicht auf morgen \"\n",
    "\n",
    "start = int(input (\"start: \"))\n",
    "end = int(input (\"end: \"))\n",
    "\n",
    "print (spruch[start: end])\n"
   ]
  },
  {
   "cell_type": "code",
   "execution_count": 10,
   "metadata": {},
   "outputs": [
    {
     "name": "stdout",
     "output_type": "stream",
     "text": [
      "type in something in upper character: sj\n",
      "try again: ANN\n",
      "Amazing job!\n"
     ]
    }
   ],
   "source": [
    "#challange 83\n",
    "\n",
    "word = input(\"type in something in upper character: \")\n",
    "\n",
    "while word.islower() == True: \n",
    "    word = input(\"try again: \")\n",
    "    \n",
    "if word.isupper() ==True: \n",
    "    print(\"Amazing job!\")"
   ]
  },
  {
   "cell_type": "code",
   "execution_count": 12,
   "metadata": {},
   "outputs": [
    {
     "name": "stdout",
     "output_type": "stream",
     "text": [
      "type in your postcode: sfljf\n",
      "SF\n"
     ]
    }
   ],
   "source": [
    "#challange 84 (postcode)\n",
    "\n",
    "whole_postcode = input(\"type in your postcode: \")\n",
    "\n",
    "#can also be done with two lines of code\n",
    "print(whole_postcode[0:2].upper ())"
   ]
  },
  {
   "cell_type": "code",
   "execution_count": 25,
   "metadata": {},
   "outputs": [
    {
     "name": "stdout",
     "output_type": "stream",
     "text": [
      "tell me a name: ANNA-Marie \n",
      "the name: anna-marie  does contain 5 vowels. \n"
     ]
    }
   ],
   "source": [
    "#challange 85 (counting vowels = Vokale)\n",
    "\n",
    "name = input(\"tell me a name: \")\n",
    "name = name.lower()\n",
    "\n",
    "count = 0 \n",
    "\n",
    "for letter in name: \n",
    "    if letter== \"a\" or letter == \"e\" or letter == \"i\" or letter ==  \"o\" or letter == \"u\": \n",
    "        count = count +1 \n",
    "\n",
    "print(\"the name: %s does contain %d vowels. \"% (name, count))"
   ]
  },
  {
   "cell_type": "code",
   "execution_count": 30,
   "metadata": {},
   "outputs": [
    {
     "name": "stdout",
     "output_type": "stream",
     "text": [
      "enter a new password: Wise\n",
      "enter the new password again: Wise\n",
      "thank you!\n"
     ]
    }
   ],
   "source": [
    "#challange 86 (new password)\n",
    "\n",
    "passwort = input(\"enter a new password: \")\n",
    "passwort_lower = passwort.lower()\n",
    "\n",
    "repeat = input(\"enter the new password again: \")\n",
    "repeat_lower = repeat.lower ()\n",
    "\n",
    "\n",
    "if passwort == repeat:\n",
    "    print(\"thank you!\")\n",
    "elif passwort == repeat_lower or passwort_lower == repeat: \n",
    "    print (\"they must be in the same case\")\n",
    "else: \n",
    "    print(\"incorrect! \")\n",
    "\n"
   ]
  },
  {
   "cell_type": "code",
   "execution_count": 38,
   "metadata": {},
   "outputs": [
    {
     "name": "stdout",
     "output_type": "stream",
     "text": [
      "tell me a word: muriele\n",
      "e\n",
      "l\n",
      "e\n",
      "i\n",
      "r\n",
      "u\n",
      "m\n"
     ]
    }
   ],
   "source": [
    "#challange 87 (backwards)\n",
    "\n",
    "word = input(\"tell me a word: \")\n",
    "lenght = len(word)\n",
    "num = 1\n",
    "\n",
    "\n",
    "\n",
    "for i in word: \n",
    "    position = lenght - num\n",
    "    letter = word[position]\n",
    "    print(letter)\n",
    "    num = num+1"
   ]
  },
  {
   "cell_type": "code",
   "execution_count": null,
   "metadata": {},
   "outputs": [],
   "source": []
  }
 ],
 "metadata": {
  "kernelspec": {
   "display_name": "Python 3",
   "language": "python",
   "name": "python3"
  },
  "language_info": {
   "codemirror_mode": {
    "name": "ipython",
    "version": 3
   },
   "file_extension": ".py",
   "mimetype": "text/x-python",
   "name": "python",
   "nbconvert_exporter": "python",
   "pygments_lexer": "ipython3",
   "version": "3.7.6"
  }
 },
 "nbformat": 4,
 "nbformat_minor": 4
}
