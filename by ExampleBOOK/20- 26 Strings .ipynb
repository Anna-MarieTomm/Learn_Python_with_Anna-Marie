{
 "cells": [
  {
   "cell_type": "code",
   "execution_count": 1,
   "metadata": {
    "scrolled": true
   },
   "outputs": [
    {
     "name": "stdout",
     "output_type": "stream",
     "text": [
      "please tell me your first name: anna\n"
     ]
    },
    {
     "data": {
      "text/plain": [
       "4"
      ]
     },
     "execution_count": 1,
     "metadata": {},
     "output_type": "execute_result"
    }
   ],
   "source": [
    "#challange 20 \n",
    "first_name = input(\"please tell me your first name: \")\n",
    "len(first_name)"
   ]
  },
  {
   "cell_type": "code",
   "execution_count": 2,
   "metadata": {},
   "outputs": [
    {
     "name": "stdout",
     "output_type": "stream",
     "text": [
      "please tell me your first name: anna\n",
      "please tell me your last name: tomm\n",
      "anna tomm\n"
     ]
    },
    {
     "data": {
      "text/plain": [
       "9"
      ]
     },
     "execution_count": 2,
     "metadata": {},
     "output_type": "execute_result"
    }
   ],
   "source": [
    "#challange 21\n",
    "first_name = input(\"please tell me your first name: \")\n",
    "last_name = input(\"please tell me your last name: \")\n",
    "\n",
    "#concatenation \n",
    "full_name = first_name + \" \"+last_name\n",
    "print(full_name)\n",
    "len(full_name)"
   ]
  },
  {
   "cell_type": "code",
   "execution_count": 5,
   "metadata": {},
   "outputs": [
    {
     "name": "stdout",
     "output_type": "stream",
     "text": [
      "please tell me your first name, in lower case: anna\n",
      "please tell me your last name, in lower case: tomm\n",
      "Your name is:  Anna Tomm\n"
     ]
    }
   ],
   "source": [
    "#challange 22\n",
    "first_name = input(\"please tell me your first name, in lower case: \")\n",
    "last_name = input(\"please tell me your last name, in lower case: \")\n",
    "\n",
    "#concatenation \n",
    "full_name = first_name + \" \"+last_name\n",
    "full_name = str.title (full_name)\n",
    "print(\"Your name is: \", full_name)\n"
   ]
  },
  {
   "cell_type": "code",
   "execution_count": 10,
   "metadata": {},
   "outputs": [
    {
     "name": "stdout",
     "output_type": "stream",
     "text": [
      "please type in the first line of a nursery rhyme: alle kinder sind zusammen\n",
      "25\n",
      "give me a start: 2\n",
      "give me an end: 23\n",
      "ursey_rythm\n"
     ]
    }
   ],
   "source": [
    "#challange 23\n",
    "nursey_rythm = input(\"please type in the first line of a nursery rhyme: \")\n",
    "print(len(nursey_rythm))\n",
    "start = int(input(\"give me a start: \"))\n",
    "end = int(input(\"give me an end: \"))\n",
    "print (\"nursey_rythm\"[start-1:end])\n"
   ]
  },
  {
   "cell_type": "code",
   "execution_count": 13,
   "metadata": {},
   "outputs": [
    {
     "name": "stdout",
     "output_type": "stream",
     "text": [
      "say a word: sjsl\n",
      "whaatttt? SJSL\n"
     ]
    }
   ],
   "source": [
    "#challange 24\n",
    "word = input(\"say a word: \")\n",
    "print(\"whaatttt?\", word.upper())\n",
    "\n"
   ]
  },
  {
   "cell_type": "code",
   "execution_count": 15,
   "metadata": {},
   "outputs": [
    {
     "name": "stdout",
     "output_type": "stream",
     "text": [
      "please tell me your first name: anna-marie \n",
      "your super long first name is  anna-marie \n"
     ]
    }
   ],
   "source": [
    "#challange 25\n",
    "\n",
    "first = input(\"please tell me your first name: \")\n",
    "\n",
    "if len(first) <5: \n",
    "    last = input(\"please tell me your last name: \")\n",
    "    name= first+last \n",
    "    name = str.upper(name)\n",
    "    print (name)\n",
    "    \n",
    "else: \n",
    "    first = str.lower(first )\n",
    "    print(\"your super long first name is \", first)\n",
    "    \n",
    "    \n"
   ]
  },
  {
   "cell_type": "code",
   "execution_count": 51,
   "metadata": {},
   "outputs": [
    {
     "name": "stdout",
     "output_type": "stream",
     "text": [
      "please enter a word: banana\n",
      "middle result (only exchange of letter: ) ananab\n",
      "ananabay\n"
     ]
    }
   ],
   "source": [
    "# challange 26 (Pig Latin)\n",
    "\n",
    "pig = input(\"please enter a word: \")\n",
    "pig = str.lower(pig)\n",
    "\n",
    "if pig[0] ==\"a\" or pig[0] ==\"e\" or pig[0] ==\"i\" or pig[0] ==\"o\" or pig[0] ==\"u\": \n",
    "    \n",
    "    extension= \"way\"\n",
    "    pig_latin= pig +extension \n",
    "    print(pig_latin)\n",
    "    \n",
    "else: \n",
    "    \n",
    "    #move the first letter to the end \n",
    "    pig_middle =pig[1:len(pig)] +pig [0]\n",
    "    \n",
    "    print (\"middle result (only exchange of letter: )\", pig_middle)\n",
    "    extension=  \"ay\"\n",
    "    pig_latin= pig_middle +extension \n",
    "    print(pig_latin)\n",
    "    "
   ]
  },
  {
   "cell_type": "code",
   "execution_count": 57,
   "metadata": {},
   "outputs": [
    {
     "name": "stdout",
     "output_type": "stream",
     "text": [
      "please enter a word: banana\n",
      "ananabay\n"
     ]
    }
   ],
   "source": [
    "#challange 26, better pig latin \n",
    "\n",
    "pig = input(\"please enter a word: \")\n",
    "pig = str.lower(pig)\n",
    "\n",
    "lenght = len(pig)\n",
    "first = pig[0]\n",
    "rest = pig[1:lenght]\n",
    "\n",
    "if first ==\"a\" or first ==\"e\" or first ==\"i\" or first ==\"o\" or first ==\"u\": \n",
    "    pig_latin = pig + \"way\"\n",
    "else: \n",
    "    pig_latin = rest+first + \"ay\"\n",
    "    \n",
    "    \n",
    "print(pig_latin)"
   ]
  },
  {
   "cell_type": "code",
   "execution_count": null,
   "metadata": {},
   "outputs": [],
   "source": []
  }
 ],
 "metadata": {
  "kernelspec": {
   "display_name": "Python 3",
   "language": "python",
   "name": "python3"
  },
  "language_info": {
   "codemirror_mode": {
    "name": "ipython",
    "version": 3
   },
   "file_extension": ".py",
   "mimetype": "text/x-python",
   "name": "python",
   "nbconvert_exporter": "python",
   "pygments_lexer": "ipython3",
   "version": "3.7.6"
  }
 },
 "nbformat": 4,
 "nbformat_minor": 4
}
