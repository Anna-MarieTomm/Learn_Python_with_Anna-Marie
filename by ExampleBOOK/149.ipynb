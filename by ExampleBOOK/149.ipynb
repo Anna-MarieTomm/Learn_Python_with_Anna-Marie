{
 "cells": [
  {
   "cell_type": "code",
   "execution_count": 6,
   "metadata": {},
   "outputs": [
    {
     "name": "stdout",
     "output_type": "stream",
     "text": [
      "Give me a number99\n",
      "1  x  99 =  99\n",
      "2  x  99 =  198\n",
      "3  x  99 =  297\n",
      "4  x  99 =  396\n",
      "5  x  99 =  495\n",
      "6  x  99 =  594\n",
      "7  x  99 =  693\n",
      "8  x  99 =  792\n",
      "9  x  99 =  891\n",
      "10  x  99 =  990\n",
      "11  x  99 =  1089\n",
      "12  x  99 =  1188\n"
     ]
    }
   ],
   "source": [
    "#create a timetable\n",
    "\n",
    "num = int(input(\"Give me a number\"))\n",
    "\n",
    "i = 0\n",
    "for k in range (1,13): \n",
    "    i = 1+i \n",
    "    answer = i * num\n",
    "    print (i, \" x \" , num, \"= \", answer)\n",
    "    "
   ]
  },
  {
   "cell_type": "code",
   "execution_count": 31,
   "metadata": {},
   "outputs": [],
   "source": [
    "#set up the window \n",
    "\n",
    "from tkinter import * \n",
    "\n",
    "#subprograms\n",
    "\n",
    "def view():\n",
    "    num = entry_number.get()\n",
    "    num = int(num)\n",
    "    i = 0\n",
    "    for k in range (1,13): \n",
    "        i = 1+i \n",
    "        answer = i * num\n",
    "        box.insert(END, (i, \" x \" , num, \"= \", answer))\n",
    "    entry_number.delete(0,END)\n",
    "    entry_number.focus()\n",
    "    \n",
    "    \n",
    "def clear(): \n",
    "    box.delete(0,END)\n",
    "    entry_number.focus()\n",
    "#set up the window \n",
    "window = Tk()\n",
    "window.title (\"Times Table\")\n",
    "window.geometry (\"500x300\")\n",
    "window [\"bg\"] = \"yellow\"\n",
    "\n",
    "label_number = Label (text = \"Enter a number\")\n",
    "label_number.place(x= 20, y= 20, width = 100, height = 30)\n",
    "label_number [\"bg\"] = \"lightgreen\"\n",
    "\n",
    "entry_number = Entry (text = \"\")\n",
    "entry_number.place(x= 150, y= 20, width = 150, height = 30)\n",
    "entry_number [\"bg\"] = \"lightgreen\"\n",
    "entry_number.focus()\n",
    "\n",
    "box = Listbox ( \"\")\n",
    "box.place (x= 150, y= 80, width = 150, height = 220)\n",
    "box [\"bg\"] = \"lightgreen\"\n",
    "\n",
    "button_view = Button (text = \"VIEW Times Table\", command = view)\n",
    "button_view.place (x= 310, y= 20, width = 130, height = 30)\n",
    "button_view [\"bg\"] = \"lightgreen\"\n",
    "\n",
    "button_view = Button (text = \"CLEAR\", command = clear)\n",
    "button_view.place (x= 310, y= 80, width = 130, height = 30)\n",
    "button_view [\"bg\"] = \"lightgreen\"\n",
    "\n",
    "\n",
    "window.mainloop()"
   ]
  },
  {
   "cell_type": "code",
   "execution_count": null,
   "metadata": {},
   "outputs": [],
   "source": []
  }
 ],
 "metadata": {
  "kernelspec": {
   "display_name": "Python 3",
   "language": "python",
   "name": "python3"
  },
  "language_info": {
   "codemirror_mode": {
    "name": "ipython",
    "version": 3
   },
   "file_extension": ".py",
   "mimetype": "text/x-python",
   "name": "python",
   "nbconvert_exporter": "python",
   "pygments_lexer": "ipython3",
   "version": "3.7.6"
  }
 },
 "nbformat": 4,
 "nbformat_minor": 4
}
