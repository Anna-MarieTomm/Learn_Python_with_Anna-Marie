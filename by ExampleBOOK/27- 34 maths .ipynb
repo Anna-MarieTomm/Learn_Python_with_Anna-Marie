{
 "cells": [
  {
   "cell_type": "code",
   "execution_count": 1,
   "metadata": {},
   "outputs": [
    {
     "name": "stdout",
     "output_type": "stream",
     "text": [
      "please enter a complex number: 2.222222\n",
      "result:  4.444444\n"
     ]
    }
   ],
   "source": [
    "#challange 27\n",
    "num1 = float(input(\"please enter a complex number: \"))\n",
    "result = num1*2\n",
    "print(\"result: \", result)"
   ]
  },
  {
   "cell_type": "code",
   "execution_count": 3,
   "metadata": {},
   "outputs": [
    {
     "name": "stdout",
     "output_type": "stream",
     "text": [
      "please enter a complex number: 2.22292929\n",
      "result:  4.45\n"
     ]
    }
   ],
   "source": [
    "#challange 28 (round challange 27)\n",
    "num1 = float(input(\"please enter a complex number: \"))\n",
    "result = round (num1*2,2)\n",
    "print(\"result: \", result)"
   ]
  },
  {
   "cell_type": "code",
   "execution_count": 4,
   "metadata": {},
   "outputs": [
    {
     "name": "stdout",
     "output_type": "stream",
     "text": [
      "please enter a whole number above 500: 694\n",
      "result:  26.34\n"
     ]
    }
   ],
   "source": [
    "#challange 29 \n",
    "import math \n",
    "num1 = int(input(\"please enter a whole number above 500: \"))\n",
    "result = round (math.sqrt(num1),2)\n",
    "print(\"result: \", result)"
   ]
  },
  {
   "cell_type": "code",
   "execution_count": 14,
   "metadata": {},
   "outputs": [
    {
     "name": "stdout",
     "output_type": "stream",
     "text": [
      "result:  3.141592653589793\n"
     ]
    }
   ],
   "source": [
    "#challange 30 \n",
    "import math \n",
    "\n",
    "result = round(math.pi,15)\n",
    "\n",
    "print(\"result: \", result)"
   ]
  },
  {
   "cell_type": "code",
   "execution_count": 17,
   "metadata": {},
   "outputs": [
    {
     "name": "stdout",
     "output_type": "stream",
     "text": [
      "enter radius of circle: 5\n",
      "area:  78.54\n"
     ]
    }
   ],
   "source": [
    "#challange 31\n",
    "import math \n",
    "num1 = float(input(\"enter radius of circle: \"))\n",
    "result = num1**2*math.pi\n",
    "print(\"area: \", round(result,2))"
   ]
  },
  {
   "cell_type": "code",
   "execution_count": 18,
   "metadata": {},
   "outputs": [
    {
     "name": "stdout",
     "output_type": "stream",
     "text": [
      "enter radius of cylinder: 5\n",
      "enter depth of cylinder: 3\n",
      "volume of cylinder:  235.619\n"
     ]
    }
   ],
   "source": [
    "#challange 32\n",
    "import math \n",
    "radius = float(input(\"enter radius of cylinder: \"))\n",
    "depth = float(input(\"enter depth of cylinder: \"))\n",
    "area = radius**2*math.pi\n",
    "volume = area *depth\n",
    "print(\"volume of cylinder: \", round(volume,3))"
   ]
  },
  {
   "cell_type": "code",
   "execution_count": 20,
   "metadata": {},
   "outputs": [
    {
     "name": "stdout",
     "output_type": "stream",
     "text": [
      "enter a number: 7\n",
      "enter another number: 2\n",
      "7 divided by 2 is 3 and 1 remains\n"
     ]
    }
   ],
   "source": [
    "#challange 33\n",
    "import math \n",
    "first = float(input(\"enter a number: \"))\n",
    "second = float(input(\"enter another number: \"))\n",
    "devision = first// second \n",
    "remainer= first % second \n",
    "print(\"%d divided by %d is %d and %d remains\"%(first, second, devision, remainer ))"
   ]
  },
  {
   "cell_type": "code",
   "execution_count": 4,
   "metadata": {},
   "outputs": [
    {
     "name": "stdout",
     "output_type": "stream",
     "text": [
      "\n",
      "1. Square\n",
      "2. Triange\n",
      "\n",
      "Enter a number:\n",
      "\n",
      "23\n",
      "do not make fun here!\n"
     ]
    }
   ],
   "source": [
    "#challange 34\n",
    "import math \n",
    "print(\"\"\"\n",
    "1. Square\n",
    "2. Triange\n",
    "\n",
    "Enter a number:\n",
    "\"\"\")\n",
    "\n",
    "number = int(input())\n",
    "\n",
    "if number == 1: \n",
    "    number_2 = int(input(\"say one of the side lenghts: \"))\n",
    "    area = 2* number_2 *0.5\n",
    "    print(area)\n",
    "elif number == 2: \n",
    "    base = int(input(\"say one of the side base: \"))\n",
    "    hight = int(input(\"say one of the side hight: \"))\n",
    "    area = base *hight *0.5\n",
    "    print(area)\n",
    "else: \n",
    "    print(\"do not make fun here!\")"
   ]
  },
  {
   "cell_type": "code",
   "execution_count": null,
   "metadata": {},
   "outputs": [],
   "source": []
  }
 ],
 "metadata": {
  "kernelspec": {
   "display_name": "Python 3",
   "language": "python",
   "name": "python3"
  },
  "language_info": {
   "codemirror_mode": {
    "name": "ipython",
    "version": 3
   },
   "file_extension": ".py",
   "mimetype": "text/x-python",
   "name": "python",
   "nbconvert_exporter": "python",
   "pygments_lexer": "ipython3",
   "version": "3.7.6"
  }
 },
 "nbformat": 4,
 "nbformat_minor": 4
}
