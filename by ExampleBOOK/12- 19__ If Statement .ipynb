{
 "cells": [
  {
   "cell_type": "code",
   "execution_count": 3,
   "metadata": {},
   "outputs": [
    {
     "name": "stdout",
     "output_type": "stream",
     "text": [
      "please enter a number between 0 and 100: 2\n"
     ]
    }
   ],
   "source": [
    "num = int(input(\"please enter a number between 0 and 100: \"))\n"
   ]
  },
  {
   "cell_type": "code",
   "execution_count": 4,
   "metadata": {},
   "outputs": [
    {
     "name": "stdout",
     "output_type": "stream",
     "text": [
      "please enter your name: anna\n",
      "anna\n"
     ]
    }
   ],
   "source": [
    "name= input(\"please enter your name: \")\n",
    "name = str.lower(name)\n",
    "print(name)"
   ]
  },
  {
   "cell_type": "code",
   "execution_count": 5,
   "metadata": {},
   "outputs": [
    {
     "name": "stdout",
     "output_type": "stream",
     "text": [
      "please enter a number: 4\n",
      "please enter another one: 2\n",
      "2 4\n"
     ]
    }
   ],
   "source": [
    "#chalange 12 \n",
    "num1 =int(input(\"please enter a number: \"))\n",
    "num2 =int(input(\"please enter another one: \"))\n",
    "if num1 > num2: \n",
    "    print(num2, num1)\n",
    "else : \n",
    "    print(num1, num2)"
   ]
  },
  {
   "cell_type": "code",
   "execution_count": 6,
   "metadata": {},
   "outputs": [
    {
     "name": "stdout",
     "output_type": "stream",
     "text": [
      "please enter a number under 20: 19\n",
      "Thank you!\n"
     ]
    }
   ],
   "source": [
    "#chalange 13\n",
    "under20 =int(input(\"please enter a number under 20: \"))\n",
    "if under20 >= 20: \n",
    "    print(\"Too high\")\n",
    "else : \n",
    "    print(\"Thank you!\")"
   ]
  },
  {
   "cell_type": "code",
   "execution_count": 7,
   "metadata": {},
   "outputs": [
    {
     "name": "stdout",
     "output_type": "stream",
     "text": [
      "please enter a number between 10 and 20: 72\n",
      "Incorrect anwer\n"
     ]
    }
   ],
   "source": [
    "#chalange 14\n",
    "between =int(input(\"please enter a number between 10 and 20: \"))\n",
    "if 10<= between <= 20: \n",
    "    print(\"Thank you!\")\n",
    "else : \n",
    "    print(\"Incorrect anwer\")"
   ]
  },
  {
   "cell_type": "code",
   "execution_count": 13,
   "metadata": {},
   "outputs": [
    {
     "name": "stdout",
     "output_type": "stream",
     "text": [
      "enter your favorit color: RED\n",
      "I love red as well!\n"
     ]
    }
   ],
   "source": [
    "#chalange 15\n",
    "favcol =input(\"enter your favorit color: \")\n",
    "\n",
    "\n",
    "if favcol ==\"red\" or favcol ==\"RED\" or favcol == \"Red\": \n",
    "    print(\"I love red as well!\")\n",
    "else: \n",
    "    print(\"I don´t like\", favcol, \"I prefere red...\" )"
   ]
  },
  {
   "cell_type": "code",
   "execution_count": null,
   "metadata": {},
   "outputs": [],
   "source": []
  }
 ],
 "metadata": {
  "kernelspec": {
   "display_name": "Python 3",
   "language": "python",
   "name": "python3"
  },
  "language_info": {
   "codemirror_mode": {
    "name": "ipython",
    "version": 3
   },
   "file_extension": ".py",
   "mimetype": "text/x-python",
   "name": "python",
   "nbconvert_exporter": "python",
   "pygments_lexer": "ipython3",
   "version": "3.7.6"
  }
 },
 "nbformat": 4,
 "nbformat_minor": 4
}
