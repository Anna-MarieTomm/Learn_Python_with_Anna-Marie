{
 "cells": [
  {
   "cell_type": "code",
   "execution_count": 15,
   "metadata": {},
   "outputs": [
    {
     "name": "stdout",
     "output_type": "stream",
     "text": [
      "Enter a number: 9\n"
     ]
    }
   ],
   "source": [
    "num1 = 4\n",
    "num2 = 5\n",
    "answer = num1 // num2\n",
    "num3 = input(\"Enter a number: \")"
   ]
  },
  {
   "cell_type": "code",
   "execution_count": 16,
   "metadata": {},
   "outputs": [
    {
     "name": "stdout",
     "output_type": "stream",
     "text": [
      "9\n"
     ]
    }
   ],
   "source": [
    "print(num3)"
   ]
  },
  {
   "cell_type": "code",
   "execution_count": 19,
   "metadata": {},
   "outputs": [
    {
     "data": {
      "text/plain": [
       "13"
      ]
     },
     "execution_count": 19,
     "metadata": {},
     "output_type": "execute_result"
    }
   ],
   "source": [
    "num3=int(num3)\n",
    "num1+num3"
   ]
  },
  {
   "cell_type": "code",
   "execution_count": 22,
   "metadata": {},
   "outputs": [
    {
     "name": "stdout",
     "output_type": "stream",
     "text": [
      "What is your name? \n",
      "Hello, \n"
     ]
    }
   ],
   "source": [
    "#challange 1 \n",
    "username = input(\"What is your name? \")\n",
    "print(\"Hello,\", username)"
   ]
  },
  {
   "cell_type": "code",
   "execution_count": 23,
   "metadata": {},
   "outputs": [
    {
     "name": "stdout",
     "output_type": "stream",
     "text": [
      "What is your first name? Anna\n",
      "What is your last name? Tomm\n",
      "Hello, Anna Tomm\n"
     ]
    }
   ],
   "source": [
    "# challange 2 \n",
    "\n",
    "firstname = input(\"What is your first name? \")\n",
    "lastname = input(\"What is your last name? \")\n",
    "print(\"Hello,\", firstname, lastname)"
   ]
  },
  {
   "cell_type": "code",
   "execution_count": 26,
   "metadata": {},
   "outputs": [
    {
     "name": "stdout",
     "output_type": "stream",
     "text": [
      "what dou you call a bear with no teeth? \n",
      "A gummy bear\n"
     ]
    }
   ],
   "source": [
    "#challange 3 \n",
    "print (\"what dou you call a bear with no teeth? \\nA gummy bear\")"
   ]
  },
  {
   "cell_type": "code",
   "execution_count": 28,
   "metadata": {},
   "outputs": [
    {
     "name": "stdout",
     "output_type": "stream",
     "text": [
      "please give a random number: 2\n",
      "could you please add anthoer one: 2\n",
      "Thank you! \n",
      "The sum of your two numbers is:  4\n"
     ]
    }
   ],
   "source": [
    "#challange 4 \n",
    "\n",
    "num1 = int(input(\"please give a random number: \"))\n",
    "num2 = int(input(\"could you please add anthoer one: \"))\n",
    "answer = num1+num2\n",
    "print (\"Thank you! \\nThe sum of your two numbers is: \", answer)"
   ]
  },
  {
   "cell_type": "code",
   "execution_count": 31,
   "metadata": {},
   "outputs": [
    {
     "name": "stdout",
     "output_type": "stream",
     "text": [
      "please give a random number: 2\n",
      "could you please add anthoer one: 2\n",
      "another one please: 2\n",
      "Thank you! \n",
      "The tada:  8\n"
     ]
    }
   ],
   "source": [
    "#challange 5\n",
    "num3 = int(input(\"please give a random number: \"))\n",
    "num4 = int(input(\"could you please add anthoer one: \"))\n",
    "num5 = int(input(\"another one please: \"))\n",
    "answer5 = (num3 + num4)*num5\n",
    "print (\"Thank you! \\nThe tada: \", answer5)"
   ]
  },
  {
   "cell_type": "code",
   "execution_count": 32,
   "metadata": {},
   "outputs": [
    {
     "name": "stdout",
     "output_type": "stream",
     "text": [
      "how many slices of pizza have you started with? 9\n",
      "how many have you eaten? 1\n",
      "there are 8 slices of pizza left \n",
      " enjoy!\n"
     ]
    }
   ],
   "source": [
    "#challange 6\n",
    "start = int(input(\"how many slices of pizza have you started with? \"))\n",
    "eaten = int(input(\"how many have you eaten? \"))\n",
    "\n",
    "end =  start -eaten \n",
    "print (\"there are %d slices of pizza left \\nenjoy!\" % end)"
   ]
  },
  {
   "cell_type": "code",
   "execution_count": null,
   "metadata": {},
   "outputs": [],
   "source": [
    "#challange 7\n",
    "name = input(\"what is your name? \")\n",
    "age = int(input(\"what is your age? \"))\n",
    "\n",
    "nextbirthday =  age +1\n",
    "print (\"%s, next birthday you will be %d years old\" % (name, nextbirthday))"
   ]
  },
  {
   "cell_type": "code",
   "execution_count": 5,
   "metadata": {},
   "outputs": [
    {
     "name": "stdout",
     "output_type": "stream",
     "text": [
      "what is the total price of the bill: 333\n",
      "how many have enjoyed the meal? 23\n",
      "everyone has to pay:  14.478 pounds \n"
     ]
    }
   ],
   "source": [
    "#challange 8\n",
    "total_bill = int(input(\"what is the total price of the bill: \"))\n",
    "num_diners = int(input(\"how many have enjoyed the meal? \"))\n",
    "\n",
    "each = round((total_bill/num_diners), 3)\n",
    "print (\"everyone has to pay: \", each, \"pounds \")"
   ]
  },
  {
   "cell_type": "code",
   "execution_count": 2,
   "metadata": {},
   "outputs": [
    {
     "name": "stdout",
     "output_type": "stream",
     "text": [
      "how many days? 1\n",
      "1 has 24 hours, 1440 minutes, and 34560 seconds\n"
     ]
    }
   ],
   "source": [
    "#challange 9\n",
    "num_days = int(input(\"how many days? \"))\n",
    "\n",
    "hours = round((num_days*24), 2)\n",
    "minutes= round((hours*60), 2)\n",
    "seconds= round((minutes*24), 0)\n",
    "print (\"%d has %d hours, %d minutes, and %d seconds\" % (num_days, hours, minutes, seconds))"
   ]
  },
  {
   "cell_type": "code",
   "execution_count": 3,
   "metadata": {},
   "outputs": [
    {
     "name": "stdout",
     "output_type": "stream",
     "text": [
      "what is your weight in kilo gram 69\n",
      "69 kilogram is 152076 pound\n"
     ]
    }
   ],
   "source": [
    "#challange 10\n",
    "kilo = int(input(\"what is your weight in kilo gram \"))\n",
    "\n",
    "pound = round((kilo*2204), 2)\n",
    "\n",
    "print (\"%d kilogram is %d pound\" % (kilo,pound))"
   ]
  },
  {
   "cell_type": "code",
   "execution_count": 9,
   "metadata": {},
   "outputs": [
    {
     "name": "stdout",
     "output_type": "stream",
     "text": [
      "enter a number above 100: 200\n",
      "enter a number below 10: 22\n",
      "22 fits 9 in 200 \n",
      "BRAVO!\n"
     ]
    }
   ],
   "source": [
    "#challange 11\n",
    "large= int(input(\"enter a number above 100: \"))\n",
    "small= int(input(\"enter a number below 10: \"))\n",
    "\n",
    "result_11 = large //small \n",
    "\n",
    "print (\"%d fits %d in %d \\nBRAVO!\"% (small,  result_11, large))"
   ]
  },
  {
   "cell_type": "code",
   "execution_count": null,
   "metadata": {},
   "outputs": [],
   "source": []
  }
 ],
 "metadata": {
  "kernelspec": {
   "display_name": "Python 3",
   "language": "python",
   "name": "python3"
  },
  "language_info": {
   "codemirror_mode": {
    "name": "ipython",
    "version": 3
   },
   "file_extension": ".py",
   "mimetype": "text/x-python",
   "name": "python",
   "nbconvert_exporter": "python",
   "pygments_lexer": "ipython3",
   "version": "3.7.6"
  }
 },
 "nbformat": 4,
 "nbformat_minor": 4
}
