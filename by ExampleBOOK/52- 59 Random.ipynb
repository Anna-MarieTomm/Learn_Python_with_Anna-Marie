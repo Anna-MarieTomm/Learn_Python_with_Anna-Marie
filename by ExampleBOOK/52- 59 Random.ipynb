{
 "cells": [
  {
   "cell_type": "code",
   "execution_count": 6,
   "metadata": {},
   "outputs": [
    {
     "name": "stdout",
     "output_type": "stream",
     "text": [
      "79\n"
     ]
    }
   ],
   "source": [
    "#challange 52\n",
    "import random \n",
    "one_and_hundred = random.randint (1,100)\n",
    "print(one_and_hundred)"
   ]
  },
  {
   "cell_type": "code",
   "execution_count": 13,
   "metadata": {},
   "outputs": [
    {
     "name": "stdout",
     "output_type": "stream",
     "text": [
      "banana\n"
     ]
    }
   ],
   "source": [
    "#challange 53\n",
    "import random \n",
    "odd_box = random.choice ([\"apple\", \"banana\", \"spinache\"])\n",
    "print(odd_box)\n"
   ]
  },
  {
   "cell_type": "code",
   "execution_count": 21,
   "metadata": {},
   "outputs": [
    {
     "name": "stdout",
     "output_type": "stream",
     "text": [
      "choose between h or t: h\n",
      "bad luck\n",
      "the computer has selected tail\n"
     ]
    }
   ],
   "source": [
    "#challange 54\n",
    "import random \n",
    "h_or_t = random.choice ([\"h\", \"t\"])\n",
    "\n",
    "choice = input(\"choose between h or t: \")\n",
    "\n",
    "if choice == h_or_t: \n",
    "    print(\"you win!\")\n",
    "else: \n",
    "    print(\"bad luck\")\n",
    "\n",
    "if h_or_t == \"h\": \n",
    "    print(\"the computer has selected head\")\n",
    "    \n",
    "else: \n",
    "    print(\"the computer has selected tail\")"
   ]
  },
  {
   "cell_type": "code",
   "execution_count": 28,
   "metadata": {},
   "outputs": [
    {
     "name": "stdout",
     "output_type": "stream",
     "text": [
      "choose a number between 1-5: 3\n",
      "you guess is to high\n",
      "do you want to play another time? (y/n) y\n",
      "choose a number between 1-5: 2\n",
      "correct\n",
      "the computer has picked: 2\n"
     ]
    }
   ],
   "source": [
    "#challange 55\n",
    "import random \n",
    "random = random.randint (1,5)\n",
    "\n",
    "pic = int(input(\"choose a number between 1-5: \"))\n",
    "\n",
    "if random == pic: \n",
    "    print(\"well done\")\n",
    "elif random < pic:  \n",
    "    print(\"you guess is to high\")\n",
    "    go_on = input(\"do you want to play another time? (y/n) \")\n",
    "    if go_on == \"y\": \n",
    "        pic2 = int(input(\"choose a number between 1-5: \"))\n",
    "        if pic2 == random: \n",
    "            print(\"correct\")\n",
    "        else: \n",
    "            print (\"nop\")\n",
    "            \n",
    "            \n",
    "elif random > pic: \n",
    "    print (\"your guess is to low\")\n",
    "    go_on = input(\"do you want to play another time? (y/n) \")\n",
    "    if go_on == \"y\": \n",
    "        pic2 = int(input(\"choose a number between 1-5: \"))\n",
    "        if pic2 == random: \n",
    "            print(\"correct\")\n",
    "        else: \n",
    "            print (\"nop\")\n",
    "\n",
    "print (\"the computer has picked:\",random)"
   ]
  },
  {
   "cell_type": "code",
   "execution_count": 2,
   "metadata": {},
   "outputs": [
    {
     "name": "stdout",
     "output_type": "stream",
     "text": [
      "choose a number between 1-10: 10\n",
      "choose a number between 1-10: 1\n",
      "choose a number between 1-10: 2\n",
      "choose a number between 1-10: 3\n",
      "yes!! you have piked  3 , that is correct\n"
     ]
    }
   ],
   "source": [
    "#challange 56\n",
    "import random \n",
    "randi = random.randint (1,10)\n",
    "correct = False \n",
    "\n",
    "while correct == False:\n",
    "    pic_further = int(input(\"choose a number between 1-10: \"))\n",
    "    if randi == pic_further: \n",
    "        correct = True \n",
    "        \n",
    "print (\"yes!! you have piked \", randi, \", that is correct\")\n"
   ]
  },
  {
   "cell_type": "code",
   "execution_count": 4,
   "metadata": {},
   "outputs": [
    {
     "name": "stdout",
     "output_type": "stream",
     "text": [
      "choose a number between 1-10: 1\n",
      "to low!\n",
      "choose a number between 1-10: 10\n",
      "to high!\n",
      "choose a number between 1-10: 5\n",
      "to high!\n",
      "choose a number between 1-10: 4\n",
      "to high!\n",
      "choose a number between 1-10: 3\n",
      "to high!\n",
      "choose a number between 1-10: 2\n",
      "yes!! you have piked  2 , that is correct\n"
     ]
    }
   ],
   "source": [
    "#challange 57\n",
    "\n",
    "import random \n",
    "randi = random.randint (1,10)\n",
    "correct = False \n",
    "\n",
    "while correct == False:\n",
    "    pic_further = int(input(\"choose a number between 1-10: \"))\n",
    "    if pic_further > randi: \n",
    "        print(\"to high!\")\n",
    "    elif pic_further < randi: \n",
    "        print (\"to low!\")\n",
    "        \n",
    "    if randi == pic_further: \n",
    "        correct = True \n",
    "        \n",
    "print (\"yes!! you have piked \", randi, \", that is correct\")\n"
   ]
  },
  {
   "cell_type": "code",
   "execution_count": 6,
   "metadata": {},
   "outputs": [
    {
     "name": "stdout",
     "output_type": "stream",
     "text": [
      "let´s play a math quiz\n",
      "tell me a number: 2\n",
      "the true number is: 7 your socre remains at  0\n",
      "tell me a number: 2\n",
      "the true number is: 7 your socre remains at  0\n",
      "tell me a number: 2\n",
      "the true number is: 7 your socre remains at  0\n",
      "tell me a number: 2\n",
      "the true number is: 5 your socre remains at  0\n",
      "tell me a number: 2\n",
      "the true number is: 5 your socre remains at  0\n",
      "your final score is:  0\n"
     ]
    }
   ],
   "source": [
    "#challange 58 \n",
    "\n",
    "print (\"let´s play a math quiz\")\n",
    "import random \n",
    "\n",
    "\n",
    "score = 0 \n",
    "\n",
    "for i in range(1,6): \n",
    "    num1 = random.randint(1,5)\n",
    "    num2 = random.randint(1,5)\n",
    "    num3 = num1+ num2 \n",
    "    your_guess = int(input(\"tell me a number: \"))\n",
    "    print (\"the true number is:\", num3, \"your socre remains at \", score)\n",
    "    if your_guess == num3: \n",
    "        score = score +1\n",
    "        print(\"perfecto your score as increased by one and is now: \", score)\n",
    "\n",
    "print(\"your final score is: \", score)\n"
   ]
  },
  {
   "cell_type": "code",
   "execution_count": 2,
   "metadata": {},
   "outputs": [
    {
     "name": "stdout",
     "output_type": "stream",
     "text": [
      "Pic one of thouse colors: green, yellow, pink, blue, purple: BLUE\n",
      "blue is not a nice collor I like purple better\n"
     ]
    }
   ],
   "source": [
    "#challange 59 \n",
    "\n",
    "import random \n",
    "mine = random.choice ([\"green\", \"yellow\", \"pink\", \"blue\", \"purple\"])\n",
    "yours = input(\"Pic one of thouse colors: green, yellow, pink, blue, purple: \")\n",
    "yours = yours.lower()\n",
    "if mine == yours: \n",
    "    print (\"Well done! My favorit collor is %s as well!\" %mine)\n",
    "else: \n",
    "    print (\"%s is not a nice collor I like %s better\" % (yours, mine))"
   ]
  },
  {
   "cell_type": "code",
   "execution_count": null,
   "metadata": {},
   "outputs": [],
   "source": []
  },
  {
   "cell_type": "code",
   "execution_count": null,
   "metadata": {},
   "outputs": [],
   "source": []
  }
 ],
 "metadata": {
  "kernelspec": {
   "display_name": "Python 3",
   "language": "python",
   "name": "python3"
  },
  "language_info": {
   "codemirror_mode": {
    "name": "ipython",
    "version": 3
   },
   "file_extension": ".py",
   "mimetype": "text/x-python",
   "name": "python",
   "nbconvert_exporter": "python",
   "pygments_lexer": "ipython3",
   "version": "3.7.6"
  }
 },
 "nbformat": 4,
 "nbformat_minor": 4
}
