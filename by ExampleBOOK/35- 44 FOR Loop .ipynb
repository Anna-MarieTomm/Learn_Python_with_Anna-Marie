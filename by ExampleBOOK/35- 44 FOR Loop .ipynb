{
 "cells": [
  {
   "cell_type": "code",
   "execution_count": null,
   "metadata": {},
   "outputs": [],
   "source": [
    "#challane 35\n",
    "name = input(\"please insert your name: \")\n",
    "\n",
    "for i in range(0,3): \n",
    "    print (name)\n"
   ]
  },
  {
   "cell_type": "code",
   "execution_count": null,
   "metadata": {},
   "outputs": [],
   "source": [
    "#challane 36\n",
    "name = input(\"please insert your name: \")\n",
    "number = int(input(\"please a number: \"))\n",
    "for i in range(0,number): \n",
    "    print (name)\n"
   ]
  },
  {
   "cell_type": "code",
   "execution_count": null,
   "metadata": {},
   "outputs": [],
   "source": [
    "#challane 37\n",
    "name = input(\"please insert your name: \")\n",
    "name = str.capitalize(name)\n",
    "for i in name: \n",
    "    print (i)\n"
   ]
  },
  {
   "cell_type": "code",
   "execution_count": null,
   "metadata": {},
   "outputs": [],
   "source": [
    "#challane 38\n",
    "name = input(\"please insert your name: \")\n",
    "number = int(input(\"please a number: \"))\n",
    "for x in range(0,number): \n",
    "    for i in name: \n",
    "        print (i)\n"
   ]
  },
  {
   "cell_type": "code",
   "execution_count": null,
   "metadata": {},
   "outputs": [],
   "source": [
    "#challane 39 (displaying all time tables till the certain number times table)\n",
    "\n",
    "no = int(input(\"please a number between 1 and 12: \"))\n",
    "\n",
    "for x in range(1,no+1): \n",
    "    for i in range(1,11): \n",
    "        print (i, \"*\",x)\n",
    "        \n"
   ]
  },
  {
   "cell_type": "code",
   "execution_count": null,
   "metadata": {},
   "outputs": [],
   "source": [
    "#challane 39 (displaying certain time table with results)\n",
    "\n",
    "no = int(input(\"please a number between 1 and 12: \"))\n",
    "\n",
    "for i in range(1,11): \n",
    "    answer = no*i\n",
    "    print (i, \"*\",no, \"=\", answer)\n",
    "        \n"
   ]
  },
  {
   "cell_type": "code",
   "execution_count": null,
   "metadata": {},
   "outputs": [],
   "source": [
    "#challane 40 \n",
    "\n",
    "no_50 = int(input(\"please insert a number under 50: \"))\n",
    "\n",
    "for i in range(50,no_50-1,-1): \n",
    "    print (i)\n",
    "        "
   ]
  },
  {
   "cell_type": "code",
   "execution_count": null,
   "metadata": {},
   "outputs": [],
   "source": [
    "#challange 41 \n",
    "nami = input(\"tell me your name: \")\n",
    "numi = int(input(\"number below 10: \"))\n",
    "\n",
    "if numi < 10:\n",
    "    for i in range(0,numi): \n",
    "        print(nami)\n",
    "else: \n",
    "    for i in range (0,3): \n",
    "        print(\"Too high \")\n",
    "    "
   ]
  },
  {
   "cell_type": "code",
   "execution_count": 6,
   "metadata": {},
   "outputs": [
    {
     "name": "stdout",
     "output_type": "stream",
     "text": [
      "give me a number: 1\n",
      "do you want to include the number? (say yes or no)2\n",
      "give me a number: 3\n",
      "do you want to include the number? (say yes or no)yes\n",
      "the total of the number you want to see is:  3\n"
     ]
    }
   ],
   "source": [
    "#challange 42\n",
    "total = 0\n",
    "for i in range(0,5): \n",
    "    user = int(input(\"give me a number: \"))\n",
    "    yes_no =input(\"do you want to include the number? (say yes or no)\")\n",
    "    \n",
    "    if yes_no == \"yes\" or yes_no == \"Yes\": \n",
    "        total = user +total \n",
    "        \n",
    "print (\"The total of the number you want to see is: \", total)"
   ]
  },
  {
   "cell_type": "code",
   "execution_count": 12,
   "metadata": {},
   "outputs": [
    {
     "name": "stdout",
     "output_type": "stream",
     "text": [
      "in which direction do you want to count? (up or down)ddj\n",
      "I don´t understand! \n"
     ]
    }
   ],
   "source": [
    "#challange 43 (nested functions)\n",
    "\n",
    "up_down =input(\"in which direction do you want to count? (up or down)\")\n",
    "if up_down == \"up\": \n",
    "    top = int(input(\"what is the your top number? \"))\n",
    "    for i in range(1,top): \n",
    "        print (i)\n",
    " \n",
    "elif up_down == \"down\": \n",
    "    below20 = int(input(\"tell me a number below 20? \"))\n",
    "    for i in range(20,below20,-1): \n",
    "        print (i)\n",
    "else: \n",
    "    print(\"I don´t understand! \")\n",
    "        "
   ]
  },
  {
   "cell_type": "code",
   "execution_count": 16,
   "metadata": {},
   "outputs": [
    {
     "name": "stdout",
     "output_type": "stream",
     "text": [
      "How many people do you want to invite to the party? 12\n",
      "too many poeple\n"
     ]
    }
   ],
   "source": [
    "#challange 44 \n",
    "\n",
    "guests =int(input(\"How many people do you want to invite to the party? \"))\n",
    "if guests <=9: \n",
    "    for name in range(0,guests): \n",
    "        guest_name = input(\"what is the guest´s name? \")\n",
    "        print(guest_name, \"has been invited\")\n",
    "else: \n",
    "    print(\"too many poeple have been invited\")\n"
   ]
  },
  {
   "cell_type": "code",
   "execution_count": null,
   "metadata": {},
   "outputs": [],
   "source": []
  }
 ],
 "metadata": {
  "kernelspec": {
   "display_name": "Python 3",
   "language": "python",
   "name": "python3"
  },
  "language_info": {
   "codemirror_mode": {
    "name": "ipython",
    "version": 3
   },
   "file_extension": ".py",
   "mimetype": "text/x-python",
   "name": "python",
   "nbconvert_exporter": "python",
   "pygments_lexer": "ipython3",
   "version": "3.7.6"
  }
 },
 "nbformat": 4,
 "nbformat_minor": 4
}
