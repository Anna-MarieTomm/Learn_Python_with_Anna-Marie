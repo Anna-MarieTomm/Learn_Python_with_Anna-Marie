{
 "cells": [
  {
   "cell_type": "code",
   "execution_count": null,
   "metadata": {},
   "outputs": [],
   "source": [
    "#challange 45 \n",
    "\n",
    "total = 55\n",
    "while total <= 50: \n",
    "    num = int(input(\"tell me a number: \"))\n",
    "    total = num + total \n",
    "print(\"The total is: \", total)"
   ]
  },
  {
   "cell_type": "code",
   "execution_count": null,
   "metadata": {},
   "outputs": [],
   "source": [
    "#challange 46\n",
    "\n",
    "no = 0\n",
    "while no <= 5: \n",
    "    no = int(input(\"Tell me a number: \"))\n",
    "print(\"The last number was a: \", no)"
   ]
  },
  {
   "cell_type": "code",
   "execution_count": null,
   "metadata": {},
   "outputs": [],
   "source": [
    "#challange 47 (difficult)\n",
    "one = int(input(\"enter a number: \"))\n",
    "sum = one \n",
    "maybe = \"y\"\n",
    "while maybe == \"y\": \n",
    "    two = int(input(\"enter another number: \"))\n",
    "    sum = sum +two \n",
    "    maybe = input(\"do you want to add more (y/n)? \")\n",
    "print(\"the total is \", sum)"
   ]
  },
  {
   "cell_type": "code",
   "execution_count": 2,
   "metadata": {},
   "outputs": [
    {
     "name": "stdout",
     "output_type": "stream",
     "text": [
      "who do you want to invite to the party:lisa\n",
      "do you want to invite more peopple (yes/no)? yes\n",
      "lisa has been invited to the party\n",
      "who do you want to invite to the party:ben\n",
      "do you want to invite more peopple (yes/no)? no\n",
      "ben has been invited to the party\n",
      "2 have been invited to the party\n"
     ]
    }
   ],
   "source": [
    "#challange 48\n",
    "\n",
    "count = 0\n",
    "\n",
    "more = \"yes\"\n",
    "\n",
    "while more == \"yes\": \n",
    "    guest = input(\"who do you want to invite to the party:\")\n",
    "    more= input(\"do you want to invite more peopple (yes/no)? \")\n",
    "\n",
    "    print (\"%s has been invited to the party\"% guest)\n",
    "    count +=1\n",
    "    \n",
    "print (\"%d guests have been invited to the party\" % count)"
   ]
  },
  {
   "cell_type": "code",
   "execution_count": null,
   "metadata": {},
   "outputs": [],
   "source": [
    "#challange 49\n",
    "compnum = 50\n",
    "guess = int(input(\"enter a number (I play with you): \"))\n",
    "counti = 1\n",
    "\n",
    "while compnum != guess: \n",
    "    if guess < 50: \n",
    "        print(\"the number is too low, try it again\")\n",
    "    else: \n",
    "        print(\"the number is to high, try it agiain\")\n",
    "    counti = counti +1\n",
    "    guess = int(input(\"enter another number: \"))\n",
    "        \n",
    "        \n",
    "print(\"well done! It took you %d attempts\" % counti)"
   ]
  },
  {
   "cell_type": "code",
   "execution_count": 14,
   "metadata": {},
   "outputs": [
    {
     "name": "stdout",
     "output_type": "stream",
     "text": [
      "tell me a number between 10 and 20: 12\n",
      "thank you, the __12__ is in the range of 10-20!\n"
     ]
    }
   ],
   "source": [
    "#challange no 50\n",
    "fav = 0\n",
    "\n",
    "while fav >= 20 or fav <= 10 : \n",
    "    fav =int (input (\"tell me a number between 10 and 20: \"))\n",
    "    if fav < 10: \n",
    "        print (\"too low\")\n",
    "    elif fav > 20: \n",
    "        print(\"too high \")\n",
    " \n",
    "        \n",
    "print (\"thank you, the __%d__ is in the range of 10-20!\"%fav)"
   ]
  },
  {
   "cell_type": "code",
   "execution_count": null,
   "metadata": {},
   "outputs": [
    {
     "name": "stdout",
     "output_type": "stream",
     "text": [
      "There are 12 green bottles hanging on the wall, \n",
      "       12 green bottles hanging on the wall,\n",
      "       and if 1 green bottle should accidentally fall\n",
      "how many bottles should hang on the wall? 13\n",
      "that was wrong, try again \n",
      "how many bottles should hang on the wall? 0\n",
      "that was wrong, try again \n"
     ]
    }
   ],
   "source": []
  },
  {
   "cell_type": "code",
   "execution_count": null,
   "metadata": {},
   "outputs": [],
   "source": []
  }
 ],
 "metadata": {
  "kernelspec": {
   "display_name": "Python 3",
   "language": "python",
   "name": "python3"
  },
  "language_info": {
   "codemirror_mode": {
    "name": "ipython",
    "version": 3
   },
   "file_extension": ".py",
   "mimetype": "text/x-python",
   "name": "python",
   "nbconvert_exporter": "python",
   "pygments_lexer": "ipython3",
   "version": "3.7.6"
  }
 },
 "nbformat": 4,
 "nbformat_minor": 4
}
