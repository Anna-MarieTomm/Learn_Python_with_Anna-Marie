{
 "cells": [
  {
   "cell_type": "code",
   "execution_count": null,
   "metadata": {},
   "outputs": [],
   "source": [
    "#challange 96\n",
    "\n",
    "simple_list = [[2,5,8], [3,7,4], [1,6,9], [4,2,0]]\n",
    "print (simple_list)"
   ]
  },
  {
   "cell_type": "code",
   "execution_count": null,
   "metadata": {},
   "outputs": [],
   "source": [
    "#challange 97\n",
    "simple_list = [[2,5,8], [3,7,4], [1,6,9], [4,2,0]]\n",
    "\n",
    "select_row = int(input(\"row: \"))\n",
    "\n",
    "select_column = int(input(\"column: \"))\n",
    "\n",
    "print (simple_list[select_row] [select_column])\n"
   ]
  },
  {
   "cell_type": "code",
   "execution_count": null,
   "metadata": {},
   "outputs": [],
   "source": [
    "#challange 98\n",
    "simple_list = [[2,5,8], [3,7,4], [1,6,9], [4,2,0]]\n",
    "\n",
    "select_row = int(input(\"row: \"))\n",
    "\n",
    "print (simple_list[select_row])\n",
    "\n",
    "add = int(input(\"what do you want to add? \"))\n",
    "\n",
    "simple_list[select_row].append(add)\n",
    "\n",
    "print (simple_list[select_row])"
   ]
  },
  {
   "cell_type": "code",
   "execution_count": null,
   "metadata": {},
   "outputs": [],
   "source": [
    "#challange 99\n",
    "\n",
    "simple_list = [[2,5,8], [3,7,4], [1,6,9], [4,2,0]]\n",
    "\n",
    "select_row = int(input(\"row: \"))\n",
    "\n",
    "print (simple_list[select_row])\n",
    "\n",
    "select_column = int(input(\"column: \"))\n",
    "\n",
    "print (simple_list[select_row] [select_column])\n",
    "\n",
    "change = input(\"change value (y/n)? \") \n",
    "\n",
    "if change == \"y\": \n",
    "    new = int(input(\"give me the new number: \"))\n",
    "    simple_list [select_row] [select_column] = new\n",
    "    \n",
    "print(\"new column: \", simple_list [select_row])"
   ]
  },
  {
   "cell_type": "code",
   "execution_count": null,
   "metadata": {},
   "outputs": [],
   "source": [
    "#challange 100 (2D dictionary)\n",
    "\n",
    "#names are the rows, regions the columns\n",
    "sales_sumemry = {\"John\": {\"N\": 3056, \"S\": 8463, \"E\": 8441, \"W\": 2694}, \n",
    "                 \"Tom\": {\"N\": 3056, \"S\": 8463, \"E\": 8441, \"W\": 2694},\n",
    "                 \"Anne\": {\"N\": 3056, \"S\": 8463, \"E\": 8441, \"W\": 2694},\n",
    "                 \"Fiona\": {\"N\": 3056, \"S\": 8463, \"E\": 8441, \"W\": 2694}}\n"
   ]
  },
  {
   "cell_type": "code",
   "execution_count": null,
   "metadata": {},
   "outputs": [],
   "source": [
    "#challange 101 (2D dictionary)\n",
    "\n",
    "#names are the rows, regions the columns\n",
    "sales_sumemry = {\"John\": {\"N\": 3056, \"S\": 8463, \"E\": 8441, \"W\": 2694}, \n",
    "                 \"Tom\": {\"N\": 3056, \"S\": 8463, \"E\": 8441, \"W\": 2694},\n",
    "                 \"Anne\": {\"N\": 3056, \"S\": 8463, \"E\": 8441, \"W\": 2694},\n",
    "                 \"Fiona\": {\"N\": 3056, \"S\": 8463, \"E\": 8441, \"W\": 2694}}\n",
    "\n",
    "#ask for specific data \n",
    "name = input(\"give me a name: \")\n",
    "\n",
    "region = input (\"give me a region: \")\n",
    "\n",
    "print (name, \"made\", sales_sumemry [name] [region], \"in region\", region)\n",
    "\n",
    "\n",
    "#change in data \n",
    "name_change = input(\"which employees data do you want to change? \")\n",
    "region_change = input(\"which region data do you want to change? \")\n",
    "print (name_change, \"made\", sales_sumemry [name_change] [region_change], \"in region\", region_change)\n",
    "\n",
    "new_data = int(input(\"how much did this person actually made: \"))\n",
    "sales_sumemry[name_change] [region_change] = new_data\n",
    "print (\"the updated sales data from \", name_change, \"are: \", sales_sumemry [name_change])"
   ]
  },
  {
   "cell_type": "code",
   "execution_count": null,
   "metadata": {},
   "outputs": [],
   "source": [
    "#challange 102\n",
    "\n",
    "#create an empty list \n",
    "shoe_data = {}\n",
    "\n",
    "for i in range(0,2): \n",
    "    name = input(\"name: \")\n",
    "    age= int(input (\"age: \"))\n",
    "    shoe_zise= int(input (\"shoe size: \"))\n",
    "    shoe_data [name] = {\"age\": age, \"shoe size\": shoe_zise}\n",
    "\n",
    "print (\"whole shoe data: \", shoe_data)\n",
    "\n",
    "who = input(\"who are you interested in? \")\n",
    "\n",
    "print (\"that are the required data points for\", who, shoe_data [who])"
   ]
  },
  {
   "cell_type": "code",
   "execution_count": 2,
   "metadata": {},
   "outputs": [
    {
     "name": "stdout",
     "output_type": "stream",
     "text": [
      "name: lina\n",
      "age: 30\n",
      "shoe size: 11\n",
      "name: marlene\n",
      "age: 2\n",
      "shoe size: 2\n",
      "--------------------\n",
      "lina 30\n",
      "marlene 2\n",
      "--------------------\n",
      "who are you interested in? lina\n",
      "that are the required data points for lina 30\n"
     ]
    }
   ],
   "source": [
    "#challange 103\n",
    "\n",
    "\n",
    "shoe_data = {}\n",
    "\n",
    "for i in range(0,2): \n",
    "    name = input(\"name: \")\n",
    "    age= int(input (\"age: \"))\n",
    "    shoe_zise= int(input (\"shoe size: \"))\n",
    "    shoe_data [name] = {\"age\": age, \"shoe size\": shoe_zise}\n",
    "\n",
    "print (\"----\"*5)\n",
    "for name in shoe_data: \n",
    "    print (name, shoe_data[name][\"age\"])\n",
    "    \n",
    "print (\"----\"*5)\n",
    "\n",
    "who = input(\"who are you interested in? \")\n",
    "\n",
    "print (\"that is the required data point for\", who, shoe_data [who] [\"age\"], \"(her/his sage)\")"
   ]
  },
  {
   "cell_type": "code",
   "execution_count": 4,
   "metadata": {},
   "outputs": [
    {
     "name": "stdout",
     "output_type": "stream",
     "text": [
      "name: 22\n",
      "age: 22\n",
      "shoe size: 22\n",
      "name: 44\n",
      "age: 44\n",
      "shoe size: 44\n",
      "--------------------\n",
      "22 22\n",
      "44 44\n",
      "--------------------\n",
      "who are you interested in? 22\n",
      "that is the required data point for 22 22 (her/his sage)\n",
      "--------------------\n",
      "which person do you want to remove? 44\n",
      "22 {'22': {'age': 22, 'shoe size': 22}}\n"
     ]
    }
   ],
   "source": [
    "#challange 104\n",
    "\n",
    "shoe_data = {}\n",
    "\n",
    "for i in range(0,2): \n",
    "    name = input(\"name: \")\n",
    "    age= int(input (\"age: \"))\n",
    "    shoe_zise= int(input (\"shoe size: \"))\n",
    "    shoe_data [name] = {\"age\": age, \"shoe size\": shoe_zise}\n",
    "\n",
    "print (\"----\"*5)\n",
    "for name in shoe_data: \n",
    "    print (name, shoe_data[name][\"age\"])\n",
    "    \n",
    "print (\"----\"*5)\n",
    "\n",
    "who = input(\"who are you interested in? \")\n",
    "\n",
    "print (\"that is the required data point for\", who, shoe_data [who] [\"age\"], \"(her/his sage)\")\n",
    "\n",
    "print (\"----\"*5)\n",
    "\n",
    "remove = input(\"which person do you want to remove? \")\n",
    "\n",
    "del shoe_data[remove]\n",
    "\n",
    "for name in shoe_data: \n",
    "    print(name, shoe_data)"
   ]
  },
  {
   "cell_type": "code",
   "execution_count": null,
   "metadata": {},
   "outputs": [],
   "source": []
  }
 ],
 "metadata": {
  "kernelspec": {
   "display_name": "Python 3",
   "language": "python",
   "name": "python3"
  },
  "language_info": {
   "codemirror_mode": {
    "name": "ipython",
    "version": 3
   },
   "file_extension": ".py",
   "mimetype": "text/x-python",
   "name": "python",
   "nbconvert_exporter": "python",
   "pygments_lexer": "ipython3",
   "version": "3.7.6"
  }
 },
 "nbformat": 4,
 "nbformat_minor": 4
}
