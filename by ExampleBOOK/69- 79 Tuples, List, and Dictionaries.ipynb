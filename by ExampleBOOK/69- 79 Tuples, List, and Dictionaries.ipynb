{
 "cells": [
  {
   "cell_type": "code",
   "execution_count": null,
   "metadata": {},
   "outputs": [],
   "source": [
    "#challange 69\n",
    "\n",
    "#create turple\n",
    "\n",
    "countries = (\"UK\", \"Italy\", \"Austria\", \"Croatia\", \"Poland\")\n",
    "\n",
    "print(countries)\n",
    "\n",
    "pic = input(\"choose on of the countries: \")\n",
    "\n",
    "print(\"your country of choise is at position:\", countries.index(pic))"
   ]
  },
  {
   "cell_type": "code",
   "execution_count": null,
   "metadata": {},
   "outputs": [],
   "source": [
    "#challange 70 (extension of 69)\n",
    "\n",
    "#create turple\n",
    "\n",
    "countries = (\"UK\", \"Italy\", \"Austria\", \"Croatia\", \"Poland\")\n",
    "\n",
    "print(countries)\n",
    "\n",
    "pic = input(\"choose on of the countries: \")\n",
    "\n",
    "print(\"your country of choise is at position:\", countries.index(pic))\n",
    "\n",
    "\n",
    "pos = int(input(\"give me a posstion (between 0 and 4)\"))\n",
    "\n",
    "print (pos, \"means country: \", countries[pos])"
   ]
  },
  {
   "cell_type": "code",
   "execution_count": null,
   "metadata": {},
   "outputs": [],
   "source": [
    "#challange 71 (list)\n",
    "\n",
    "sports = [\"ballete\",\"athletics\", \"skiing\", \"football\", \"tennis\"]\n",
    "\n",
    "fav = input(\"what is your favorit sport? \")\n",
    "\n",
    "sports.append(fav)\n",
    "\n",
    "sports.sort()\n",
    "\n",
    "print(sports)"
   ]
  },
  {
   "cell_type": "code",
   "execution_count": null,
   "metadata": {},
   "outputs": [],
   "source": [
    "#challange 72 (list)\n",
    "\n",
    "subjects = [\"PE\",\"computer science\", \"biology\", \"languages\", \"math\", \"arts\"]\n",
    "\n",
    "dislike = input(\"which of the subjects do you dislike? \")\n",
    "\n",
    "subjects.remove(dislike)\n",
    "\n",
    "subjects.sort()\n",
    "\n",
    "print(\"only subjects you like:\", subjects)"
   ]
  },
  {
   "cell_type": "code",
   "execution_count": null,
   "metadata": {},
   "outputs": [],
   "source": [
    "#hallange 73 (dictionary)\n",
    "\n",
    "fav_food = {1: \"\", 2: \"\", 3: \"\", 4: \"\"}\n",
    "count = 0\n",
    "for i in range(0,4): \n",
    "    food = input(\"what is your favorit food: \")\n",
    "    count = count +1\n",
    "    fav_food[count] = food\n",
    "    \n",
    "print(\"your fav. food is: \", fav_food)\n",
    "\n",
    "#choose and delete sertain part \n",
    "away = int (input(\"what do you want to get rid off?\" ))\n",
    "\n",
    "del fav_food [away]\n",
    "\n",
    "\n",
    "print(\"now your final list: \", sorted(fav_food.values()))"
   ]
  },
  {
   "cell_type": "code",
   "execution_count": null,
   "metadata": {},
   "outputs": [],
   "source": [
    "#challange 74\n",
    "\n",
    "colours = [\"green\", \"blue\",\"black\", \"yellow\", \"white\", \n",
    "           \"orange\",\"puple\", \"pink\", \"lightblue\", \"grey\"]\n",
    "\n",
    "start = int (input (\"number: between 0-4: \"))\n",
    "end = int (input (\"number: between 5-9: \"))\n",
    "\n",
    "print (colours [start])\n",
    "\n",
    "for i in range(start,end): \n",
    "    start = start +1\n",
    "    print (colours [start])"
   ]
  },
  {
   "cell_type": "code",
   "execution_count": 2,
   "metadata": {},
   "outputs": [
    {
     "name": "stdout",
     "output_type": "stream",
     "text": [
      "inital list in a line: [123, 234, 599, 296]\n",
      "123\n",
      "234\n",
      "599\n",
      "296\n",
      "three digit number: 234\n",
      "234 is at positon in the list:  1\n"
     ]
    }
   ],
   "source": [
    "#challange 75\n",
    "\n",
    "numbers = [123, 234, 599, 296]\n",
    "\n",
    "print (\"inital list in a line:\", numbers)\n",
    "#print in several lines \n",
    "\n",
    "for i in numbers: \n",
    "    print (i)\n",
    "    \n",
    "your_pic = int(input(\"three digit number: \"))\n",
    "\n",
    "if your_pic in numbers:\n",
    "    position = numbers.index(your_pic)\n",
    "    print (your_pic, \"is at positon in the list: \", position)\n",
    "\n",
    "else:\n",
    "    print ( your_pic, \"is not in the list... \")\n",
    "    "
   ]
  },
  {
   "cell_type": "code",
   "execution_count": 5,
   "metadata": {},
   "outputs": [
    {
     "name": "stdout",
     "output_type": "stream",
     "text": [
      "tell me a name: a\n",
      "tell me a name: a\n",
      "tell me a name: a\n",
      "do you want to invite more? (yes/no) yes\n",
      "tell me a name: a\n",
      "do you want to invite more? (yes/no) yes\n",
      "tell me a name: a\n",
      "do you want to invite more? (yes/no) no\n",
      "you have invited:  5 indluding ['a', 'a', 'a', 'a', 'a']\n"
     ]
    }
   ],
   "source": [
    "#challange 76 (party guests)\n",
    "\n",
    "party_guests = []\n",
    "count = 0\n",
    "\n",
    "for i in range(0,3): \n",
    "    guest = input(\"tell me a name: \")\n",
    "    party_guests.append(guest)\n",
    "    count = count +1\n",
    "\n",
    "add = True \n",
    "\n",
    "while add == True: \n",
    "    more = input(\"do you want to invite more? (yes/no) \")\n",
    "    if more == \"yes\": \n",
    "        guest = input(\"tell me a name: \")\n",
    "        party_guests.append(guest)\n",
    "        count = count +1\n",
    "        \n",
    "    else: \n",
    "        add = False \n",
    "\n",
    "print (\"you have invited: \",count, \"indluding\", party_guests)\n"
   ]
  },
  {
   "cell_type": "code",
   "execution_count": 11,
   "metadata": {},
   "outputs": [
    {
     "name": "stdout",
     "output_type": "stream",
     "text": [
      "tell me a name: a\n",
      "tell me a name: b\n",
      "tell me a name: c\n",
      "do you want to invite more? (yes/no) yes\n",
      "tell me a name: d\n",
      "do you want to invite more? (yes/no) no\n",
      "you have invited:  4 indluding ['a', 'b', 'c', 'd']\n",
      "choose one of the names: b\n",
      "postion of the guests name: 1\n",
      "do you still want to invite that person? no\n",
      "final party list:  ['a', 'c', 'd'] hence,  3 people are invited\n"
     ]
    }
   ],
   "source": [
    "#challange 77 (adapted party guest )\n",
    "\n",
    "party_guests = []\n",
    "count = 0\n",
    "\n",
    "for i in range(0,3): \n",
    "    guest = input(\"tell me a name: \")\n",
    "    party_guests.append(guest)\n",
    "    count = count +1\n",
    "\n",
    "add = True \n",
    "\n",
    "while add == True: \n",
    "    more = input(\"do you want to invite more? (yes/no) \")\n",
    "    if more == \"yes\": \n",
    "        guest = input(\"tell me a name: \")\n",
    "        party_guests.append(guest)\n",
    "        count = count +1\n",
    "        \n",
    "    else: \n",
    "        add = False \n",
    "\n",
    "print (\"you have invited: \",count, \"indluding\", party_guests)\n",
    "\n",
    "pic_one = input(\"choose one of the names: \")\n",
    "index = party_guests.index(pic_one)\n",
    "print(\"postion of the guests name:\", index)\n",
    "\n",
    "still_inviting = input(\"do you still want to invite that person? \")\n",
    "\n",
    "if still_inviting == \"no\": \n",
    "    party_guests.remove(pic_one)\n",
    "    count = count -1\n",
    "    \n",
    "print(\"final party list: \", party_guests,\"hence,\", count, \"people are invited\")"
   ]
  },
  {
   "cell_type": "code",
   "execution_count": 18,
   "metadata": {},
   "outputs": [
    {
     "name": "stdout",
     "output_type": "stream",
     "text": [
      "old list: \n",
      "call the midwife\n",
      "simpsons\n",
      "how I met your mother\n",
      "friends\n",
      "----------------\n",
      "addings \n",
      "other show: djjd\n",
      "where do add: 3\n",
      "----------------\n",
      "new list \n",
      "call the midwife\n",
      "simpsons\n",
      "how I met your mother\n",
      "djjd\n",
      "friends\n"
     ]
    }
   ],
   "source": [
    "#challange 78 (inserting somehting into a specific lisst position)\n",
    "\n",
    "tv_programs = [\"call the midwife\", \"simpsons\", \"how I met your mother\", \"friends\"]\n",
    "\n",
    "\n",
    "print(\"old list: \")\n",
    "for i in tv_programs: \n",
    "    print (i) \n",
    "    \n",
    "print (\"----\"* 4)\n",
    "print (\"addings \")\n",
    "other = input(\"other show: \")\n",
    "where = int(input (\"where do add: \"))\n",
    "\n",
    "tv_programs.insert(where, other)\n",
    "\n",
    "print (\"----\"* 4)\n",
    "print (\"new list \")\n",
    "for i in tv_programs: \n",
    "    print (i) \n"
   ]
  },
  {
   "cell_type": "code",
   "execution_count": 25,
   "metadata": {},
   "outputs": [
    {
     "name": "stdout",
     "output_type": "stream",
     "text": [
      "give me numbers: 3434\n",
      "list:  [3434]\n",
      "give me numbers: 11\n",
      "list:  [3434, 11]\n",
      "give me numbers: 11\n",
      "list:  [3434, 11, 11]\n",
      "do you want to keep the last one? (yes/ no): yes\n",
      "final list [3434, 11, 11]\n"
     ]
    }
   ],
   "source": [
    "#challange 79 \n",
    "\n",
    "nums = []\n",
    "\n",
    "for i in range(0,3):\n",
    "    enter = int(input(\"give me numbers: \"))\n",
    "    nums.append(enter)\n",
    "    print (\"list: \", nums)\n",
    "    \n",
    "keep = input(\"do you want to keep the last one? (yes/ no): \")\n",
    "if keep == \"no\": \n",
    "    nums.pop(2)\n",
    "print (\"final list\", nums)\n"
   ]
  },
  {
   "cell_type": "code",
   "execution_count": null,
   "metadata": {},
   "outputs": [],
   "source": []
  }
 ],
 "metadata": {
  "kernelspec": {
   "display_name": "Python 3",
   "language": "python",
   "name": "python3"
  },
  "language_info": {
   "codemirror_mode": {
    "name": "ipython",
    "version": 3
   },
   "file_extension": ".py",
   "mimetype": "text/x-python",
   "name": "python",
   "nbconvert_exporter": "python",
   "pygments_lexer": "ipython3",
   "version": "3.7.6"
  }
 },
 "nbformat": 4,
 "nbformat_minor": 4
}
