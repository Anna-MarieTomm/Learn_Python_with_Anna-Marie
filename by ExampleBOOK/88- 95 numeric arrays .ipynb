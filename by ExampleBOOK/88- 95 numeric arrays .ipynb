{
 "cells": [
  {
   "cell_type": "code",
   "execution_count": null,
   "metadata": {},
   "outputs": [],
   "source": [
    "#challange 88 \n",
    "from array import *\n",
    "array = array('i', [])\n",
    "for i in range(0,5): \n",
    "    num = int(input (\"insert a number: \"))\n",
    "    array.append(num)\n",
    "\n",
    "array = sorted(array)\n",
    "\n",
    "array.reverse()\n",
    "\n",
    "print (array)"
   ]
  },
  {
   "cell_type": "code",
   "execution_count": null,
   "metadata": {},
   "outputs": [],
   "source": [
    "#challange 89\n",
    "#set up the array stuff and random \n",
    "from array import *\n",
    "import random\n",
    "\n",
    "integers  = array('i', [])\n",
    "\n",
    "for i in range(0,5): \n",
    "    numi = random.randint(-400,120000)\n",
    "    integers.append(numi)\n",
    "    print(numi)\n"
   ]
  },
  {
   "cell_type": "code",
   "execution_count": null,
   "metadata": {},
   "outputs": [],
   "source": [
    "#challange 90\n",
    "from array import * \n",
    "\n",
    "all_numbers = array (\"i\", [])\n",
    "count= 0 \n",
    "\n",
    "    \n",
    "while count <= 5: \n",
    "    number = int (input(\"number: \"))\n",
    "    if number >= 10 and number <= 20: \n",
    "        all_numbers.append(number)\n",
    "        count = count +1\n",
    "    \n",
    "    else: \n",
    "        print (\"outside the range\")\n",
    "    \n",
    "    \n",
    "    \n",
    "\n",
    "print (\"thank you! \")\n",
    "for number in all_numbers: \n",
    "    print(number)"
   ]
  },
  {
   "cell_type": "code",
   "execution_count": null,
   "metadata": {},
   "outputs": [],
   "source": [
    "#challange no 91 (count intem)\n",
    "from array import * \n",
    "rep = array (\"i\", [1,2,3,4,3])\n",
    "print(rep)\n",
    "\n",
    "choose = int(input (\"choose one number from this list\"))\n",
    "\n",
    "result = rep.count(choose)\n",
    "print(\"%d is in the list %d times\"% (choose, result))"
   ]
  },
  {
   "cell_type": "code",
   "execution_count": 2,
   "metadata": {},
   "outputs": [
    {
     "name": "stdout",
     "output_type": "stream",
     "text": [
      "pic a nuber: 22\n",
      "pic a nuber: 19\n",
      "pic a nuber: 1\n",
      "8312\n",
      "8154\n",
      "5411\n",
      "2226\n",
      "493\n",
      "22\n",
      "19\n",
      "1\n"
     ]
    }
   ],
   "source": [
    "#challange 92\n",
    "from array import *\n",
    "import random\n",
    "\n",
    "one = array('i', [])\n",
    "two = array('i', [])\n",
    "\n",
    "#creating the first array \n",
    "for i in range(0,3): \n",
    "    your = int(input(\"pic a nuber: \"))\n",
    "    one.append(your)\n",
    "    \n",
    "#creating the second array \n",
    "for i in range(0,5): \n",
    "    computer = random.randint(0,10000)\n",
    "    two.append(computer)\n",
    "    \n",
    "#join the arrays togehter \n",
    "one.extend(two)\n",
    "one = sorted(one)\n",
    "one.reverse()\n",
    "for i in one:\n",
    "    print(i)"
   ]
  },
  {
   "cell_type": "code",
   "execution_count": 5,
   "metadata": {},
   "outputs": [
    {
     "name": "stdout",
     "output_type": "stream",
     "text": [
      "pic a nuber: 1\n",
      "pic a nuber: 2\n",
      "pic a nuber: 3\n",
      "pic a nuber: 4\n",
      "pic a nuber: 5\n",
      "array('i', [1, 2, 3, 4, 5])\n",
      "chose one of the numbers:6\n",
      "6 is not a value in the old array\n",
      "array('i', [1, 2, 3, 4, 5])\n",
      "array('i')\n"
     ]
    }
   ],
   "source": [
    "#challange 93\n",
    "from array import*\n",
    "old = array(\"i\", [])\n",
    "new = array(\"i\", [])\n",
    "for i in range(0,5): \n",
    "    you = int(input(\"pic a nuber: \"))\n",
    "    old.append(you)\n",
    "\n",
    "print(old)\n",
    "\n",
    "away = int(input(\"chose one of the numbers:\"))\n",
    "\n",
    "if away in old: \n",
    "    \n",
    "    old.remove(away)\n",
    "    new.append(away)\n",
    "else: print(away, \"is not a value in the old array\")\n",
    "\n",
    "\n",
    "print (old)\n",
    "print(new )"
   ]
  },
  {
   "cell_type": "code",
   "execution_count": 17,
   "metadata": {},
   "outputs": [
    {
     "name": "stdout",
     "output_type": "stream",
     "text": [
      "array('i', [1, 5, 29, 100, 3])\n",
      "choose one of the numbers:30\n",
      "try again:90\n",
      "try again:2929\n",
      "try again:5\n",
      "5 is at posstion 1\n"
     ]
    }
   ],
   "source": [
    "#challange no 94\n",
    "\n",
    "from array import *\n",
    "\n",
    "five = array(\"i\", [1,5,29,100,3])\n",
    "print(five)\n",
    "\n",
    "away = int(input(\"choose one of the numbers:\"))\n",
    "wrong = True\n",
    "if away in five:\n",
    "    wrong = False \n",
    "    \n",
    "while wrong == True: \n",
    "    away = int(input(\"try again:\"))\n",
    "    if away in five: \n",
    "        wrong = False\n",
    "    \n",
    "position = five.index(away)\n",
    "\n",
    "print (away, \"is at posstion\", position)"
   ]
  },
  {
   "cell_type": "code",
   "execution_count": 29,
   "metadata": {},
   "outputs": [
    {
     "name": "stdout",
     "output_type": "stream",
     "text": [
      "a whole number between 2 and 5: 2\n",
      "5.01\n",
      "25.41\n",
      "14.88\n",
      "50.0\n",
      "15.41\n"
     ]
    }
   ],
   "source": [
    "#challange 95\n",
    "\n",
    "from array import * \n",
    "import math\n",
    "\n",
    "five = array(\"f\", [10.01,50.81,29.76,100.00,30.82])\n",
    "add = int(input(\"a whole number between 2 and 5: \"))\n",
    "\n",
    "wrong = True\n",
    "if add in range(2,6):\n",
    "    wrong = False \n",
    "    \n",
    "while wrong == True: \n",
    "    add = int(input(\"try again:\"))\n",
    "    if add in range(2,6): \n",
    "        wrong = False\n",
    "        \n",
    "        \n",
    "for i in range(0, 5): \n",
    "    new = round ((five[i]/add),2)\n",
    "    print (new)"
   ]
  },
  {
   "cell_type": "code",
   "execution_count": null,
   "metadata": {},
   "outputs": [],
   "source": []
  }
 ],
 "metadata": {
  "kernelspec": {
   "display_name": "Python 3",
   "language": "python",
   "name": "python3"
  },
  "language_info": {
   "codemirror_mode": {
    "name": "ipython",
    "version": 3
   },
   "file_extension": ".py",
   "mimetype": "text/x-python",
   "name": "python",
   "nbconvert_exporter": "python",
   "pygments_lexer": "ipython3",
   "version": "3.7.6"
  }
 },
 "nbformat": 4,
 "nbformat_minor": 4
}
