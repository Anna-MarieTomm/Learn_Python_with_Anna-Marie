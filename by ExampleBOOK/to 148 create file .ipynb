{
 "cells": [
  {
   "cell_type": "code",
   "execution_count": 1,
   "metadata": {},
   "outputs": [
    {
     "name": "stdout",
     "output_type": "stream",
     "text": [
      "1, SuperSchlumpf@@123>>\n",
      "\n"
     ]
    }
   ],
   "source": [
    "#create the csv file\n",
    "\n",
    "import csv \n",
    "file = open(\"ID.csv\", \"w\")\n",
    "ID =1\n",
    "password = \"SuperSchlumpf@@123>>\"\n",
    "\n",
    "newRecord = (str(ID) + \", \" + password +\"\\n\")\n",
    "file.write(str(newRecord))\n",
    "file.close()\n",
    "\n",
    "file = open (\"ID.csv\", \"r\")\n",
    "for row in file: \n",
    "    print (row)\n",
    "\n",
    "\n"
   ]
  },
  {
   "cell_type": "code",
   "execution_count": null,
   "metadata": {},
   "outputs": [],
   "source": []
  }
 ],
 "metadata": {
  "kernelspec": {
   "display_name": "Python 3",
   "language": "python",
   "name": "python3"
  },
  "language_info": {
   "codemirror_mode": {
    "name": "ipython",
    "version": 3
   },
   "file_extension": ".py",
   "mimetype": "text/x-python",
   "name": "python",
   "nbconvert_exporter": "python",
   "pygments_lexer": "ipython3",
   "version": "3.7.6"
  }
 },
 "nbformat": 4,
 "nbformat_minor": 4
}
